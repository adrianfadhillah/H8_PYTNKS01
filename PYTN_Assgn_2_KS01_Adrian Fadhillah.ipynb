{
 "cells": [
  {
   "cell_type": "markdown",
   "id": "97573d5d",
   "metadata": {
    "toc": true
   },
   "source": [
    "<h1>Table of Contents<span class=\"tocSkip\"></span></h1>\n",
    "<div class=\"toc\"><ul class=\"toc-item\"><li><span><a href=\"#MEAN\" data-toc-modified-id=\"MEAN-1\"><span class=\"toc-item-num\">1&nbsp;&nbsp;</span>MEAN</a></span><ul class=\"toc-item\"><li><span><a href=\"#Sale-Price-Mean\" data-toc-modified-id=\"Sale-Price-Mean-1.1\"><span class=\"toc-item-num\">1.1&nbsp;&nbsp;</span>Sale Price Mean</a></span></li><li><span><a href=\"#Mean-of-Total-Units-per-Year\" data-toc-modified-id=\"Mean-of-Total-Units-per-Year-1.2\"><span class=\"toc-item-num\">1.2&nbsp;&nbsp;</span>Mean of Total Units per Year</a></span></li></ul></li><li><span><a href=\"#MEDIAN\" data-toc-modified-id=\"MEDIAN-2\"><span class=\"toc-item-num\">2&nbsp;&nbsp;</span>MEDIAN</a></span><ul class=\"toc-item\"><li><span><a href=\"#Median-of-Sale-Price\" data-toc-modified-id=\"Median-of-Sale-Price-2.1\"><span class=\"toc-item-num\">2.1&nbsp;&nbsp;</span>Median of Sale Price</a></span></li><li><span><a href=\"#Median-of-Year-Sale\" data-toc-modified-id=\"Median-of-Year-Sale-2.2\"><span class=\"toc-item-num\">2.2&nbsp;&nbsp;</span>Median of Year Sale</a></span></li><li><span><a href=\"#Median-of-Total-Unit\" data-toc-modified-id=\"Median-of-Total-Unit-2.3\"><span class=\"toc-item-num\">2.3&nbsp;&nbsp;</span>Median of Total Unit</a></span></li></ul></li><li><span><a href=\"#MODUS\" data-toc-modified-id=\"MODUS-3\"><span class=\"toc-item-num\">3&nbsp;&nbsp;</span>MODUS</a></span><ul class=\"toc-item\"><li><span><a href=\"#Modus-of-Building-Class-at-Time-of-Sale\" data-toc-modified-id=\"Modus-of-Building-Class-at-Time-of-Sale-3.1\"><span class=\"toc-item-num\">3.1&nbsp;&nbsp;</span>Modus of Building Class at Time of Sale</a></span></li><li><span><a href=\"#Modus-of-Building-Class-at-Present\" data-toc-modified-id=\"Modus-of-Building-Class-at-Present-3.2\"><span class=\"toc-item-num\">3.2&nbsp;&nbsp;</span>Modus of Building Class at Present</a></span></li><li><span><a href=\"#Modus-of-Borough\" data-toc-modified-id=\"Modus-of-Borough-3.3\"><span class=\"toc-item-num\">3.3&nbsp;&nbsp;</span>Modus of Borough</a></span></li><li><span><a href=\"#Modus-of-Building-Class-Category\" data-toc-modified-id=\"Modus-of-Building-Class-Category-3.4\"><span class=\"toc-item-num\">3.4&nbsp;&nbsp;</span>Modus of Building Class Category</a></span></li></ul></li><li><span><a href=\"#RANGE\" data-toc-modified-id=\"RANGE-4\"><span class=\"toc-item-num\">4&nbsp;&nbsp;</span>RANGE</a></span><ul class=\"toc-item\"><li><span><a href=\"#Range-of-Price-Sale\" data-toc-modified-id=\"Range-of-Price-Sale-4.1\"><span class=\"toc-item-num\">4.1&nbsp;&nbsp;</span>Range of Price Sale</a></span></li><li><span><a href=\"#Range-of-Total-Unit-Sale\" data-toc-modified-id=\"Range-of-Total-Unit-Sale-4.2\"><span class=\"toc-item-num\">4.2&nbsp;&nbsp;</span>Range of Total Unit Sale</a></span></li></ul></li><li><span><a href=\"#VARIANCE\" data-toc-modified-id=\"VARIANCE-5\"><span class=\"toc-item-num\">5&nbsp;&nbsp;</span>VARIANCE</a></span></li><li><span><a href=\"#STANDARD-DEVIATION\" data-toc-modified-id=\"STANDARD-DEVIATION-6\"><span class=\"toc-item-num\">6&nbsp;&nbsp;</span>STANDARD DEVIATION</a></span></li><li><span><a href=\"#PROBABILITY-DISTRIBUTION\" data-toc-modified-id=\"PROBABILITY-DISTRIBUTION-7\"><span class=\"toc-item-num\">7&nbsp;&nbsp;</span>PROBABILITY DISTRIBUTION</a></span></li><li><span><a href=\"#CONFIDENCE-INTERVAL\" data-toc-modified-id=\"CONFIDENCE-INTERVAL-8\"><span class=\"toc-item-num\">8&nbsp;&nbsp;</span>CONFIDENCE INTERVAL</a></span></li><li><span><a href=\"#HYPOTHESIS-TESTING\" data-toc-modified-id=\"HYPOTHESIS-TESTING-9\"><span class=\"toc-item-num\">9&nbsp;&nbsp;</span>HYPOTHESIS TESTING</a></span></li></ul></div>"
   ]
  },
  {
   "cell_type": "markdown",
   "id": "679758cc",
   "metadata": {},
   "source": [
    " Preparing Data"
   ]
  },
  {
   "cell_type": "code",
   "execution_count": 227,
   "id": "b94ce1ba",
   "metadata": {},
   "outputs": [],
   "source": [
    "import math\n",
    "import statistics\n",
    "import numpy as np\n",
    "import scipy.stats\n",
    "import pandas as pd\n",
    "import seaborn as sns\n",
    "import matplotlib.pyplot as plt\n",
    "import statsmodels.api as sm\n",
    "import scipy.stats.distributions as dist"
   ]
  },
  {
   "cell_type": "code",
   "execution_count": 228,
   "id": "a5c3e9d6",
   "metadata": {},
   "outputs": [],
   "source": [
    "df = pd.read_csv('https://raw.githubusercontent.com/adrianfadhillah/H8_PYTNKS01/main/nyc-rolling-sales.csv', na_values=' -  ')"
   ]
  },
  {
   "cell_type": "code",
   "execution_count": 229,
   "id": "5534f486",
   "metadata": {},
   "outputs": [
    {
     "data": {
      "text/html": [
       "<div>\n",
       "<style scoped>\n",
       "    .dataframe tbody tr th:only-of-type {\n",
       "        vertical-align: middle;\n",
       "    }\n",
       "\n",
       "    .dataframe tbody tr th {\n",
       "        vertical-align: top;\n",
       "    }\n",
       "\n",
       "    .dataframe thead th {\n",
       "        text-align: right;\n",
       "    }\n",
       "</style>\n",
       "<table border=\"1\" class=\"dataframe\">\n",
       "  <thead>\n",
       "    <tr style=\"text-align: right;\">\n",
       "      <th></th>\n",
       "      <th>Unnamed: 0</th>\n",
       "      <th>BOROUGH</th>\n",
       "      <th>NEIGHBORHOOD</th>\n",
       "      <th>BUILDING CLASS CATEGORY</th>\n",
       "      <th>TAX CLASS AT PRESENT</th>\n",
       "      <th>BLOCK</th>\n",
       "      <th>LOT</th>\n",
       "      <th>EASE-MENT</th>\n",
       "      <th>BUILDING CLASS AT PRESENT</th>\n",
       "      <th>ADDRESS</th>\n",
       "      <th>...</th>\n",
       "      <th>RESIDENTIAL UNITS</th>\n",
       "      <th>COMMERCIAL UNITS</th>\n",
       "      <th>TOTAL UNITS</th>\n",
       "      <th>LAND SQUARE FEET</th>\n",
       "      <th>GROSS SQUARE FEET</th>\n",
       "      <th>YEAR BUILT</th>\n",
       "      <th>TAX CLASS AT TIME OF SALE</th>\n",
       "      <th>BUILDING CLASS AT TIME OF SALE</th>\n",
       "      <th>SALE PRICE</th>\n",
       "      <th>SALE DATE</th>\n",
       "    </tr>\n",
       "  </thead>\n",
       "  <tbody>\n",
       "    <tr>\n",
       "      <th>0</th>\n",
       "      <td>4</td>\n",
       "      <td>1</td>\n",
       "      <td>ALPHABET CITY</td>\n",
       "      <td>07 RENTALS - WALKUP APARTMENTS</td>\n",
       "      <td>2A</td>\n",
       "      <td>392</td>\n",
       "      <td>6</td>\n",
       "      <td></td>\n",
       "      <td>C2</td>\n",
       "      <td>153 AVENUE B</td>\n",
       "      <td>...</td>\n",
       "      <td>5</td>\n",
       "      <td>0</td>\n",
       "      <td>5</td>\n",
       "      <td>1633.0</td>\n",
       "      <td>6440.0</td>\n",
       "      <td>1900</td>\n",
       "      <td>2</td>\n",
       "      <td>C2</td>\n",
       "      <td>6625000.0</td>\n",
       "      <td>2017-07-19 00:00:00</td>\n",
       "    </tr>\n",
       "    <tr>\n",
       "      <th>1</th>\n",
       "      <td>5</td>\n",
       "      <td>1</td>\n",
       "      <td>ALPHABET CITY</td>\n",
       "      <td>07 RENTALS - WALKUP APARTMENTS</td>\n",
       "      <td>2</td>\n",
       "      <td>399</td>\n",
       "      <td>26</td>\n",
       "      <td></td>\n",
       "      <td>C7</td>\n",
       "      <td>234 EAST 4TH   STREET</td>\n",
       "      <td>...</td>\n",
       "      <td>28</td>\n",
       "      <td>3</td>\n",
       "      <td>31</td>\n",
       "      <td>4616.0</td>\n",
       "      <td>18690.0</td>\n",
       "      <td>1900</td>\n",
       "      <td>2</td>\n",
       "      <td>C7</td>\n",
       "      <td>NaN</td>\n",
       "      <td>2016-12-14 00:00:00</td>\n",
       "    </tr>\n",
       "    <tr>\n",
       "      <th>2</th>\n",
       "      <td>6</td>\n",
       "      <td>1</td>\n",
       "      <td>ALPHABET CITY</td>\n",
       "      <td>07 RENTALS - WALKUP APARTMENTS</td>\n",
       "      <td>2</td>\n",
       "      <td>399</td>\n",
       "      <td>39</td>\n",
       "      <td></td>\n",
       "      <td>C7</td>\n",
       "      <td>197 EAST 3RD   STREET</td>\n",
       "      <td>...</td>\n",
       "      <td>16</td>\n",
       "      <td>1</td>\n",
       "      <td>17</td>\n",
       "      <td>2212.0</td>\n",
       "      <td>7803.0</td>\n",
       "      <td>1900</td>\n",
       "      <td>2</td>\n",
       "      <td>C7</td>\n",
       "      <td>NaN</td>\n",
       "      <td>2016-12-09 00:00:00</td>\n",
       "    </tr>\n",
       "    <tr>\n",
       "      <th>3</th>\n",
       "      <td>7</td>\n",
       "      <td>1</td>\n",
       "      <td>ALPHABET CITY</td>\n",
       "      <td>07 RENTALS - WALKUP APARTMENTS</td>\n",
       "      <td>2B</td>\n",
       "      <td>402</td>\n",
       "      <td>21</td>\n",
       "      <td></td>\n",
       "      <td>C4</td>\n",
       "      <td>154 EAST 7TH STREET</td>\n",
       "      <td>...</td>\n",
       "      <td>10</td>\n",
       "      <td>0</td>\n",
       "      <td>10</td>\n",
       "      <td>2272.0</td>\n",
       "      <td>6794.0</td>\n",
       "      <td>1913</td>\n",
       "      <td>2</td>\n",
       "      <td>C4</td>\n",
       "      <td>3936272.0</td>\n",
       "      <td>2016-09-23 00:00:00</td>\n",
       "    </tr>\n",
       "    <tr>\n",
       "      <th>4</th>\n",
       "      <td>8</td>\n",
       "      <td>1</td>\n",
       "      <td>ALPHABET CITY</td>\n",
       "      <td>07 RENTALS - WALKUP APARTMENTS</td>\n",
       "      <td>2A</td>\n",
       "      <td>404</td>\n",
       "      <td>55</td>\n",
       "      <td></td>\n",
       "      <td>C2</td>\n",
       "      <td>301 EAST 10TH   STREET</td>\n",
       "      <td>...</td>\n",
       "      <td>6</td>\n",
       "      <td>0</td>\n",
       "      <td>6</td>\n",
       "      <td>2369.0</td>\n",
       "      <td>4615.0</td>\n",
       "      <td>1900</td>\n",
       "      <td>2</td>\n",
       "      <td>C2</td>\n",
       "      <td>8000000.0</td>\n",
       "      <td>2016-11-17 00:00:00</td>\n",
       "    </tr>\n",
       "  </tbody>\n",
       "</table>\n",
       "<p>5 rows × 22 columns</p>\n",
       "</div>"
      ],
      "text/plain": [
       "   Unnamed: 0  BOROUGH   NEIGHBORHOOD  \\\n",
       "0           4        1  ALPHABET CITY   \n",
       "1           5        1  ALPHABET CITY   \n",
       "2           6        1  ALPHABET CITY   \n",
       "3           7        1  ALPHABET CITY   \n",
       "4           8        1  ALPHABET CITY   \n",
       "\n",
       "                       BUILDING CLASS CATEGORY TAX CLASS AT PRESENT  BLOCK  \\\n",
       "0  07 RENTALS - WALKUP APARTMENTS                                2A    392   \n",
       "1  07 RENTALS - WALKUP APARTMENTS                                 2    399   \n",
       "2  07 RENTALS - WALKUP APARTMENTS                                 2    399   \n",
       "3  07 RENTALS - WALKUP APARTMENTS                                2B    402   \n",
       "4  07 RENTALS - WALKUP APARTMENTS                                2A    404   \n",
       "\n",
       "   LOT EASE-MENT BUILDING CLASS AT PRESENT                 ADDRESS  ...  \\\n",
       "0    6                                  C2            153 AVENUE B  ...   \n",
       "1   26                                  C7   234 EAST 4TH   STREET  ...   \n",
       "2   39                                  C7   197 EAST 3RD   STREET  ...   \n",
       "3   21                                  C4     154 EAST 7TH STREET  ...   \n",
       "4   55                                  C2  301 EAST 10TH   STREET  ...   \n",
       "\n",
       "  RESIDENTIAL UNITS  COMMERCIAL UNITS  TOTAL UNITS  LAND SQUARE FEET  \\\n",
       "0                 5                 0            5            1633.0   \n",
       "1                28                 3           31            4616.0   \n",
       "2                16                 1           17            2212.0   \n",
       "3                10                 0           10            2272.0   \n",
       "4                 6                 0            6            2369.0   \n",
       "\n",
       "   GROSS SQUARE FEET  YEAR BUILT  TAX CLASS AT TIME OF SALE  \\\n",
       "0             6440.0        1900                          2   \n",
       "1            18690.0        1900                          2   \n",
       "2             7803.0        1900                          2   \n",
       "3             6794.0        1913                          2   \n",
       "4             4615.0        1900                          2   \n",
       "\n",
       "   BUILDING CLASS AT TIME OF SALE  SALE PRICE            SALE DATE  \n",
       "0                              C2   6625000.0  2017-07-19 00:00:00  \n",
       "1                              C7         NaN  2016-12-14 00:00:00  \n",
       "2                              C7         NaN  2016-12-09 00:00:00  \n",
       "3                              C4   3936272.0  2016-09-23 00:00:00  \n",
       "4                              C2   8000000.0  2016-11-17 00:00:00  \n",
       "\n",
       "[5 rows x 22 columns]"
      ]
     },
     "execution_count": 229,
     "metadata": {},
     "output_type": "execute_result"
    }
   ],
   "source": [
    "df.head()"
   ]
  },
  {
   "cell_type": "code",
   "execution_count": 230,
   "id": "5e50cdce",
   "metadata": {},
   "outputs": [
    {
     "name": "stdout",
     "output_type": "stream",
     "text": [
      "<class 'pandas.core.frame.DataFrame'>\n",
      "RangeIndex: 84548 entries, 0 to 84547\n",
      "Data columns (total 22 columns):\n",
      " #   Column                          Non-Null Count  Dtype  \n",
      "---  ------                          --------------  -----  \n",
      " 0   Unnamed: 0                      84548 non-null  int64  \n",
      " 1   BOROUGH                         84548 non-null  int64  \n",
      " 2   NEIGHBORHOOD                    84548 non-null  object \n",
      " 3   BUILDING CLASS CATEGORY         84548 non-null  object \n",
      " 4   TAX CLASS AT PRESENT            84548 non-null  object \n",
      " 5   BLOCK                           84548 non-null  int64  \n",
      " 6   LOT                             84548 non-null  int64  \n",
      " 7   EASE-MENT                       84548 non-null  object \n",
      " 8   BUILDING CLASS AT PRESENT       84548 non-null  object \n",
      " 9   ADDRESS                         84548 non-null  object \n",
      " 10  APARTMENT NUMBER                84548 non-null  object \n",
      " 11  ZIP CODE                        84548 non-null  int64  \n",
      " 12  RESIDENTIAL UNITS               84548 non-null  int64  \n",
      " 13  COMMERCIAL UNITS                84548 non-null  int64  \n",
      " 14  TOTAL UNITS                     84548 non-null  int64  \n",
      " 15  LAND SQUARE FEET                58296 non-null  float64\n",
      " 16  GROSS SQUARE FEET               56936 non-null  float64\n",
      " 17  YEAR BUILT                      84548 non-null  int64  \n",
      " 18  TAX CLASS AT TIME OF SALE       84548 non-null  int64  \n",
      " 19  BUILDING CLASS AT TIME OF SALE  84548 non-null  object \n",
      " 20  SALE PRICE                      69987 non-null  float64\n",
      " 21  SALE DATE                       84548 non-null  object \n",
      "dtypes: float64(3), int64(10), object(9)\n",
      "memory usage: 14.2+ MB\n"
     ]
    }
   ],
   "source": [
    "df.info()"
   ]
  },
  {
   "cell_type": "code",
   "execution_count": 231,
   "id": "70a5a779",
   "metadata": {},
   "outputs": [],
   "source": [
    "df_a = df[['BOROUGH','BLOCK','LOT','BUILDING CLASS CATEGORY','BUILDING CLASS AT PRESENT', 'BUILDING CLASS AT TIME OF SALE','TOTAL UNITS','SALE PRICE','SALE DATE']]"
   ]
  },
  {
   "cell_type": "code",
   "execution_count": 237,
   "id": "654bc949",
   "metadata": {
    "scrolled": true
   },
   "outputs": [
    {
     "data": {
      "text/html": [
       "<div>\n",
       "<style scoped>\n",
       "    .dataframe tbody tr th:only-of-type {\n",
       "        vertical-align: middle;\n",
       "    }\n",
       "\n",
       "    .dataframe tbody tr th {\n",
       "        vertical-align: top;\n",
       "    }\n",
       "\n",
       "    .dataframe thead th {\n",
       "        text-align: right;\n",
       "    }\n",
       "</style>\n",
       "<table border=\"1\" class=\"dataframe\">\n",
       "  <thead>\n",
       "    <tr style=\"text-align: right;\">\n",
       "      <th></th>\n",
       "      <th>BOROUGH</th>\n",
       "      <th>BLOCK</th>\n",
       "      <th>LOT</th>\n",
       "      <th>BUILDING CLASS CATEGORY</th>\n",
       "      <th>BUILDING CLASS AT PRESENT</th>\n",
       "      <th>BUILDING CLASS AT TIME OF SALE</th>\n",
       "      <th>TOTAL UNITS</th>\n",
       "      <th>SALE PRICE</th>\n",
       "      <th>SALE DATE</th>\n",
       "    </tr>\n",
       "  </thead>\n",
       "  <tbody>\n",
       "    <tr>\n",
       "      <th>0</th>\n",
       "      <td>1</td>\n",
       "      <td>392</td>\n",
       "      <td>6</td>\n",
       "      <td>07 RENTALS - WALKUP APARTMENTS</td>\n",
       "      <td>C2</td>\n",
       "      <td>C2</td>\n",
       "      <td>5</td>\n",
       "      <td>6625000.0</td>\n",
       "      <td>07/2017</td>\n",
       "    </tr>\n",
       "    <tr>\n",
       "      <th>1</th>\n",
       "      <td>1</td>\n",
       "      <td>399</td>\n",
       "      <td>26</td>\n",
       "      <td>07 RENTALS - WALKUP APARTMENTS</td>\n",
       "      <td>C7</td>\n",
       "      <td>C7</td>\n",
       "      <td>31</td>\n",
       "      <td>NaN</td>\n",
       "      <td>12/2016</td>\n",
       "    </tr>\n",
       "    <tr>\n",
       "      <th>2</th>\n",
       "      <td>1</td>\n",
       "      <td>399</td>\n",
       "      <td>39</td>\n",
       "      <td>07 RENTALS - WALKUP APARTMENTS</td>\n",
       "      <td>C7</td>\n",
       "      <td>C7</td>\n",
       "      <td>17</td>\n",
       "      <td>NaN</td>\n",
       "      <td>12/2016</td>\n",
       "    </tr>\n",
       "    <tr>\n",
       "      <th>3</th>\n",
       "      <td>1</td>\n",
       "      <td>402</td>\n",
       "      <td>21</td>\n",
       "      <td>07 RENTALS - WALKUP APARTMENTS</td>\n",
       "      <td>C4</td>\n",
       "      <td>C4</td>\n",
       "      <td>10</td>\n",
       "      <td>3936272.0</td>\n",
       "      <td>09/2016</td>\n",
       "    </tr>\n",
       "    <tr>\n",
       "      <th>4</th>\n",
       "      <td>1</td>\n",
       "      <td>404</td>\n",
       "      <td>55</td>\n",
       "      <td>07 RENTALS - WALKUP APARTMENTS</td>\n",
       "      <td>C2</td>\n",
       "      <td>C2</td>\n",
       "      <td>6</td>\n",
       "      <td>8000000.0</td>\n",
       "      <td>11/2016</td>\n",
       "    </tr>\n",
       "  </tbody>\n",
       "</table>\n",
       "</div>"
      ],
      "text/plain": [
       "   BOROUGH  BLOCK  LOT                      BUILDING CLASS CATEGORY  \\\n",
       "0        1    392    6  07 RENTALS - WALKUP APARTMENTS                \n",
       "1        1    399   26  07 RENTALS - WALKUP APARTMENTS                \n",
       "2        1    399   39  07 RENTALS - WALKUP APARTMENTS                \n",
       "3        1    402   21  07 RENTALS - WALKUP APARTMENTS                \n",
       "4        1    404   55  07 RENTALS - WALKUP APARTMENTS                \n",
       "\n",
       "  BUILDING CLASS AT PRESENT BUILDING CLASS AT TIME OF SALE  TOTAL UNITS  \\\n",
       "0                        C2                             C2            5   \n",
       "1                        C7                             C7           31   \n",
       "2                        C7                             C7           17   \n",
       "3                        C4                             C4           10   \n",
       "4                        C2                             C2            6   \n",
       "\n",
       "   SALE PRICE SALE DATE  \n",
       "0   6625000.0   07/2017  \n",
       "1         NaN   12/2016  \n",
       "2         NaN   12/2016  \n",
       "3   3936272.0   09/2016  \n",
       "4   8000000.0   11/2016  "
      ]
     },
     "execution_count": 237,
     "metadata": {},
     "output_type": "execute_result"
    }
   ],
   "source": [
    "df_a.head()"
   ]
  },
  {
   "cell_type": "code",
   "execution_count": 238,
   "id": "54a1986a",
   "metadata": {},
   "outputs": [
    {
     "data": {
      "text/html": [
       "<div>\n",
       "<style scoped>\n",
       "    .dataframe tbody tr th:only-of-type {\n",
       "        vertical-align: middle;\n",
       "    }\n",
       "\n",
       "    .dataframe tbody tr th {\n",
       "        vertical-align: top;\n",
       "    }\n",
       "\n",
       "    .dataframe thead th {\n",
       "        text-align: right;\n",
       "    }\n",
       "</style>\n",
       "<table border=\"1\" class=\"dataframe\">\n",
       "  <thead>\n",
       "    <tr style=\"text-align: right;\">\n",
       "      <th></th>\n",
       "      <th>BOROUGH</th>\n",
       "      <th>BLOCK</th>\n",
       "      <th>LOT</th>\n",
       "      <th>BUILDING CLASS CATEGORY</th>\n",
       "      <th>BUILDING CLASS AT PRESENT</th>\n",
       "      <th>BUILDING CLASS AT TIME OF SALE</th>\n",
       "      <th>TOTAL UNITS</th>\n",
       "      <th>SALE PRICE</th>\n",
       "      <th>SALE DATE</th>\n",
       "    </tr>\n",
       "  </thead>\n",
       "  <tbody>\n",
       "    <tr>\n",
       "      <th>84543</th>\n",
       "      <td>5</td>\n",
       "      <td>7349</td>\n",
       "      <td>34</td>\n",
       "      <td>02 TWO FAMILY DWELLINGS</td>\n",
       "      <td>B9</td>\n",
       "      <td>B9</td>\n",
       "      <td>2</td>\n",
       "      <td>450000.0</td>\n",
       "      <td>11/2016</td>\n",
       "    </tr>\n",
       "    <tr>\n",
       "      <th>84544</th>\n",
       "      <td>5</td>\n",
       "      <td>7349</td>\n",
       "      <td>78</td>\n",
       "      <td>02 TWO FAMILY DWELLINGS</td>\n",
       "      <td>B9</td>\n",
       "      <td>B9</td>\n",
       "      <td>2</td>\n",
       "      <td>550000.0</td>\n",
       "      <td>04/2017</td>\n",
       "    </tr>\n",
       "    <tr>\n",
       "      <th>84545</th>\n",
       "      <td>5</td>\n",
       "      <td>7351</td>\n",
       "      <td>60</td>\n",
       "      <td>02 TWO FAMILY DWELLINGS</td>\n",
       "      <td>B2</td>\n",
       "      <td>B2</td>\n",
       "      <td>2</td>\n",
       "      <td>460000.0</td>\n",
       "      <td>07/2017</td>\n",
       "    </tr>\n",
       "    <tr>\n",
       "      <th>84546</th>\n",
       "      <td>5</td>\n",
       "      <td>7100</td>\n",
       "      <td>28</td>\n",
       "      <td>22 STORE BUILDINGS</td>\n",
       "      <td>K6</td>\n",
       "      <td>K6</td>\n",
       "      <td>7</td>\n",
       "      <td>11693337.0</td>\n",
       "      <td>12/2016</td>\n",
       "    </tr>\n",
       "    <tr>\n",
       "      <th>84547</th>\n",
       "      <td>5</td>\n",
       "      <td>7105</td>\n",
       "      <td>679</td>\n",
       "      <td>35 INDOOR PUBLIC AND CULTURAL FACILITIES</td>\n",
       "      <td>P9</td>\n",
       "      <td>P9</td>\n",
       "      <td>1</td>\n",
       "      <td>69300.0</td>\n",
       "      <td>10/2016</td>\n",
       "    </tr>\n",
       "  </tbody>\n",
       "</table>\n",
       "</div>"
      ],
      "text/plain": [
       "       BOROUGH  BLOCK  LOT                      BUILDING CLASS CATEGORY  \\\n",
       "84543        5   7349   34  02 TWO FAMILY DWELLINGS                       \n",
       "84544        5   7349   78  02 TWO FAMILY DWELLINGS                       \n",
       "84545        5   7351   60  02 TWO FAMILY DWELLINGS                       \n",
       "84546        5   7100   28  22 STORE BUILDINGS                            \n",
       "84547        5   7105  679  35 INDOOR PUBLIC AND CULTURAL FACILITIES      \n",
       "\n",
       "      BUILDING CLASS AT PRESENT BUILDING CLASS AT TIME OF SALE  TOTAL UNITS  \\\n",
       "84543                        B9                             B9            2   \n",
       "84544                        B9                             B9            2   \n",
       "84545                        B2                             B2            2   \n",
       "84546                        K6                             K6            7   \n",
       "84547                        P9                             P9            1   \n",
       "\n",
       "       SALE PRICE SALE DATE  \n",
       "84543    450000.0   11/2016  \n",
       "84544    550000.0   04/2017  \n",
       "84545    460000.0   07/2017  \n",
       "84546  11693337.0   12/2016  \n",
       "84547     69300.0   10/2016  "
      ]
     },
     "execution_count": 238,
     "metadata": {},
     "output_type": "execute_result"
    }
   ],
   "source": [
    "df_a.tail()"
   ]
  },
  {
   "cell_type": "code",
   "execution_count": 239,
   "id": "ddb6cbab",
   "metadata": {},
   "outputs": [
    {
     "name": "stderr",
     "output_type": "stream",
     "text": [
      "<ipython-input-239-f7bc109ff21d>:1: SettingWithCopyWarning: \n",
      "A value is trying to be set on a copy of a slice from a DataFrame.\n",
      "Try using .loc[row_indexer,col_indexer] = value instead\n",
      "\n",
      "See the caveats in the documentation: https://pandas.pydata.org/pandas-docs/stable/user_guide/indexing.html#returning-a-view-versus-a-copy\n",
      "  df_a['SALE DATE']= pd.to_datetime(df_a['SALE DATE'])\n"
     ]
    }
   ],
   "source": [
    "df_a['SALE DATE']= pd.to_datetime(df_a['SALE DATE'])"
   ]
  },
  {
   "cell_type": "code",
   "execution_count": 240,
   "id": "67f5dea9",
   "metadata": {},
   "outputs": [
    {
     "name": "stdout",
     "output_type": "stream",
     "text": [
      "<class 'pandas.core.frame.DataFrame'>\n",
      "RangeIndex: 84548 entries, 0 to 84547\n",
      "Data columns (total 9 columns):\n",
      " #   Column                          Non-Null Count  Dtype         \n",
      "---  ------                          --------------  -----         \n",
      " 0   BOROUGH                         84548 non-null  int64         \n",
      " 1   BLOCK                           84548 non-null  int64         \n",
      " 2   LOT                             84548 non-null  int64         \n",
      " 3   BUILDING CLASS CATEGORY         84548 non-null  object        \n",
      " 4   BUILDING CLASS AT PRESENT       84548 non-null  object        \n",
      " 5   BUILDING CLASS AT TIME OF SALE  84548 non-null  object        \n",
      " 6   TOTAL UNITS                     84548 non-null  int64         \n",
      " 7   SALE PRICE                      69987 non-null  float64       \n",
      " 8   SALE DATE                       84548 non-null  datetime64[ns]\n",
      "dtypes: datetime64[ns](1), float64(1), int64(4), object(3)\n",
      "memory usage: 5.8+ MB\n"
     ]
    }
   ],
   "source": [
    "df_a.info()"
   ]
  },
  {
   "cell_type": "code",
   "execution_count": 241,
   "id": "d03f9a92",
   "metadata": {},
   "outputs": [
    {
     "name": "stderr",
     "output_type": "stream",
     "text": [
      "<ipython-input-241-cda1702f605d>:1: SettingWithCopyWarning: \n",
      "A value is trying to be set on a copy of a slice from a DataFrame.\n",
      "Try using .loc[row_indexer,col_indexer] = value instead\n",
      "\n",
      "See the caveats in the documentation: https://pandas.pydata.org/pandas-docs/stable/user_guide/indexing.html#returning-a-view-versus-a-copy\n",
      "  df_a['SALE DATE'] = df_a['SALE DATE'].dt.strftime('%m/%Y')\n"
     ]
    }
   ],
   "source": [
    "df_a['SALE DATE'] = df_a['SALE DATE'].dt.strftime('%m/%Y')"
   ]
  },
  {
   "cell_type": "code",
   "execution_count": 242,
   "id": "af507d10",
   "metadata": {},
   "outputs": [
    {
     "data": {
      "text/html": [
       "<div>\n",
       "<style scoped>\n",
       "    .dataframe tbody tr th:only-of-type {\n",
       "        vertical-align: middle;\n",
       "    }\n",
       "\n",
       "    .dataframe tbody tr th {\n",
       "        vertical-align: top;\n",
       "    }\n",
       "\n",
       "    .dataframe thead th {\n",
       "        text-align: right;\n",
       "    }\n",
       "</style>\n",
       "<table border=\"1\" class=\"dataframe\">\n",
       "  <thead>\n",
       "    <tr style=\"text-align: right;\">\n",
       "      <th></th>\n",
       "      <th>BOROUGH</th>\n",
       "      <th>BLOCK</th>\n",
       "      <th>LOT</th>\n",
       "      <th>BUILDING CLASS CATEGORY</th>\n",
       "      <th>BUILDING CLASS AT PRESENT</th>\n",
       "      <th>BUILDING CLASS AT TIME OF SALE</th>\n",
       "      <th>TOTAL UNITS</th>\n",
       "      <th>SALE PRICE</th>\n",
       "      <th>SALE DATE</th>\n",
       "    </tr>\n",
       "  </thead>\n",
       "  <tbody>\n",
       "    <tr>\n",
       "      <th>0</th>\n",
       "      <td>1</td>\n",
       "      <td>392</td>\n",
       "      <td>6</td>\n",
       "      <td>07 RENTALS - WALKUP APARTMENTS</td>\n",
       "      <td>C2</td>\n",
       "      <td>C2</td>\n",
       "      <td>5</td>\n",
       "      <td>6625000.0</td>\n",
       "      <td>07/2017</td>\n",
       "    </tr>\n",
       "    <tr>\n",
       "      <th>1</th>\n",
       "      <td>1</td>\n",
       "      <td>399</td>\n",
       "      <td>26</td>\n",
       "      <td>07 RENTALS - WALKUP APARTMENTS</td>\n",
       "      <td>C7</td>\n",
       "      <td>C7</td>\n",
       "      <td>31</td>\n",
       "      <td>NaN</td>\n",
       "      <td>12/2016</td>\n",
       "    </tr>\n",
       "    <tr>\n",
       "      <th>2</th>\n",
       "      <td>1</td>\n",
       "      <td>399</td>\n",
       "      <td>39</td>\n",
       "      <td>07 RENTALS - WALKUP APARTMENTS</td>\n",
       "      <td>C7</td>\n",
       "      <td>C7</td>\n",
       "      <td>17</td>\n",
       "      <td>NaN</td>\n",
       "      <td>12/2016</td>\n",
       "    </tr>\n",
       "    <tr>\n",
       "      <th>3</th>\n",
       "      <td>1</td>\n",
       "      <td>402</td>\n",
       "      <td>21</td>\n",
       "      <td>07 RENTALS - WALKUP APARTMENTS</td>\n",
       "      <td>C4</td>\n",
       "      <td>C4</td>\n",
       "      <td>10</td>\n",
       "      <td>3936272.0</td>\n",
       "      <td>09/2016</td>\n",
       "    </tr>\n",
       "    <tr>\n",
       "      <th>4</th>\n",
       "      <td>1</td>\n",
       "      <td>404</td>\n",
       "      <td>55</td>\n",
       "      <td>07 RENTALS - WALKUP APARTMENTS</td>\n",
       "      <td>C2</td>\n",
       "      <td>C2</td>\n",
       "      <td>6</td>\n",
       "      <td>8000000.0</td>\n",
       "      <td>11/2016</td>\n",
       "    </tr>\n",
       "  </tbody>\n",
       "</table>\n",
       "</div>"
      ],
      "text/plain": [
       "   BOROUGH  BLOCK  LOT                      BUILDING CLASS CATEGORY  \\\n",
       "0        1    392    6  07 RENTALS - WALKUP APARTMENTS                \n",
       "1        1    399   26  07 RENTALS - WALKUP APARTMENTS                \n",
       "2        1    399   39  07 RENTALS - WALKUP APARTMENTS                \n",
       "3        1    402   21  07 RENTALS - WALKUP APARTMENTS                \n",
       "4        1    404   55  07 RENTALS - WALKUP APARTMENTS                \n",
       "\n",
       "  BUILDING CLASS AT PRESENT BUILDING CLASS AT TIME OF SALE  TOTAL UNITS  \\\n",
       "0                        C2                             C2            5   \n",
       "1                        C7                             C7           31   \n",
       "2                        C7                             C7           17   \n",
       "3                        C4                             C4           10   \n",
       "4                        C2                             C2            6   \n",
       "\n",
       "   SALE PRICE SALE DATE  \n",
       "0   6625000.0   07/2017  \n",
       "1         NaN   12/2016  \n",
       "2         NaN   12/2016  \n",
       "3   3936272.0   09/2016  \n",
       "4   8000000.0   11/2016  "
      ]
     },
     "execution_count": 242,
     "metadata": {},
     "output_type": "execute_result"
    }
   ],
   "source": [
    "df_a.head()"
   ]
  },
  {
   "cell_type": "code",
   "execution_count": 243,
   "id": "91b155d5",
   "metadata": {
    "scrolled": true
   },
   "outputs": [
    {
     "data": {
      "text/plain": [
       "BOROUGH                           10228\n",
       "BLOCK                             10228\n",
       "LOT                               10228\n",
       "BUILDING CLASS CATEGORY           10228\n",
       "BUILDING CLASS AT PRESENT         10228\n",
       "BUILDING CLASS AT TIME OF SALE    10228\n",
       "TOTAL UNITS                       10228\n",
       "SALE PRICE                        10228\n",
       "SALE DATE                         10228\n",
       "dtype: int64"
      ]
     },
     "execution_count": 243,
     "metadata": {},
     "output_type": "execute_result"
    }
   ],
   "source": [
    "df_a[df['SALE PRICE'] == 0].count()"
   ]
  },
  {
   "cell_type": "code",
   "execution_count": 244,
   "id": "551a8b2d",
   "metadata": {},
   "outputs": [],
   "source": [
    "df_a = df_a[df['SALE PRICE'] != 0]"
   ]
  },
  {
   "cell_type": "code",
   "execution_count": 245,
   "id": "a113bdf8",
   "metadata": {},
   "outputs": [
    {
     "data": {
      "text/plain": [
       "BOROUGH                           18737\n",
       "BLOCK                             18737\n",
       "LOT                               18737\n",
       "BUILDING CLASS CATEGORY           18737\n",
       "BUILDING CLASS AT PRESENT         18737\n",
       "BUILDING CLASS AT TIME OF SALE    18737\n",
       "TOTAL UNITS                       18737\n",
       "SALE PRICE                        16599\n",
       "SALE DATE                         18737\n",
       "dtype: int64"
      ]
     },
     "execution_count": 245,
     "metadata": {},
     "output_type": "execute_result"
    }
   ],
   "source": [
    "df_a[df_a[\"TOTAL UNITS\"] == 0].count()"
   ]
  },
  {
   "cell_type": "code",
   "execution_count": 246,
   "id": "c09542f2",
   "metadata": {},
   "outputs": [
    {
     "name": "stderr",
     "output_type": "stream",
     "text": [
      "<ipython-input-246-52099ff53e11>:1: UserWarning: Boolean Series key will be reindexed to match DataFrame index.\n",
      "  df_a = df_a[df['TOTAL UNITS'] != 0]\n"
     ]
    }
   ],
   "source": [
    "df_a = df_a[df['TOTAL UNITS'] != 0]"
   ]
  },
  {
   "cell_type": "code",
   "execution_count": 247,
   "id": "d75dcad9",
   "metadata": {},
   "outputs": [
    {
     "name": "stdout",
     "output_type": "stream",
     "text": [
      "<class 'pandas.core.frame.DataFrame'>\n",
      "Int64Index: 55583 entries, 0 to 84547\n",
      "Data columns (total 9 columns):\n",
      " #   Column                          Non-Null Count  Dtype  \n",
      "---  ------                          --------------  -----  \n",
      " 0   BOROUGH                         55583 non-null  int64  \n",
      " 1   BLOCK                           55583 non-null  int64  \n",
      " 2   LOT                             55583 non-null  int64  \n",
      " 3   BUILDING CLASS CATEGORY         55583 non-null  object \n",
      " 4   BUILDING CLASS AT PRESENT       55583 non-null  object \n",
      " 5   BUILDING CLASS AT TIME OF SALE  55583 non-null  object \n",
      " 6   TOTAL UNITS                     55583 non-null  int64  \n",
      " 7   SALE PRICE                      43160 non-null  float64\n",
      " 8   SALE DATE                       55583 non-null  object \n",
      "dtypes: float64(1), int64(4), object(4)\n",
      "memory usage: 4.2+ MB\n"
     ]
    }
   ],
   "source": [
    "df_a.info()"
   ]
  },
  {
   "cell_type": "code",
   "execution_count": 248,
   "id": "64aad336",
   "metadata": {},
   "outputs": [],
   "source": [
    "df_a.dropna(inplace=True)"
   ]
  },
  {
   "cell_type": "code",
   "execution_count": 249,
   "id": "cc41ab6b",
   "metadata": {},
   "outputs": [
    {
     "data": {
      "text/plain": [
       "0"
      ]
     },
     "execution_count": 249,
     "metadata": {},
     "output_type": "execute_result"
    }
   ],
   "source": [
    "df_a['SALE PRICE'].isna().sum()"
   ]
  },
  {
   "cell_type": "code",
   "execution_count": 250,
   "id": "b6f52744",
   "metadata": {
    "scrolled": true
   },
   "outputs": [
    {
     "data": {
      "text/html": [
       "<div>\n",
       "<style scoped>\n",
       "    .dataframe tbody tr th:only-of-type {\n",
       "        vertical-align: middle;\n",
       "    }\n",
       "\n",
       "    .dataframe tbody tr th {\n",
       "        vertical-align: top;\n",
       "    }\n",
       "\n",
       "    .dataframe thead th {\n",
       "        text-align: right;\n",
       "    }\n",
       "</style>\n",
       "<table border=\"1\" class=\"dataframe\">\n",
       "  <thead>\n",
       "    <tr style=\"text-align: right;\">\n",
       "      <th></th>\n",
       "      <th>BOROUGH</th>\n",
       "      <th>BLOCK</th>\n",
       "      <th>LOT</th>\n",
       "      <th>BUILDING CLASS CATEGORY</th>\n",
       "      <th>BUILDING CLASS AT PRESENT</th>\n",
       "      <th>BUILDING CLASS AT TIME OF SALE</th>\n",
       "      <th>TOTAL UNITS</th>\n",
       "      <th>SALE PRICE</th>\n",
       "      <th>SALE DATE</th>\n",
       "    </tr>\n",
       "  </thead>\n",
       "  <tbody>\n",
       "    <tr>\n",
       "      <th>0</th>\n",
       "      <td>1</td>\n",
       "      <td>392</td>\n",
       "      <td>6</td>\n",
       "      <td>07 RENTALS - WALKUP APARTMENTS</td>\n",
       "      <td>C2</td>\n",
       "      <td>C2</td>\n",
       "      <td>5</td>\n",
       "      <td>6625000.0</td>\n",
       "      <td>07/2017</td>\n",
       "    </tr>\n",
       "    <tr>\n",
       "      <th>3</th>\n",
       "      <td>1</td>\n",
       "      <td>402</td>\n",
       "      <td>21</td>\n",
       "      <td>07 RENTALS - WALKUP APARTMENTS</td>\n",
       "      <td>C4</td>\n",
       "      <td>C4</td>\n",
       "      <td>10</td>\n",
       "      <td>3936272.0</td>\n",
       "      <td>09/2016</td>\n",
       "    </tr>\n",
       "    <tr>\n",
       "      <th>4</th>\n",
       "      <td>1</td>\n",
       "      <td>404</td>\n",
       "      <td>55</td>\n",
       "      <td>07 RENTALS - WALKUP APARTMENTS</td>\n",
       "      <td>C2</td>\n",
       "      <td>C2</td>\n",
       "      <td>6</td>\n",
       "      <td>8000000.0</td>\n",
       "      <td>11/2016</td>\n",
       "    </tr>\n",
       "    <tr>\n",
       "      <th>6</th>\n",
       "      <td>1</td>\n",
       "      <td>406</td>\n",
       "      <td>32</td>\n",
       "      <td>07 RENTALS - WALKUP APARTMENTS</td>\n",
       "      <td>C4</td>\n",
       "      <td>C4</td>\n",
       "      <td>8</td>\n",
       "      <td>3192840.0</td>\n",
       "      <td>09/2016</td>\n",
       "    </tr>\n",
       "    <tr>\n",
       "      <th>9</th>\n",
       "      <td>1</td>\n",
       "      <td>387</td>\n",
       "      <td>153</td>\n",
       "      <td>08 RENTALS - ELEVATOR APARTMENTS</td>\n",
       "      <td>D9</td>\n",
       "      <td>D9</td>\n",
       "      <td>24</td>\n",
       "      <td>16232000.0</td>\n",
       "      <td>11/2016</td>\n",
       "    </tr>\n",
       "  </tbody>\n",
       "</table>\n",
       "</div>"
      ],
      "text/plain": [
       "   BOROUGH  BLOCK  LOT                      BUILDING CLASS CATEGORY  \\\n",
       "0        1    392    6  07 RENTALS - WALKUP APARTMENTS                \n",
       "3        1    402   21  07 RENTALS - WALKUP APARTMENTS                \n",
       "4        1    404   55  07 RENTALS - WALKUP APARTMENTS                \n",
       "6        1    406   32  07 RENTALS - WALKUP APARTMENTS                \n",
       "9        1    387  153  08 RENTALS - ELEVATOR APARTMENTS              \n",
       "\n",
       "  BUILDING CLASS AT PRESENT BUILDING CLASS AT TIME OF SALE  TOTAL UNITS  \\\n",
       "0                        C2                             C2            5   \n",
       "3                        C4                             C4           10   \n",
       "4                        C2                             C2            6   \n",
       "6                        C4                             C4            8   \n",
       "9                        D9                             D9           24   \n",
       "\n",
       "   SALE PRICE SALE DATE  \n",
       "0   6625000.0   07/2017  \n",
       "3   3936272.0   09/2016  \n",
       "4   8000000.0   11/2016  \n",
       "6   3192840.0   09/2016  \n",
       "9  16232000.0   11/2016  "
      ]
     },
     "execution_count": 250,
     "metadata": {},
     "output_type": "execute_result"
    }
   ],
   "source": [
    "df_a.head()"
   ]
  },
  {
   "cell_type": "code",
   "execution_count": 251,
   "id": "fbd9484f",
   "metadata": {},
   "outputs": [
    {
     "data": {
      "text/html": [
       "<div>\n",
       "<style scoped>\n",
       "    .dataframe tbody tr th:only-of-type {\n",
       "        vertical-align: middle;\n",
       "    }\n",
       "\n",
       "    .dataframe tbody tr th {\n",
       "        vertical-align: top;\n",
       "    }\n",
       "\n",
       "    .dataframe thead th {\n",
       "        text-align: right;\n",
       "    }\n",
       "</style>\n",
       "<table border=\"1\" class=\"dataframe\">\n",
       "  <thead>\n",
       "    <tr style=\"text-align: right;\">\n",
       "      <th></th>\n",
       "      <th>BOROUGH</th>\n",
       "      <th>BLOCK</th>\n",
       "      <th>LOT</th>\n",
       "      <th>TOTAL UNITS</th>\n",
       "      <th>SALE PRICE</th>\n",
       "    </tr>\n",
       "  </thead>\n",
       "  <tbody>\n",
       "    <tr>\n",
       "      <th>count</th>\n",
       "      <td>43160.000000</td>\n",
       "      <td>43160.000000</td>\n",
       "      <td>43160.000000</td>\n",
       "      <td>43160.000000</td>\n",
       "      <td>4.316000e+04</td>\n",
       "    </tr>\n",
       "    <tr>\n",
       "      <th>mean</th>\n",
       "      <td>3.152294</td>\n",
       "      <td>4527.712373</td>\n",
       "      <td>470.028916</td>\n",
       "      <td>2.635797</td>\n",
       "      <td>1.708530e+06</td>\n",
       "    </tr>\n",
       "    <tr>\n",
       "      <th>std</th>\n",
       "      <td>1.257577</td>\n",
       "      <td>3725.567166</td>\n",
       "      <td>714.849445</td>\n",
       "      <td>20.353841</td>\n",
       "      <td>1.423455e+07</td>\n",
       "    </tr>\n",
       "    <tr>\n",
       "      <th>min</th>\n",
       "      <td>1.000000</td>\n",
       "      <td>1.000000</td>\n",
       "      <td>1.000000</td>\n",
       "      <td>1.000000</td>\n",
       "      <td>1.000000e+00</td>\n",
       "    </tr>\n",
       "    <tr>\n",
       "      <th>25%</th>\n",
       "      <td>2.000000</td>\n",
       "      <td>1397.000000</td>\n",
       "      <td>27.000000</td>\n",
       "      <td>1.000000</td>\n",
       "      <td>4.400000e+05</td>\n",
       "    </tr>\n",
       "    <tr>\n",
       "      <th>50%</th>\n",
       "      <td>3.000000</td>\n",
       "      <td>3799.000000</td>\n",
       "      <td>62.000000</td>\n",
       "      <td>1.000000</td>\n",
       "      <td>6.875000e+05</td>\n",
       "    </tr>\n",
       "    <tr>\n",
       "      <th>75%</th>\n",
       "      <td>4.000000</td>\n",
       "      <td>6628.250000</td>\n",
       "      <td>1033.000000</td>\n",
       "      <td>2.000000</td>\n",
       "      <td>1.172650e+06</td>\n",
       "    </tr>\n",
       "    <tr>\n",
       "      <th>max</th>\n",
       "      <td>5.000000</td>\n",
       "      <td>16319.000000</td>\n",
       "      <td>9106.000000</td>\n",
       "      <td>2261.000000</td>\n",
       "      <td>2.210000e+09</td>\n",
       "    </tr>\n",
       "  </tbody>\n",
       "</table>\n",
       "</div>"
      ],
      "text/plain": [
       "            BOROUGH         BLOCK           LOT   TOTAL UNITS    SALE PRICE\n",
       "count  43160.000000  43160.000000  43160.000000  43160.000000  4.316000e+04\n",
       "mean       3.152294   4527.712373    470.028916      2.635797  1.708530e+06\n",
       "std        1.257577   3725.567166    714.849445     20.353841  1.423455e+07\n",
       "min        1.000000      1.000000      1.000000      1.000000  1.000000e+00\n",
       "25%        2.000000   1397.000000     27.000000      1.000000  4.400000e+05\n",
       "50%        3.000000   3799.000000     62.000000      1.000000  6.875000e+05\n",
       "75%        4.000000   6628.250000   1033.000000      2.000000  1.172650e+06\n",
       "max        5.000000  16319.000000   9106.000000   2261.000000  2.210000e+09"
      ]
     },
     "execution_count": 251,
     "metadata": {},
     "output_type": "execute_result"
    }
   ],
   "source": [
    "df_a.describe()"
   ]
  },
  {
   "cell_type": "markdown",
   "id": "18ec54f8",
   "metadata": {},
   "source": [
    "## MEAN"
   ]
  },
  {
   "cell_type": "markdown",
   "id": "69b6183a",
   "metadata": {},
   "source": [
    "### Sale Price Mean"
   ]
  },
  {
   "cell_type": "code",
   "execution_count": 253,
   "id": "b57e3354",
   "metadata": {},
   "outputs": [
    {
     "data": {
      "text/plain": [
       "1708529.549536608"
      ]
     },
     "execution_count": 253,
     "metadata": {},
     "output_type": "execute_result"
    }
   ],
   "source": [
    "df_a['SALE PRICE'].mean()"
   ]
  },
  {
   "cell_type": "markdown",
   "id": "e3815c87",
   "metadata": {},
   "source": [
    "### Mean of Total Units per Year"
   ]
  },
  {
   "cell_type": "code",
   "execution_count": 258,
   "id": "56a140b4",
   "metadata": {},
   "outputs": [
    {
     "ename": "AttributeError",
     "evalue": "'Series' object has no attribute 'year'",
     "output_type": "error",
     "traceback": [
      "\u001b[1;31m---------------------------------------------------------------------------\u001b[0m",
      "\u001b[1;31mAttributeError\u001b[0m                            Traceback (most recent call last)",
      "\u001b[1;32m<ipython-input-258-c3ae26c05b1f>\u001b[0m in \u001b[0;36m<module>\u001b[1;34m\u001b[0m\n\u001b[1;32m----> 1\u001b[1;33m \u001b[0mdf_a\u001b[0m\u001b[1;33m[\u001b[0m\u001b[1;34m'Year Sale'\u001b[0m\u001b[1;33m]\u001b[0m \u001b[1;33m=\u001b[0m \u001b[0mdf_a\u001b[0m\u001b[1;33m[\u001b[0m\u001b[1;34m'SALE DATE'\u001b[0m\u001b[1;33m]\u001b[0m\u001b[1;33m.\u001b[0m\u001b[0myear\u001b[0m\u001b[1;33m\u001b[0m\u001b[1;33m\u001b[0m\u001b[0m\n\u001b[0m",
      "\u001b[1;32mC:\\ProgramData\\Anaconda3\\lib\\site-packages\\pandas\\core\\generic.py\u001b[0m in \u001b[0;36m__getattr__\u001b[1;34m(self, name)\u001b[0m\n\u001b[0;32m   5463\u001b[0m             \u001b[1;32mif\u001b[0m \u001b[0mself\u001b[0m\u001b[1;33m.\u001b[0m\u001b[0m_info_axis\u001b[0m\u001b[1;33m.\u001b[0m\u001b[0m_can_hold_identifiers_and_holds_name\u001b[0m\u001b[1;33m(\u001b[0m\u001b[0mname\u001b[0m\u001b[1;33m)\u001b[0m\u001b[1;33m:\u001b[0m\u001b[1;33m\u001b[0m\u001b[1;33m\u001b[0m\u001b[0m\n\u001b[0;32m   5464\u001b[0m                 \u001b[1;32mreturn\u001b[0m \u001b[0mself\u001b[0m\u001b[1;33m[\u001b[0m\u001b[0mname\u001b[0m\u001b[1;33m]\u001b[0m\u001b[1;33m\u001b[0m\u001b[1;33m\u001b[0m\u001b[0m\n\u001b[1;32m-> 5465\u001b[1;33m             \u001b[1;32mreturn\u001b[0m \u001b[0mobject\u001b[0m\u001b[1;33m.\u001b[0m\u001b[0m__getattribute__\u001b[0m\u001b[1;33m(\u001b[0m\u001b[0mself\u001b[0m\u001b[1;33m,\u001b[0m \u001b[0mname\u001b[0m\u001b[1;33m)\u001b[0m\u001b[1;33m\u001b[0m\u001b[1;33m\u001b[0m\u001b[0m\n\u001b[0m\u001b[0;32m   5466\u001b[0m \u001b[1;33m\u001b[0m\u001b[0m\n\u001b[0;32m   5467\u001b[0m     \u001b[1;32mdef\u001b[0m \u001b[0m__setattr__\u001b[0m\u001b[1;33m(\u001b[0m\u001b[0mself\u001b[0m\u001b[1;33m,\u001b[0m \u001b[0mname\u001b[0m\u001b[1;33m:\u001b[0m \u001b[0mstr\u001b[0m\u001b[1;33m,\u001b[0m \u001b[0mvalue\u001b[0m\u001b[1;33m)\u001b[0m \u001b[1;33m->\u001b[0m \u001b[1;32mNone\u001b[0m\u001b[1;33m:\u001b[0m\u001b[1;33m\u001b[0m\u001b[1;33m\u001b[0m\u001b[0m\n",
      "\u001b[1;31mAttributeError\u001b[0m: 'Series' object has no attribute 'year'"
     ]
    }
   ],
   "source": [
    "df_a['Year Sale'] = pd. DatetimeIndex(df_a['DATE']). year."
   ]
  },
  {
   "cell_type": "code",
   "execution_count": 24,
   "id": "8515a682",
   "metadata": {},
   "outputs": [
    {
     "ename": "KeyError",
     "evalue": "\"['Year Sale'] not in index\"",
     "output_type": "error",
     "traceback": [
      "\u001b[1;31m---------------------------------------------------------------------------\u001b[0m",
      "\u001b[1;31mKeyError\u001b[0m                                  Traceback (most recent call last)",
      "\u001b[1;32m<ipython-input-24-28599780b3be>\u001b[0m in \u001b[0;36m<module>\u001b[1;34m\u001b[0m\n\u001b[1;32m----> 1\u001b[1;33m \u001b[0mTU16\u001b[0m \u001b[1;33m=\u001b[0m \u001b[0mdf_a\u001b[0m\u001b[1;33m[\u001b[0m\u001b[1;33m[\u001b[0m\u001b[1;34m'TOTAL UNITS'\u001b[0m\u001b[1;33m,\u001b[0m\u001b[1;34m'Year Sale'\u001b[0m\u001b[1;33m]\u001b[0m\u001b[1;33m]\u001b[0m\u001b[1;33m\u001b[0m\u001b[1;33m\u001b[0m\u001b[0m\n\u001b[0m",
      "\u001b[1;32mC:\\ProgramData\\Anaconda3\\lib\\site-packages\\pandas\\core\\frame.py\u001b[0m in \u001b[0;36m__getitem__\u001b[1;34m(self, key)\u001b[0m\n\u001b[0;32m   3028\u001b[0m             \u001b[1;32mif\u001b[0m \u001b[0mis_iterator\u001b[0m\u001b[1;33m(\u001b[0m\u001b[0mkey\u001b[0m\u001b[1;33m)\u001b[0m\u001b[1;33m:\u001b[0m\u001b[1;33m\u001b[0m\u001b[1;33m\u001b[0m\u001b[0m\n\u001b[0;32m   3029\u001b[0m                 \u001b[0mkey\u001b[0m \u001b[1;33m=\u001b[0m \u001b[0mlist\u001b[0m\u001b[1;33m(\u001b[0m\u001b[0mkey\u001b[0m\u001b[1;33m)\u001b[0m\u001b[1;33m\u001b[0m\u001b[1;33m\u001b[0m\u001b[0m\n\u001b[1;32m-> 3030\u001b[1;33m             \u001b[0mindexer\u001b[0m \u001b[1;33m=\u001b[0m \u001b[0mself\u001b[0m\u001b[1;33m.\u001b[0m\u001b[0mloc\u001b[0m\u001b[1;33m.\u001b[0m\u001b[0m_get_listlike_indexer\u001b[0m\u001b[1;33m(\u001b[0m\u001b[0mkey\u001b[0m\u001b[1;33m,\u001b[0m \u001b[0maxis\u001b[0m\u001b[1;33m=\u001b[0m\u001b[1;36m1\u001b[0m\u001b[1;33m,\u001b[0m \u001b[0mraise_missing\u001b[0m\u001b[1;33m=\u001b[0m\u001b[1;32mTrue\u001b[0m\u001b[1;33m)\u001b[0m\u001b[1;33m[\u001b[0m\u001b[1;36m1\u001b[0m\u001b[1;33m]\u001b[0m\u001b[1;33m\u001b[0m\u001b[1;33m\u001b[0m\u001b[0m\n\u001b[0m\u001b[0;32m   3031\u001b[0m \u001b[1;33m\u001b[0m\u001b[0m\n\u001b[0;32m   3032\u001b[0m         \u001b[1;31m# take() does not accept boolean indexers\u001b[0m\u001b[1;33m\u001b[0m\u001b[1;33m\u001b[0m\u001b[1;33m\u001b[0m\u001b[0m\n",
      "\u001b[1;32mC:\\ProgramData\\Anaconda3\\lib\\site-packages\\pandas\\core\\indexing.py\u001b[0m in \u001b[0;36m_get_listlike_indexer\u001b[1;34m(self, key, axis, raise_missing)\u001b[0m\n\u001b[0;32m   1264\u001b[0m             \u001b[0mkeyarr\u001b[0m\u001b[1;33m,\u001b[0m \u001b[0mindexer\u001b[0m\u001b[1;33m,\u001b[0m \u001b[0mnew_indexer\u001b[0m \u001b[1;33m=\u001b[0m \u001b[0max\u001b[0m\u001b[1;33m.\u001b[0m\u001b[0m_reindex_non_unique\u001b[0m\u001b[1;33m(\u001b[0m\u001b[0mkeyarr\u001b[0m\u001b[1;33m)\u001b[0m\u001b[1;33m\u001b[0m\u001b[1;33m\u001b[0m\u001b[0m\n\u001b[0;32m   1265\u001b[0m \u001b[1;33m\u001b[0m\u001b[0m\n\u001b[1;32m-> 1266\u001b[1;33m         \u001b[0mself\u001b[0m\u001b[1;33m.\u001b[0m\u001b[0m_validate_read_indexer\u001b[0m\u001b[1;33m(\u001b[0m\u001b[0mkeyarr\u001b[0m\u001b[1;33m,\u001b[0m \u001b[0mindexer\u001b[0m\u001b[1;33m,\u001b[0m \u001b[0maxis\u001b[0m\u001b[1;33m,\u001b[0m \u001b[0mraise_missing\u001b[0m\u001b[1;33m=\u001b[0m\u001b[0mraise_missing\u001b[0m\u001b[1;33m)\u001b[0m\u001b[1;33m\u001b[0m\u001b[1;33m\u001b[0m\u001b[0m\n\u001b[0m\u001b[0;32m   1267\u001b[0m         \u001b[1;32mreturn\u001b[0m \u001b[0mkeyarr\u001b[0m\u001b[1;33m,\u001b[0m \u001b[0mindexer\u001b[0m\u001b[1;33m\u001b[0m\u001b[1;33m\u001b[0m\u001b[0m\n\u001b[0;32m   1268\u001b[0m \u001b[1;33m\u001b[0m\u001b[0m\n",
      "\u001b[1;32mC:\\ProgramData\\Anaconda3\\lib\\site-packages\\pandas\\core\\indexing.py\u001b[0m in \u001b[0;36m_validate_read_indexer\u001b[1;34m(self, key, indexer, axis, raise_missing)\u001b[0m\n\u001b[0;32m   1314\u001b[0m             \u001b[1;32mif\u001b[0m \u001b[0mraise_missing\u001b[0m\u001b[1;33m:\u001b[0m\u001b[1;33m\u001b[0m\u001b[1;33m\u001b[0m\u001b[0m\n\u001b[0;32m   1315\u001b[0m                 \u001b[0mnot_found\u001b[0m \u001b[1;33m=\u001b[0m \u001b[0mlist\u001b[0m\u001b[1;33m(\u001b[0m\u001b[0mset\u001b[0m\u001b[1;33m(\u001b[0m\u001b[0mkey\u001b[0m\u001b[1;33m)\u001b[0m \u001b[1;33m-\u001b[0m \u001b[0mset\u001b[0m\u001b[1;33m(\u001b[0m\u001b[0max\u001b[0m\u001b[1;33m)\u001b[0m\u001b[1;33m)\u001b[0m\u001b[1;33m\u001b[0m\u001b[1;33m\u001b[0m\u001b[0m\n\u001b[1;32m-> 1316\u001b[1;33m                 \u001b[1;32mraise\u001b[0m \u001b[0mKeyError\u001b[0m\u001b[1;33m(\u001b[0m\u001b[1;34mf\"{not_found} not in index\"\u001b[0m\u001b[1;33m)\u001b[0m\u001b[1;33m\u001b[0m\u001b[1;33m\u001b[0m\u001b[0m\n\u001b[0m\u001b[0;32m   1317\u001b[0m \u001b[1;33m\u001b[0m\u001b[0m\n\u001b[0;32m   1318\u001b[0m             \u001b[0mnot_found\u001b[0m \u001b[1;33m=\u001b[0m \u001b[0mkey\u001b[0m\u001b[1;33m[\u001b[0m\u001b[0mmissing_mask\u001b[0m\u001b[1;33m]\u001b[0m\u001b[1;33m\u001b[0m\u001b[1;33m\u001b[0m\u001b[0m\n",
      "\u001b[1;31mKeyError\u001b[0m: \"['Year Sale'] not in index\""
     ]
    }
   ],
   "source": [
    "TU16 = df_a[['TOTAL UNITS','Year Sale']]"
   ]
  },
  {
   "cell_type": "code",
   "execution_count": null,
   "id": "d8652fe2",
   "metadata": {},
   "outputs": [],
   "source": [
    "TU16= TU16.groupby(['Year Sale']).sum().reset_index()"
   ]
  },
  {
   "cell_type": "code",
   "execution_count": 25,
   "id": "ddf66880",
   "metadata": {},
   "outputs": [
    {
     "ename": "NameError",
     "evalue": "name 'TU16' is not defined",
     "output_type": "error",
     "traceback": [
      "\u001b[1;31m---------------------------------------------------------------------------\u001b[0m",
      "\u001b[1;31mNameError\u001b[0m                                 Traceback (most recent call last)",
      "\u001b[1;32m<ipython-input-25-339ff21a8248>\u001b[0m in \u001b[0;36m<module>\u001b[1;34m\u001b[0m\n\u001b[1;32m----> 1\u001b[1;33m \u001b[0mTU16\u001b[0m\u001b[1;33m.\u001b[0m\u001b[0mhead\u001b[0m\u001b[1;33m(\u001b[0m\u001b[1;33m)\u001b[0m\u001b[1;33m\u001b[0m\u001b[1;33m\u001b[0m\u001b[0m\n\u001b[0m",
      "\u001b[1;31mNameError\u001b[0m: name 'TU16' is not defined"
     ]
    }
   ],
   "source": [
    "TU16.head()"
   ]
  },
  {
   "cell_type": "code",
   "execution_count": 26,
   "id": "55cc665a",
   "metadata": {},
   "outputs": [
    {
     "ename": "NameError",
     "evalue": "name 'TU16' is not defined",
     "output_type": "error",
     "traceback": [
      "\u001b[1;31m---------------------------------------------------------------------------\u001b[0m",
      "\u001b[1;31mNameError\u001b[0m                                 Traceback (most recent call last)",
      "\u001b[1;32m<ipython-input-26-625342b78438>\u001b[0m in \u001b[0;36m<module>\u001b[1;34m\u001b[0m\n\u001b[1;32m----> 1\u001b[1;33m \u001b[0mTU16\u001b[0m\u001b[1;33m[\u001b[0m\u001b[1;34m'TOTAL UNITS'\u001b[0m\u001b[1;33m]\u001b[0m\u001b[1;33m.\u001b[0m\u001b[0mmean\u001b[0m\u001b[1;33m(\u001b[0m\u001b[1;33m)\u001b[0m\u001b[1;33m\u001b[0m\u001b[1;33m\u001b[0m\u001b[0m\n\u001b[0m",
      "\u001b[1;31mNameError\u001b[0m: name 'TU16' is not defined"
     ]
    }
   ],
   "source": [
    "TU16['TOTAL UNITS'].mean()"
   ]
  },
  {
   "cell_type": "markdown",
   "id": "5b4ba0a2",
   "metadata": {},
   "source": [
    "## MEDIAN"
   ]
  },
  {
   "cell_type": "markdown",
   "id": "b21d5ae5",
   "metadata": {},
   "source": [
    "### Median of Sale Price"
   ]
  },
  {
   "cell_type": "code",
   "execution_count": 27,
   "id": "bb07e01f",
   "metadata": {},
   "outputs": [
    {
     "data": {
      "text/plain": [
       "687500.0"
      ]
     },
     "execution_count": 27,
     "metadata": {},
     "output_type": "execute_result"
    }
   ],
   "source": [
    "df_a['SALE PRICE'].median()"
   ]
  },
  {
   "cell_type": "markdown",
   "id": "f66fa1c0",
   "metadata": {},
   "source": [
    "### Median of Year Sale"
   ]
  },
  {
   "cell_type": "code",
   "execution_count": 28,
   "id": "2bd77d8d",
   "metadata": {},
   "outputs": [
    {
     "ename": "KeyError",
     "evalue": "'Year Sale'",
     "output_type": "error",
     "traceback": [
      "\u001b[1;31m---------------------------------------------------------------------------\u001b[0m",
      "\u001b[1;31mKeyError\u001b[0m                                  Traceback (most recent call last)",
      "\u001b[1;32mC:\\ProgramData\\Anaconda3\\lib\\site-packages\\pandas\\core\\indexes\\base.py\u001b[0m in \u001b[0;36mget_loc\u001b[1;34m(self, key, method, tolerance)\u001b[0m\n\u001b[0;32m   3079\u001b[0m             \u001b[1;32mtry\u001b[0m\u001b[1;33m:\u001b[0m\u001b[1;33m\u001b[0m\u001b[1;33m\u001b[0m\u001b[0m\n\u001b[1;32m-> 3080\u001b[1;33m                 \u001b[1;32mreturn\u001b[0m \u001b[0mself\u001b[0m\u001b[1;33m.\u001b[0m\u001b[0m_engine\u001b[0m\u001b[1;33m.\u001b[0m\u001b[0mget_loc\u001b[0m\u001b[1;33m(\u001b[0m\u001b[0mcasted_key\u001b[0m\u001b[1;33m)\u001b[0m\u001b[1;33m\u001b[0m\u001b[1;33m\u001b[0m\u001b[0m\n\u001b[0m\u001b[0;32m   3081\u001b[0m             \u001b[1;32mexcept\u001b[0m \u001b[0mKeyError\u001b[0m \u001b[1;32mas\u001b[0m \u001b[0merr\u001b[0m\u001b[1;33m:\u001b[0m\u001b[1;33m\u001b[0m\u001b[1;33m\u001b[0m\u001b[0m\n",
      "\u001b[1;32mpandas\\_libs\\index.pyx\u001b[0m in \u001b[0;36mpandas._libs.index.IndexEngine.get_loc\u001b[1;34m()\u001b[0m\n",
      "\u001b[1;32mpandas\\_libs\\index.pyx\u001b[0m in \u001b[0;36mpandas._libs.index.IndexEngine.get_loc\u001b[1;34m()\u001b[0m\n",
      "\u001b[1;32mpandas\\_libs\\hashtable_class_helper.pxi\u001b[0m in \u001b[0;36mpandas._libs.hashtable.PyObjectHashTable.get_item\u001b[1;34m()\u001b[0m\n",
      "\u001b[1;32mpandas\\_libs\\hashtable_class_helper.pxi\u001b[0m in \u001b[0;36mpandas._libs.hashtable.PyObjectHashTable.get_item\u001b[1;34m()\u001b[0m\n",
      "\u001b[1;31mKeyError\u001b[0m: 'Year Sale'",
      "\nThe above exception was the direct cause of the following exception:\n",
      "\u001b[1;31mKeyError\u001b[0m                                  Traceback (most recent call last)",
      "\u001b[1;32m<ipython-input-28-fd34653caf90>\u001b[0m in \u001b[0;36m<module>\u001b[1;34m\u001b[0m\n\u001b[1;32m----> 1\u001b[1;33m \u001b[0mdf_a\u001b[0m\u001b[1;33m[\u001b[0m\u001b[1;34m'Year Sale'\u001b[0m\u001b[1;33m]\u001b[0m\u001b[1;33m.\u001b[0m\u001b[0mmedian\u001b[0m\u001b[1;33m(\u001b[0m\u001b[1;33m)\u001b[0m\u001b[1;33m\u001b[0m\u001b[1;33m\u001b[0m\u001b[0m\n\u001b[0m",
      "\u001b[1;32mC:\\ProgramData\\Anaconda3\\lib\\site-packages\\pandas\\core\\frame.py\u001b[0m in \u001b[0;36m__getitem__\u001b[1;34m(self, key)\u001b[0m\n\u001b[0;32m   3022\u001b[0m             \u001b[1;32mif\u001b[0m \u001b[0mself\u001b[0m\u001b[1;33m.\u001b[0m\u001b[0mcolumns\u001b[0m\u001b[1;33m.\u001b[0m\u001b[0mnlevels\u001b[0m \u001b[1;33m>\u001b[0m \u001b[1;36m1\u001b[0m\u001b[1;33m:\u001b[0m\u001b[1;33m\u001b[0m\u001b[1;33m\u001b[0m\u001b[0m\n\u001b[0;32m   3023\u001b[0m                 \u001b[1;32mreturn\u001b[0m \u001b[0mself\u001b[0m\u001b[1;33m.\u001b[0m\u001b[0m_getitem_multilevel\u001b[0m\u001b[1;33m(\u001b[0m\u001b[0mkey\u001b[0m\u001b[1;33m)\u001b[0m\u001b[1;33m\u001b[0m\u001b[1;33m\u001b[0m\u001b[0m\n\u001b[1;32m-> 3024\u001b[1;33m             \u001b[0mindexer\u001b[0m \u001b[1;33m=\u001b[0m \u001b[0mself\u001b[0m\u001b[1;33m.\u001b[0m\u001b[0mcolumns\u001b[0m\u001b[1;33m.\u001b[0m\u001b[0mget_loc\u001b[0m\u001b[1;33m(\u001b[0m\u001b[0mkey\u001b[0m\u001b[1;33m)\u001b[0m\u001b[1;33m\u001b[0m\u001b[1;33m\u001b[0m\u001b[0m\n\u001b[0m\u001b[0;32m   3025\u001b[0m             \u001b[1;32mif\u001b[0m \u001b[0mis_integer\u001b[0m\u001b[1;33m(\u001b[0m\u001b[0mindexer\u001b[0m\u001b[1;33m)\u001b[0m\u001b[1;33m:\u001b[0m\u001b[1;33m\u001b[0m\u001b[1;33m\u001b[0m\u001b[0m\n\u001b[0;32m   3026\u001b[0m                 \u001b[0mindexer\u001b[0m \u001b[1;33m=\u001b[0m \u001b[1;33m[\u001b[0m\u001b[0mindexer\u001b[0m\u001b[1;33m]\u001b[0m\u001b[1;33m\u001b[0m\u001b[1;33m\u001b[0m\u001b[0m\n",
      "\u001b[1;32mC:\\ProgramData\\Anaconda3\\lib\\site-packages\\pandas\\core\\indexes\\base.py\u001b[0m in \u001b[0;36mget_loc\u001b[1;34m(self, key, method, tolerance)\u001b[0m\n\u001b[0;32m   3080\u001b[0m                 \u001b[1;32mreturn\u001b[0m \u001b[0mself\u001b[0m\u001b[1;33m.\u001b[0m\u001b[0m_engine\u001b[0m\u001b[1;33m.\u001b[0m\u001b[0mget_loc\u001b[0m\u001b[1;33m(\u001b[0m\u001b[0mcasted_key\u001b[0m\u001b[1;33m)\u001b[0m\u001b[1;33m\u001b[0m\u001b[1;33m\u001b[0m\u001b[0m\n\u001b[0;32m   3081\u001b[0m             \u001b[1;32mexcept\u001b[0m \u001b[0mKeyError\u001b[0m \u001b[1;32mas\u001b[0m \u001b[0merr\u001b[0m\u001b[1;33m:\u001b[0m\u001b[1;33m\u001b[0m\u001b[1;33m\u001b[0m\u001b[0m\n\u001b[1;32m-> 3082\u001b[1;33m                 \u001b[1;32mraise\u001b[0m \u001b[0mKeyError\u001b[0m\u001b[1;33m(\u001b[0m\u001b[0mkey\u001b[0m\u001b[1;33m)\u001b[0m \u001b[1;32mfrom\u001b[0m \u001b[0merr\u001b[0m\u001b[1;33m\u001b[0m\u001b[1;33m\u001b[0m\u001b[0m\n\u001b[0m\u001b[0;32m   3083\u001b[0m \u001b[1;33m\u001b[0m\u001b[0m\n\u001b[0;32m   3084\u001b[0m         \u001b[1;32mif\u001b[0m \u001b[0mtolerance\u001b[0m \u001b[1;32mis\u001b[0m \u001b[1;32mnot\u001b[0m \u001b[1;32mNone\u001b[0m\u001b[1;33m:\u001b[0m\u001b[1;33m\u001b[0m\u001b[1;33m\u001b[0m\u001b[0m\n",
      "\u001b[1;31mKeyError\u001b[0m: 'Year Sale'"
     ]
    }
   ],
   "source": [
    "df_a['Year Sale'].median()"
   ]
  },
  {
   "cell_type": "markdown",
   "id": "256db5eb",
   "metadata": {},
   "source": [
    "### Median of Total Unit"
   ]
  },
  {
   "cell_type": "code",
   "execution_count": 29,
   "id": "6a59b2b3",
   "metadata": {},
   "outputs": [
    {
     "data": {
      "text/plain": [
       "1.0"
      ]
     },
     "execution_count": 29,
     "metadata": {},
     "output_type": "execute_result"
    }
   ],
   "source": [
    "df_a['TOTAL UNITS'].median()"
   ]
  },
  {
   "cell_type": "markdown",
   "id": "d4e31066",
   "metadata": {},
   "source": [
    "## MODUS"
   ]
  },
  {
   "cell_type": "markdown",
   "id": "9487fdac",
   "metadata": {},
   "source": [
    "### Modus of Building Class at Time of Sale"
   ]
  },
  {
   "cell_type": "code",
   "execution_count": 30,
   "id": "ff161cb1",
   "metadata": {
    "scrolled": true
   },
   "outputs": [
    {
     "data": {
      "text/plain": [
       "0    R4\n",
       "dtype: object"
      ]
     },
     "execution_count": 30,
     "metadata": {},
     "output_type": "execute_result"
    }
   ],
   "source": [
    "df_a['BUILDING CLASS AT TIME OF SALE'].mode()"
   ]
  },
  {
   "cell_type": "markdown",
   "id": "dee449ed",
   "metadata": {},
   "source": [
    "### Modus of Building Class at Present"
   ]
  },
  {
   "cell_type": "code",
   "execution_count": 31,
   "id": "fe8374d8",
   "metadata": {},
   "outputs": [
    {
     "data": {
      "text/plain": [
       "0    R4\n",
       "dtype: object"
      ]
     },
     "execution_count": 31,
     "metadata": {},
     "output_type": "execute_result"
    }
   ],
   "source": [
    "df_a['BUILDING CLASS AT PRESENT'].mode()"
   ]
  },
  {
   "cell_type": "markdown",
   "id": "3fbe2f6e",
   "metadata": {},
   "source": [
    "### Modus of Borough"
   ]
  },
  {
   "cell_type": "code",
   "execution_count": 32,
   "id": "df7b8f43",
   "metadata": {},
   "outputs": [
    {
     "data": {
      "text/plain": [
       "0    4\n",
       "dtype: int64"
      ]
     },
     "execution_count": 32,
     "metadata": {},
     "output_type": "execute_result"
    }
   ],
   "source": [
    "df_a['BOROUGH'].mode()"
   ]
  },
  {
   "cell_type": "markdown",
   "id": "d5a2d356",
   "metadata": {},
   "source": [
    "### Modus of Building Class Category"
   ]
  },
  {
   "cell_type": "code",
   "execution_count": 33,
   "id": "3457d5c9",
   "metadata": {},
   "outputs": [
    {
     "data": {
      "text/plain": [
       "0    01 ONE FAMILY DWELLINGS                    \n",
       "dtype: object"
      ]
     },
     "execution_count": 33,
     "metadata": {},
     "output_type": "execute_result"
    }
   ],
   "source": [
    "df_a['BUILDING CLASS CATEGORY'].mode()"
   ]
  },
  {
   "cell_type": "markdown",
   "id": "9c941029",
   "metadata": {},
   "source": [
    "## RANGE"
   ]
  },
  {
   "cell_type": "markdown",
   "id": "959b80bd",
   "metadata": {},
   "source": [
    "### Range of Price Sale"
   ]
  },
  {
   "cell_type": "code",
   "execution_count": 34,
   "id": "9afb3fff",
   "metadata": {},
   "outputs": [
    {
     "data": {
      "text/plain": [
       "2210000000.0"
      ]
     },
     "execution_count": 34,
     "metadata": {},
     "output_type": "execute_result"
    }
   ],
   "source": [
    "prc_max = df_a['SALE PRICE'].max()\n",
    "prc_max"
   ]
  },
  {
   "cell_type": "code",
   "execution_count": 35,
   "id": "5b68832e",
   "metadata": {},
   "outputs": [
    {
     "data": {
      "text/plain": [
       "1.0"
      ]
     },
     "execution_count": 35,
     "metadata": {},
     "output_type": "execute_result"
    }
   ],
   "source": [
    "prc_min = df_a['SALE PRICE'].min()\n",
    "prc_min"
   ]
  },
  {
   "cell_type": "code",
   "execution_count": 36,
   "id": "1627fb8a",
   "metadata": {},
   "outputs": [
    {
     "data": {
      "text/plain": [
       "2209999999.0"
      ]
     },
     "execution_count": 36,
     "metadata": {},
     "output_type": "execute_result"
    }
   ],
   "source": [
    "prc_range = prc_max - prc_min\n",
    "prc_range"
   ]
  },
  {
   "cell_type": "markdown",
   "id": "9ec0f7ce",
   "metadata": {},
   "source": [
    "### Range of Total Unit Sale"
   ]
  },
  {
   "cell_type": "code",
   "execution_count": 37,
   "id": "26e7fc2f",
   "metadata": {},
   "outputs": [
    {
     "data": {
      "text/plain": [
       "2261"
      ]
     },
     "execution_count": 37,
     "metadata": {},
     "output_type": "execute_result"
    }
   ],
   "source": [
    "tu_max = df_a['TOTAL UNITS'].max()\n",
    "tu_max"
   ]
  },
  {
   "cell_type": "code",
   "execution_count": 38,
   "id": "92ad0c22",
   "metadata": {},
   "outputs": [
    {
     "data": {
      "text/plain": [
       "1"
      ]
     },
     "execution_count": 38,
     "metadata": {},
     "output_type": "execute_result"
    }
   ],
   "source": [
    "tu_min = df_a['TOTAL UNITS'].min()\n",
    "tu_min"
   ]
  },
  {
   "cell_type": "code",
   "execution_count": 39,
   "id": "1fbcbce0",
   "metadata": {},
   "outputs": [
    {
     "data": {
      "text/plain": [
       "2260"
      ]
     },
     "execution_count": 39,
     "metadata": {},
     "output_type": "execute_result"
    }
   ],
   "source": [
    "tu_range = tu_max - tu_min\n",
    "tu_range"
   ]
  },
  {
   "cell_type": "markdown",
   "id": "b27bb515",
   "metadata": {},
   "source": [
    "## VARIANCE"
   ]
  },
  {
   "cell_type": "code",
   "execution_count": 40,
   "id": "34cb7474",
   "metadata": {},
   "outputs": [
    {
     "data": {
      "text/plain": [
       "202622489687797.44"
      ]
     },
     "execution_count": 40,
     "metadata": {},
     "output_type": "execute_result"
    }
   ],
   "source": [
    "var_ = df_a['SALE PRICE'].var(ddof=1)\n",
    "var_"
   ]
  },
  {
   "cell_type": "markdown",
   "id": "ce909f1d",
   "metadata": {},
   "source": [
    "## STANDARD DEVIATION"
   ]
  },
  {
   "cell_type": "code",
   "execution_count": 41,
   "id": "8c64cee5",
   "metadata": {},
   "outputs": [
    {
     "data": {
      "text/plain": [
       "14234552.669044344"
      ]
     },
     "execution_count": 41,
     "metadata": {},
     "output_type": "execute_result"
    }
   ],
   "source": [
    "df_a['SALE PRICE'].std(ddof=1)"
   ]
  },
  {
   "cell_type": "markdown",
   "id": "086617aa",
   "metadata": {},
   "source": [
    "## PROBABILITY DISTRIBUTION"
   ]
  },
  {
   "cell_type": "code",
   "execution_count": 148,
   "id": "b546b07a",
   "metadata": {},
   "outputs": [],
   "source": [
    "df_hist = df_a[['SALE DATE','BOROUGH', 'TOTAL UNITS']].groupby(['SALE DATE','BOROUGH']).sum().reset_index()"
   ]
  },
  {
   "cell_type": "code",
   "execution_count": 149,
   "id": "d97a34df",
   "metadata": {},
   "outputs": [],
   "source": [
    "df_hist.set_index(\"SALE DATE\", inplace=True)"
   ]
  },
  {
   "cell_type": "code",
   "execution_count": 150,
   "id": "0b28b54e",
   "metadata": {},
   "outputs": [
    {
     "data": {
      "text/html": [
       "<div>\n",
       "<style scoped>\n",
       "    .dataframe tbody tr th:only-of-type {\n",
       "        vertical-align: middle;\n",
       "    }\n",
       "\n",
       "    .dataframe tbody tr th {\n",
       "        vertical-align: top;\n",
       "    }\n",
       "\n",
       "    .dataframe thead th {\n",
       "        text-align: right;\n",
       "    }\n",
       "</style>\n",
       "<table border=\"1\" class=\"dataframe\">\n",
       "  <thead>\n",
       "    <tr style=\"text-align: right;\">\n",
       "      <th></th>\n",
       "      <th>BOROUGH</th>\n",
       "      <th>TOTAL UNITS</th>\n",
       "    </tr>\n",
       "    <tr>\n",
       "      <th>SALE DATE</th>\n",
       "      <th></th>\n",
       "      <th></th>\n",
       "    </tr>\n",
       "  </thead>\n",
       "  <tbody>\n",
       "    <tr>\n",
       "      <th>01/2017</th>\n",
       "      <td>1</td>\n",
       "      <td>2012</td>\n",
       "    </tr>\n",
       "    <tr>\n",
       "      <th>01/2017</th>\n",
       "      <td>2</td>\n",
       "      <td>956</td>\n",
       "    </tr>\n",
       "    <tr>\n",
       "      <th>01/2017</th>\n",
       "      <td>3</td>\n",
       "      <td>2213</td>\n",
       "    </tr>\n",
       "    <tr>\n",
       "      <th>01/2017</th>\n",
       "      <td>4</td>\n",
       "      <td>2530</td>\n",
       "    </tr>\n",
       "    <tr>\n",
       "      <th>01/2017</th>\n",
       "      <td>5</td>\n",
       "      <td>640</td>\n",
       "    </tr>\n",
       "    <tr>\n",
       "      <th>02/2017</th>\n",
       "      <td>1</td>\n",
       "      <td>1149</td>\n",
       "    </tr>\n",
       "    <tr>\n",
       "      <th>02/2017</th>\n",
       "      <td>2</td>\n",
       "      <td>1139</td>\n",
       "    </tr>\n",
       "    <tr>\n",
       "      <th>02/2017</th>\n",
       "      <td>3</td>\n",
       "      <td>2475</td>\n",
       "    </tr>\n",
       "    <tr>\n",
       "      <th>02/2017</th>\n",
       "      <td>4</td>\n",
       "      <td>1798</td>\n",
       "    </tr>\n",
       "    <tr>\n",
       "      <th>02/2017</th>\n",
       "      <td>5</td>\n",
       "      <td>627</td>\n",
       "    </tr>\n",
       "  </tbody>\n",
       "</table>\n",
       "</div>"
      ],
      "text/plain": [
       "           BOROUGH  TOTAL UNITS\n",
       "SALE DATE                      \n",
       "01/2017          1         2012\n",
       "01/2017          2          956\n",
       "01/2017          3         2213\n",
       "01/2017          4         2530\n",
       "01/2017          5          640\n",
       "02/2017          1         1149\n",
       "02/2017          2         1139\n",
       "02/2017          3         2475\n",
       "02/2017          4         1798\n",
       "02/2017          5          627"
      ]
     },
     "execution_count": 150,
     "metadata": {},
     "output_type": "execute_result"
    }
   ],
   "source": [
    "df_hist.head(10)"
   ]
  },
  {
   "cell_type": "code",
   "execution_count": 151,
   "id": "cfd8f19e",
   "metadata": {},
   "outputs": [
    {
     "name": "stderr",
     "output_type": "stream",
     "text": [
      "C:\\ProgramData\\Anaconda3\\lib\\site-packages\\seaborn\\distributions.py:2557: FutureWarning: `distplot` is a deprecated function and will be removed in a future version. Please adapt your code to use either `displot` (a figure-level function with similar flexibility) or `histplot` (an axes-level function for histograms).\n",
      "  warnings.warn(msg, FutureWarning)\n"
     ]
    },
    {
     "data": {
      "text/plain": [
       "[Text(0.5, 0, 'Distribution'), Text(0, 0.5, 'Frequency')]"
      ]
     },
     "execution_count": 151,
     "metadata": {},
     "output_type": "execute_result"
    },
    {
     "data": {
      "image/png": "[encoded data removed]",
      "text/plain": [
       "<Figure size 936x540 with 1 Axes>"
      ]
     },
     "metadata": {},
     "output_type": "display_data"
    }
   ],
   "source": [
    "x = sns.distplot(df_hist['TOTAL UNITS'],\n",
    "                  bins= 10,\n",
    "                  kde=True,\n",
    "                  color='skyblue',\n",
    "                  hist_kws={\"linewidth\": 15,'alpha':1})\n",
    "x.set(xlabel='Distribution', ylabel='Frequency')"
   ]
  },
  {
   "cell_type": "markdown",
   "id": "fbca2382",
   "metadata": {},
   "source": [
    "Sebaran data tidak terlihat mengikuti bentuk sebaran tertentu"
   ]
  },
  {
   "cell_type": "markdown",
   "id": "3781699e",
   "metadata": {},
   "source": [
    "## CONFIDENCE INTERVAL\n",
    "CI pada kasus ini digunakan untuk melihat selang kepercayaan proporsi harga penjualan di atas 100.000 dan di bawah 100.000"
   ]
  },
  {
   "cell_type": "code",
   "execution_count": 186,
   "id": "7c8bbac1",
   "metadata": {},
   "outputs": [],
   "source": [
    "df_ci = df_a[['SALE PRICE']]"
   ]
  },
  {
   "cell_type": "code",
   "execution_count": 187,
   "id": "4766467b",
   "metadata": {},
   "outputs": [
    {
     "data": {
      "text/html": [
       "<div>\n",
       "<style scoped>\n",
       "    .dataframe tbody tr th:only-of-type {\n",
       "        vertical-align: middle;\n",
       "    }\n",
       "\n",
       "    .dataframe tbody tr th {\n",
       "        vertical-align: top;\n",
       "    }\n",
       "\n",
       "    .dataframe thead th {\n",
       "        text-align: right;\n",
       "    }\n",
       "</style>\n",
       "<table border=\"1\" class=\"dataframe\">\n",
       "  <thead>\n",
       "    <tr style=\"text-align: right;\">\n",
       "      <th></th>\n",
       "      <th>SALE PRICE</th>\n",
       "    </tr>\n",
       "  </thead>\n",
       "  <tbody>\n",
       "    <tr>\n",
       "      <th>0</th>\n",
       "      <td>6625000.0</td>\n",
       "    </tr>\n",
       "    <tr>\n",
       "      <th>3</th>\n",
       "      <td>3936272.0</td>\n",
       "    </tr>\n",
       "    <tr>\n",
       "      <th>4</th>\n",
       "      <td>8000000.0</td>\n",
       "    </tr>\n",
       "    <tr>\n",
       "      <th>6</th>\n",
       "      <td>3192840.0</td>\n",
       "    </tr>\n",
       "    <tr>\n",
       "      <th>9</th>\n",
       "      <td>16232000.0</td>\n",
       "    </tr>\n",
       "  </tbody>\n",
       "</table>\n",
       "</div>"
      ],
      "text/plain": [
       "   SALE PRICE\n",
       "0   6625000.0\n",
       "3   3936272.0\n",
       "4   8000000.0\n",
       "6   3192840.0\n",
       "9  16232000.0"
      ]
     },
     "execution_count": 187,
     "metadata": {},
     "output_type": "execute_result"
    }
   ],
   "source": [
    "df_ci.head()"
   ]
  },
  {
   "cell_type": "code",
   "execution_count": 188,
   "id": "b7a037b1",
   "metadata": {},
   "outputs": [
    {
     "name": "stderr",
     "output_type": "stream",
     "text": [
      "<ipython-input-188-4ed54022d23e>:1: SettingWithCopyWarning: \n",
      "A value is trying to be set on a copy of a slice from a DataFrame.\n",
      "Try using .loc[row_indexer,col_indexer] = value instead\n",
      "\n",
      "See the caveats in the documentation: https://pandas.pydata.org/pandas-docs/stable/user_guide/indexing.html#returning-a-view-versus-a-copy\n",
      "  df_ci['SALE PRICE'] = df_ci['SALE PRICE'].map(lambda x: 1 if x>=100000 else 0)\n"
     ]
    }
   ],
   "source": [
    "df_ci['SALE PRICE'] = df_ci['SALE PRICE'].map(lambda x: 1 if x>=100000 else 0)"
   ]
  },
  {
   "cell_type": "code",
   "execution_count": 189,
   "id": "f71bbeb2",
   "metadata": {},
   "outputs": [
    {
     "data": {
      "text/html": [
       "<div>\n",
       "<style scoped>\n",
       "    .dataframe tbody tr th:only-of-type {\n",
       "        vertical-align: middle;\n",
       "    }\n",
       "\n",
       "    .dataframe tbody tr th {\n",
       "        vertical-align: top;\n",
       "    }\n",
       "\n",
       "    .dataframe thead th {\n",
       "        text-align: right;\n",
       "    }\n",
       "</style>\n",
       "<table border=\"1\" class=\"dataframe\">\n",
       "  <thead>\n",
       "    <tr style=\"text-align: right;\">\n",
       "      <th></th>\n",
       "      <th>SALE PRICE</th>\n",
       "    </tr>\n",
       "  </thead>\n",
       "  <tbody>\n",
       "    <tr>\n",
       "      <th>0</th>\n",
       "      <td>1</td>\n",
       "    </tr>\n",
       "    <tr>\n",
       "      <th>3</th>\n",
       "      <td>1</td>\n",
       "    </tr>\n",
       "    <tr>\n",
       "      <th>4</th>\n",
       "      <td>1</td>\n",
       "    </tr>\n",
       "    <tr>\n",
       "      <th>6</th>\n",
       "      <td>1</td>\n",
       "    </tr>\n",
       "    <tr>\n",
       "      <th>9</th>\n",
       "      <td>1</td>\n",
       "    </tr>\n",
       "  </tbody>\n",
       "</table>\n",
       "</div>"
      ],
      "text/plain": [
       "   SALE PRICE\n",
       "0           1\n",
       "3           1\n",
       "4           1\n",
       "6           1\n",
       "9           1"
      ]
     },
     "execution_count": 189,
     "metadata": {},
     "output_type": "execute_result"
    }
   ],
   "source": [
    "df_ci.head()"
   ]
  },
  {
   "cell_type": "code",
   "execution_count": 200,
   "id": "b63bb94f",
   "metadata": {},
   "outputs": [
    {
     "data": {
      "text/plain": [
       "SALE PRICE    0.954286\n",
       "dtype: float64"
      ]
     },
     "execution_count": 200,
     "metadata": {},
     "output_type": "execute_result"
    }
   ],
   "source": [
    "proportion = df_ci[df_ci['SALE PRICE'] == 1].count()/(df_ci['SALE PRICE'].count())\n",
    "proportion"
   ]
  },
  {
   "cell_type": "code",
   "execution_count": 202,
   "id": "bbe29fe1",
   "metadata": {},
   "outputs": [],
   "source": [
    "n = df_ci[df_ci['SALE PRICE'] == 1].count()"
   ]
  },
  {
   "cell_type": "code",
   "execution_count": 203,
   "id": "70901155",
   "metadata": {},
   "outputs": [
    {
     "data": {
      "text/plain": [
       "SALE PRICE    0.001029\n",
       "dtype: float64"
      ]
     },
     "execution_count": 203,
     "metadata": {},
     "output_type": "execute_result"
    }
   ],
   "source": [
    "SE = np.sqrt(proportion * (1 - proportion) / n)\n",
    "SE"
   ]
  },
  {
   "cell_type": "code",
   "execution_count": 204,
   "id": "623da35f",
   "metadata": {},
   "outputs": [
    {
     "data": {
      "text/plain": [
       "(SALE PRICE    0.952269\n",
       " dtype: float64,\n",
       " SALE PRICE    0.956303\n",
       " dtype: float64)"
      ]
     },
     "execution_count": 204,
     "metadata": {},
     "output_type": "execute_result"
    }
   ],
   "source": [
    "sm.stats.proportion_confint(n * proportion, n)"
   ]
  },
  {
   "cell_type": "markdown",
   "id": "0ce05357",
   "metadata": {},
   "source": [
    "Confindence Interval --> 0.952269 - 0.956303"
   ]
  },
  {
   "cell_type": "markdown",
   "id": "ca1443e1",
   "metadata": {},
   "source": [
    "## HYPOTHESIS TESTING\n",
    "Pemilik data ingin menguji apakah total penjualan di daerah 1 tidak sama dengan daerah 2\n",
    "\n",
    "H0: μ1=μ2\n",
    "\n",
    "H1: μ1≠μ2"
   ]
  },
  {
   "cell_type": "code",
   "execution_count": 206,
   "id": "07bbbcca",
   "metadata": {},
   "outputs": [],
   "source": [
    "df_ht = df_a[(df_a['BOROUGH'] == 1) | (df_a['BOROUGH'] == 2)] "
   ]
  },
  {
   "cell_type": "code",
   "execution_count": 217,
   "id": "626d1d68",
   "metadata": {},
   "outputs": [],
   "source": [
    "df_ht = df_ht[['BOROUGH','TOTAL UNITS']]"
   ]
  },
  {
   "cell_type": "code",
   "execution_count": 220,
   "id": "39c60dac",
   "metadata": {},
   "outputs": [
    {
     "data": {
      "text/plain": [
       "(7204, 3.9079677956690726, 26.36132800936835)"
      ]
     },
     "execution_count": 220,
     "metadata": {},
     "output_type": "execute_result"
    }
   ],
   "source": [
    "n1 = df_ht['TOTAL UNITS'][df_ht['BOROUGH'] == 1].count()\n",
    "mu1 = df_ht['TOTAL UNITS'][df_ht['BOROUGH'] == 1].mean()\n",
    "sd1 = df_ht['TOTAL UNITS'][df_ht['BOROUGH'] == 1].std()\n",
    "\n",
    "(n1, mu1, sd1)"
   ]
  },
  {
   "cell_type": "code",
   "execution_count": 221,
   "id": "9a6b5afb",
   "metadata": {},
   "outputs": [
    {
     "data": {
      "text/plain": [
       "(3988, 4.132898696088265, 24.412821322386428)"
      ]
     },
     "execution_count": 221,
     "metadata": {},
     "output_type": "execute_result"
    }
   ],
   "source": [
    "n2 = df_ht['TOTAL UNITS'][df_ht['BOROUGH'] == 2].count()\n",
    "mu2 = df_ht['TOTAL UNITS'][df_ht['BOROUGH'] == 2].mean()\n",
    "sd2 = df_ht['TOTAL UNITS'][df_ht['BOROUGH'] == 2].std()\n",
    "\n",
    "(n2, mu2, sd2)"
   ]
  },
  {
   "cell_type": "code",
   "execution_count": 222,
   "id": "d40e08fb",
   "metadata": {},
   "outputs": [
    {
     "data": {
      "text/plain": [
       "(-0.44370722467281454, 0.6572542714144871)"
      ]
     },
     "execution_count": 222,
     "metadata": {},
     "output_type": "execute_result"
    }
   ],
   "source": [
    "sm.stats.ztest(df_ht['TOTAL UNITS'][df_ht['BOROUGH'] == 1], df_ht['TOTAL UNITS'][df_ht['BOROUGH'] == 2],alternative='two-sided')"
   ]
  },
  {
   "cell_type": "markdown",
   "id": "3574d873",
   "metadata": {},
   "source": [
    "p-value = 0.6572542714144871 > 0.05 maka Terima H0 artinya total penjualan di daerah 1 sama dengan daerah 2 pada taraf nyata 5%"
   ]
  }
 ],
 "metadata": {
  "kernelspec": {
   "display_name": "Python 3",
   "language": "python",
   "name": "python3"
  },
  "language_info": {
   "codemirror_mode": {
    "name": "ipython",
    "version": 3
   },
   "file_extension": ".py",
   "mimetype": "text/x-python",
   "name": "python",
   "nbconvert_exporter": "python",
   "pygments_lexer": "ipython3",
   "version": "3.8.8"
  },
  "toc": {
   "base_numbering": 1,
   "nav_menu": {},
   "number_sections": true,
   "sideBar": true,
   "skip_h1_title": false,
   "title_cell": "Table of Contents",
   "title_sidebar": "Contents",
   "toc_cell": true,
   "toc_position": {},
   "toc_section_display": true,
   "toc_window_display": false
  }
 },
 "nbformat": 4,
 "nbformat_minor": 5
}
