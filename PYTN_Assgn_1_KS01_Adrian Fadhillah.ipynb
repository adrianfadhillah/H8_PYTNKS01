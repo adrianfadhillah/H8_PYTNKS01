{
 "cells": [
  {
   "cell_type": "code",
   "execution_count": 1,
   "id": "e91905ef",
   "metadata": {},
   "outputs": [],
   "source": [
    "import numpy as np\n",
    "import pandas as pd\n",
    "import matplotlib as mpl\n",
    "import matplotlib.pyplot as plt"
   ]
  },
  {
   "cell_type": "code",
   "execution_count": 2,
   "id": "c3973801",
   "metadata": {},
   "outputs": [],
   "source": [
    "df = pd.read_csv(\"./datasets/london_crime_by_lsoa.csv\")"
   ]
  },
  {
   "cell_type": "code",
   "execution_count": 3,
   "id": "e8fbe1b8",
   "metadata": {},
   "outputs": [
    {
     "data": {
      "text/html": [
       "<div>\n",
       "<style scoped>\n",
       "    .dataframe tbody tr th:only-of-type {\n",
       "        vertical-align: middle;\n",
       "    }\n",
       "\n",
       "    .dataframe tbody tr th {\n",
       "        vertical-align: top;\n",
       "    }\n",
       "\n",
       "    .dataframe thead th {\n",
       "        text-align: right;\n",
       "    }\n",
       "</style>\n",
       "<table border=\"1\" class=\"dataframe\">\n",
       "  <thead>\n",
       "    <tr style=\"text-align: right;\">\n",
       "      <th></th>\n",
       "      <th>lsoa_code</th>\n",
       "      <th>borough</th>\n",
       "      <th>major_category</th>\n",
       "      <th>minor_category</th>\n",
       "      <th>value</th>\n",
       "      <th>year</th>\n",
       "      <th>month</th>\n",
       "    </tr>\n",
       "  </thead>\n",
       "  <tbody>\n",
       "    <tr>\n",
       "      <th>0</th>\n",
       "      <td>E01001116</td>\n",
       "      <td>Croydon</td>\n",
       "      <td>Burglary</td>\n",
       "      <td>Burglary in Other Buildings</td>\n",
       "      <td>0</td>\n",
       "      <td>2016</td>\n",
       "      <td>11</td>\n",
       "    </tr>\n",
       "    <tr>\n",
       "      <th>1</th>\n",
       "      <td>E01001646</td>\n",
       "      <td>Greenwich</td>\n",
       "      <td>Violence Against the Person</td>\n",
       "      <td>Other violence</td>\n",
       "      <td>0</td>\n",
       "      <td>2016</td>\n",
       "      <td>11</td>\n",
       "    </tr>\n",
       "    <tr>\n",
       "      <th>2</th>\n",
       "      <td>E01000677</td>\n",
       "      <td>Bromley</td>\n",
       "      <td>Violence Against the Person</td>\n",
       "      <td>Other violence</td>\n",
       "      <td>0</td>\n",
       "      <td>2015</td>\n",
       "      <td>5</td>\n",
       "    </tr>\n",
       "    <tr>\n",
       "      <th>3</th>\n",
       "      <td>E01003774</td>\n",
       "      <td>Redbridge</td>\n",
       "      <td>Burglary</td>\n",
       "      <td>Burglary in Other Buildings</td>\n",
       "      <td>0</td>\n",
       "      <td>2016</td>\n",
       "      <td>3</td>\n",
       "    </tr>\n",
       "    <tr>\n",
       "      <th>4</th>\n",
       "      <td>E01004563</td>\n",
       "      <td>Wandsworth</td>\n",
       "      <td>Robbery</td>\n",
       "      <td>Personal Property</td>\n",
       "      <td>0</td>\n",
       "      <td>2008</td>\n",
       "      <td>6</td>\n",
       "    </tr>\n",
       "  </tbody>\n",
       "</table>\n",
       "</div>"
      ],
      "text/plain": [
       "   lsoa_code     borough               major_category  \\\n",
       "0  E01001116     Croydon                     Burglary   \n",
       "1  E01001646   Greenwich  Violence Against the Person   \n",
       "2  E01000677     Bromley  Violence Against the Person   \n",
       "3  E01003774   Redbridge                     Burglary   \n",
       "4  E01004563  Wandsworth                      Robbery   \n",
       "\n",
       "                minor_category  value  year  month  \n",
       "0  Burglary in Other Buildings      0  2016     11  \n",
       "1               Other violence      0  2016     11  \n",
       "2               Other violence      0  2015      5  \n",
       "3  Burglary in Other Buildings      0  2016      3  \n",
       "4            Personal Property      0  2008      6  "
      ]
     },
     "execution_count": 3,
     "metadata": {},
     "output_type": "execute_result"
    }
   ],
   "source": [
    "df.head()\n"
   ]
  },
  {
   "cell_type": "code",
   "execution_count": 4,
   "id": "1cc95c33",
   "metadata": {},
   "outputs": [
    {
     "name": "stdout",
     "output_type": "stream",
     "text": [
      "<class 'pandas.core.frame.DataFrame'>\n",
      "RangeIndex: 13490604 entries, 0 to 13490603\n",
      "Data columns (total 7 columns):\n",
      " #   Column          Dtype \n",
      "---  ------          ----- \n",
      " 0   lsoa_code       object\n",
      " 1   borough         object\n",
      " 2   major_category  object\n",
      " 3   minor_category  object\n",
      " 4   value           int64 \n",
      " 5   year            int64 \n",
      " 6   month           int64 \n",
      "dtypes: int64(3), object(4)\n",
      "memory usage: 720.5+ MB\n"
     ]
    },
    {
     "data": {
      "text/plain": [
       "(13490604, 7)"
      ]
     },
     "execution_count": 4,
     "metadata": {},
     "output_type": "execute_result"
    }
   ],
   "source": [
    "df.info()\n",
    "df.shape"
   ]
  },
  {
   "cell_type": "code",
   "execution_count": 5,
   "id": "9dd3a7ee",
   "metadata": {},
   "outputs": [
    {
     "data": {
      "text/plain": [
       "lsoa_code         0\n",
       "borough           0\n",
       "major_category    0\n",
       "minor_category    0\n",
       "value             0\n",
       "year              0\n",
       "month             0\n",
       "dtype: int64"
      ]
     },
     "execution_count": 5,
     "metadata": {},
     "output_type": "execute_result"
    }
   ],
   "source": [
    "df.isnull().sum()"
   ]
  },
  {
   "cell_type": "markdown",
   "id": "fc8efe99",
   "metadata": {},
   "source": [
    "## Area Plot\n",
    "Plot digunakan untuk melihat plot area dari 5 wilayah dengan kasus kriminalitas tertinggi"
   ]
  },
  {
   "cell_type": "code",
   "execution_count": 6,
   "id": "5ba0248f",
   "metadata": {},
   "outputs": [],
   "source": [
    "df_area = df.copy()"
   ]
  },
  {
   "cell_type": "code",
   "execution_count": 7,
   "id": "c3135987",
   "metadata": {},
   "outputs": [
    {
     "data": {
      "text/html": [
       "<div>\n",
       "<style scoped>\n",
       "    .dataframe tbody tr th:only-of-type {\n",
       "        vertical-align: middle;\n",
       "    }\n",
       "\n",
       "    .dataframe tbody tr th {\n",
       "        vertical-align: top;\n",
       "    }\n",
       "\n",
       "    .dataframe thead th {\n",
       "        text-align: right;\n",
       "    }\n",
       "</style>\n",
       "<table border=\"1\" class=\"dataframe\">\n",
       "  <thead>\n",
       "    <tr style=\"text-align: right;\">\n",
       "      <th></th>\n",
       "      <th>lsoa_code</th>\n",
       "      <th>borough</th>\n",
       "      <th>major_category</th>\n",
       "      <th>minor_category</th>\n",
       "      <th>value</th>\n",
       "      <th>year</th>\n",
       "      <th>month</th>\n",
       "    </tr>\n",
       "  </thead>\n",
       "  <tbody>\n",
       "    <tr>\n",
       "      <th>0</th>\n",
       "      <td>E01001116</td>\n",
       "      <td>Croydon</td>\n",
       "      <td>Burglary</td>\n",
       "      <td>Burglary in Other Buildings</td>\n",
       "      <td>0</td>\n",
       "      <td>2016</td>\n",
       "      <td>11</td>\n",
       "    </tr>\n",
       "    <tr>\n",
       "      <th>1</th>\n",
       "      <td>E01001646</td>\n",
       "      <td>Greenwich</td>\n",
       "      <td>Violence Against the Person</td>\n",
       "      <td>Other violence</td>\n",
       "      <td>0</td>\n",
       "      <td>2016</td>\n",
       "      <td>11</td>\n",
       "    </tr>\n",
       "    <tr>\n",
       "      <th>2</th>\n",
       "      <td>E01000677</td>\n",
       "      <td>Bromley</td>\n",
       "      <td>Violence Against the Person</td>\n",
       "      <td>Other violence</td>\n",
       "      <td>0</td>\n",
       "      <td>2015</td>\n",
       "      <td>5</td>\n",
       "    </tr>\n",
       "    <tr>\n",
       "      <th>3</th>\n",
       "      <td>E01003774</td>\n",
       "      <td>Redbridge</td>\n",
       "      <td>Burglary</td>\n",
       "      <td>Burglary in Other Buildings</td>\n",
       "      <td>0</td>\n",
       "      <td>2016</td>\n",
       "      <td>3</td>\n",
       "    </tr>\n",
       "    <tr>\n",
       "      <th>4</th>\n",
       "      <td>E01004563</td>\n",
       "      <td>Wandsworth</td>\n",
       "      <td>Robbery</td>\n",
       "      <td>Personal Property</td>\n",
       "      <td>0</td>\n",
       "      <td>2008</td>\n",
       "      <td>6</td>\n",
       "    </tr>\n",
       "  </tbody>\n",
       "</table>\n",
       "</div>"
      ],
      "text/plain": [
       "   lsoa_code     borough               major_category  \\\n",
       "0  E01001116     Croydon                     Burglary   \n",
       "1  E01001646   Greenwich  Violence Against the Person   \n",
       "2  E01000677     Bromley  Violence Against the Person   \n",
       "3  E01003774   Redbridge                     Burglary   \n",
       "4  E01004563  Wandsworth                      Robbery   \n",
       "\n",
       "                minor_category  value  year  month  \n",
       "0  Burglary in Other Buildings      0  2016     11  \n",
       "1               Other violence      0  2016     11  \n",
       "2               Other violence      0  2015      5  \n",
       "3  Burglary in Other Buildings      0  2016      3  \n",
       "4            Personal Property      0  2008      6  "
      ]
     },
     "execution_count": 7,
     "metadata": {},
     "output_type": "execute_result"
    }
   ],
   "source": [
    "df_area.head()"
   ]
  },
  {
   "cell_type": "code",
   "execution_count": 8,
   "id": "1e21b93a",
   "metadata": {},
   "outputs": [],
   "source": [
    "df_area = df_area[['borough','value','year']]\n"
   ]
  },
  {
   "cell_type": "code",
   "execution_count": 9,
   "id": "616acaa0",
   "metadata": {
    "scrolled": true
   },
   "outputs": [
    {
     "data": {
      "text/html": [
       "<div>\n",
       "<style scoped>\n",
       "    .dataframe tbody tr th:only-of-type {\n",
       "        vertical-align: middle;\n",
       "    }\n",
       "\n",
       "    .dataframe tbody tr th {\n",
       "        vertical-align: top;\n",
       "    }\n",
       "\n",
       "    .dataframe thead th {\n",
       "        text-align: right;\n",
       "    }\n",
       "</style>\n",
       "<table border=\"1\" class=\"dataframe\">\n",
       "  <thead>\n",
       "    <tr style=\"text-align: right;\">\n",
       "      <th></th>\n",
       "      <th>borough</th>\n",
       "      <th>value</th>\n",
       "      <th>year</th>\n",
       "    </tr>\n",
       "  </thead>\n",
       "  <tbody>\n",
       "    <tr>\n",
       "      <th>0</th>\n",
       "      <td>Croydon</td>\n",
       "      <td>0</td>\n",
       "      <td>2016</td>\n",
       "    </tr>\n",
       "    <tr>\n",
       "      <th>1</th>\n",
       "      <td>Greenwich</td>\n",
       "      <td>0</td>\n",
       "      <td>2016</td>\n",
       "    </tr>\n",
       "    <tr>\n",
       "      <th>2</th>\n",
       "      <td>Bromley</td>\n",
       "      <td>0</td>\n",
       "      <td>2015</td>\n",
       "    </tr>\n",
       "    <tr>\n",
       "      <th>3</th>\n",
       "      <td>Redbridge</td>\n",
       "      <td>0</td>\n",
       "      <td>2016</td>\n",
       "    </tr>\n",
       "    <tr>\n",
       "      <th>4</th>\n",
       "      <td>Wandsworth</td>\n",
       "      <td>0</td>\n",
       "      <td>2008</td>\n",
       "    </tr>\n",
       "  </tbody>\n",
       "</table>\n",
       "</div>"
      ],
      "text/plain": [
       "      borough  value  year\n",
       "0     Croydon      0  2016\n",
       "1   Greenwich      0  2016\n",
       "2     Bromley      0  2015\n",
       "3   Redbridge      0  2016\n",
       "4  Wandsworth      0  2008"
      ]
     },
     "execution_count": 9,
     "metadata": {},
     "output_type": "execute_result"
    }
   ],
   "source": [
    "df_area.head()"
   ]
  },
  {
   "cell_type": "code",
   "execution_count": 10,
   "id": "ef1a3745",
   "metadata": {},
   "outputs": [],
   "source": [
    "df_areaplt = df_area.groupby(['borough','year'], axis=0).sum().reset_index()"
   ]
  },
  {
   "cell_type": "code",
   "execution_count": 11,
   "id": "5318e708",
   "metadata": {},
   "outputs": [
    {
     "data": {
      "text/html": [
       "<div>\n",
       "<style scoped>\n",
       "    .dataframe tbody tr th:only-of-type {\n",
       "        vertical-align: middle;\n",
       "    }\n",
       "\n",
       "    .dataframe tbody tr th {\n",
       "        vertical-align: top;\n",
       "    }\n",
       "\n",
       "    .dataframe thead th {\n",
       "        text-align: right;\n",
       "    }\n",
       "</style>\n",
       "<table border=\"1\" class=\"dataframe\">\n",
       "  <thead>\n",
       "    <tr style=\"text-align: right;\">\n",
       "      <th></th>\n",
       "      <th>borough</th>\n",
       "      <th>year</th>\n",
       "      <th>value</th>\n",
       "    </tr>\n",
       "  </thead>\n",
       "  <tbody>\n",
       "    <tr>\n",
       "      <th>0</th>\n",
       "      <td>Barking and Dagenham</td>\n",
       "      <td>2008</td>\n",
       "      <td>17656</td>\n",
       "    </tr>\n",
       "    <tr>\n",
       "      <th>1</th>\n",
       "      <td>Barking and Dagenham</td>\n",
       "      <td>2009</td>\n",
       "      <td>17713</td>\n",
       "    </tr>\n",
       "    <tr>\n",
       "      <th>2</th>\n",
       "      <td>Barking and Dagenham</td>\n",
       "      <td>2010</td>\n",
       "      <td>17130</td>\n",
       "    </tr>\n",
       "    <tr>\n",
       "      <th>3</th>\n",
       "      <td>Barking and Dagenham</td>\n",
       "      <td>2011</td>\n",
       "      <td>16686</td>\n",
       "    </tr>\n",
       "    <tr>\n",
       "      <th>4</th>\n",
       "      <td>Barking and Dagenham</td>\n",
       "      <td>2012</td>\n",
       "      <td>15990</td>\n",
       "    </tr>\n",
       "  </tbody>\n",
       "</table>\n",
       "</div>"
      ],
      "text/plain": [
       "                borough  year  value\n",
       "0  Barking and Dagenham  2008  17656\n",
       "1  Barking and Dagenham  2009  17713\n",
       "2  Barking and Dagenham  2010  17130\n",
       "3  Barking and Dagenham  2011  16686\n",
       "4  Barking and Dagenham  2012  15990"
      ]
     },
     "execution_count": 11,
     "metadata": {},
     "output_type": "execute_result"
    }
   ],
   "source": [
    "df_areaplt.head()"
   ]
  },
  {
   "cell_type": "code",
   "execution_count": 12,
   "id": "ddb8cb77",
   "metadata": {},
   "outputs": [],
   "source": [
    "df_areaplt.set_index('year',inplace=True)"
   ]
  },
  {
   "cell_type": "code",
   "execution_count": 13,
   "id": "b98e3cb1",
   "metadata": {},
   "outputs": [
    {
     "data": {
      "text/html": [
       "<div>\n",
       "<style scoped>\n",
       "    .dataframe tbody tr th:only-of-type {\n",
       "        vertical-align: middle;\n",
       "    }\n",
       "\n",
       "    .dataframe tbody tr th {\n",
       "        vertical-align: top;\n",
       "    }\n",
       "\n",
       "    .dataframe thead th {\n",
       "        text-align: right;\n",
       "    }\n",
       "</style>\n",
       "<table border=\"1\" class=\"dataframe\">\n",
       "  <thead>\n",
       "    <tr style=\"text-align: right;\">\n",
       "      <th></th>\n",
       "      <th>borough</th>\n",
       "      <th>value</th>\n",
       "    </tr>\n",
       "    <tr>\n",
       "      <th>year</th>\n",
       "      <th></th>\n",
       "      <th></th>\n",
       "    </tr>\n",
       "  </thead>\n",
       "  <tbody>\n",
       "    <tr>\n",
       "      <th>2008</th>\n",
       "      <td>Barking and Dagenham</td>\n",
       "      <td>17656</td>\n",
       "    </tr>\n",
       "    <tr>\n",
       "      <th>2009</th>\n",
       "      <td>Barking and Dagenham</td>\n",
       "      <td>17713</td>\n",
       "    </tr>\n",
       "    <tr>\n",
       "      <th>2010</th>\n",
       "      <td>Barking and Dagenham</td>\n",
       "      <td>17130</td>\n",
       "    </tr>\n",
       "    <tr>\n",
       "      <th>2011</th>\n",
       "      <td>Barking and Dagenham</td>\n",
       "      <td>16686</td>\n",
       "    </tr>\n",
       "    <tr>\n",
       "      <th>2012</th>\n",
       "      <td>Barking and Dagenham</td>\n",
       "      <td>15990</td>\n",
       "    </tr>\n",
       "  </tbody>\n",
       "</table>\n",
       "</div>"
      ],
      "text/plain": [
       "                   borough  value\n",
       "year                             \n",
       "2008  Barking and Dagenham  17656\n",
       "2009  Barking and Dagenham  17713\n",
       "2010  Barking and Dagenham  17130\n",
       "2011  Barking and Dagenham  16686\n",
       "2012  Barking and Dagenham  15990"
      ]
     },
     "execution_count": 13,
     "metadata": {},
     "output_type": "execute_result"
    }
   ],
   "source": [
    "df_areaplt.head()"
   ]
  },
  {
   "cell_type": "code",
   "execution_count": 14,
   "id": "44e5687e",
   "metadata": {},
   "outputs": [],
   "source": [
    "df_areaplt = df_areaplt.pivot_table(index= 'year', columns= 'borough', values='value')"
   ]
  },
  {
   "cell_type": "code",
   "execution_count": 15,
   "id": "bdf26584",
   "metadata": {},
   "outputs": [
    {
     "data": {
      "text/html": [
       "<div>\n",
       "<style scoped>\n",
       "    .dataframe tbody tr th:only-of-type {\n",
       "        vertical-align: middle;\n",
       "    }\n",
       "\n",
       "    .dataframe tbody tr th {\n",
       "        vertical-align: top;\n",
       "    }\n",
       "\n",
       "    .dataframe thead th {\n",
       "        text-align: right;\n",
       "    }\n",
       "</style>\n",
       "<table border=\"1\" class=\"dataframe\">\n",
       "  <thead>\n",
       "    <tr style=\"text-align: right;\">\n",
       "      <th>borough</th>\n",
       "      <th>Barking and Dagenham</th>\n",
       "      <th>Barnet</th>\n",
       "      <th>Bexley</th>\n",
       "      <th>Brent</th>\n",
       "      <th>Bromley</th>\n",
       "      <th>Camden</th>\n",
       "      <th>City of London</th>\n",
       "      <th>Croydon</th>\n",
       "      <th>Ealing</th>\n",
       "      <th>Enfield</th>\n",
       "      <th>...</th>\n",
       "      <th>Merton</th>\n",
       "      <th>Newham</th>\n",
       "      <th>Redbridge</th>\n",
       "      <th>Richmond upon Thames</th>\n",
       "      <th>Southwark</th>\n",
       "      <th>Sutton</th>\n",
       "      <th>Tower Hamlets</th>\n",
       "      <th>Waltham Forest</th>\n",
       "      <th>Wandsworth</th>\n",
       "      <th>Westminster</th>\n",
       "    </tr>\n",
       "    <tr>\n",
       "      <th>year</th>\n",
       "      <th></th>\n",
       "      <th></th>\n",
       "      <th></th>\n",
       "      <th></th>\n",
       "      <th></th>\n",
       "      <th></th>\n",
       "      <th></th>\n",
       "      <th></th>\n",
       "      <th></th>\n",
       "      <th></th>\n",
       "      <th></th>\n",
       "      <th></th>\n",
       "      <th></th>\n",
       "      <th></th>\n",
       "      <th></th>\n",
       "      <th></th>\n",
       "      <th></th>\n",
       "      <th></th>\n",
       "      <th></th>\n",
       "      <th></th>\n",
       "      <th></th>\n",
       "    </tr>\n",
       "  </thead>\n",
       "  <tbody>\n",
       "    <tr>\n",
       "      <th>2008</th>\n",
       "      <td>17656</td>\n",
       "      <td>23944</td>\n",
       "      <td>15305</td>\n",
       "      <td>23504</td>\n",
       "      <td>24015</td>\n",
       "      <td>32010</td>\n",
       "      <td>0</td>\n",
       "      <td>29516</td>\n",
       "      <td>28947</td>\n",
       "      <td>21980</td>\n",
       "      <td>...</td>\n",
       "      <td>13875</td>\n",
       "      <td>29752</td>\n",
       "      <td>20873</td>\n",
       "      <td>11106</td>\n",
       "      <td>33470</td>\n",
       "      <td>12943</td>\n",
       "      <td>23578</td>\n",
       "      <td>24080</td>\n",
       "      <td>23330</td>\n",
       "      <td>47846</td>\n",
       "    </tr>\n",
       "    <tr>\n",
       "      <th>2009</th>\n",
       "      <td>17713</td>\n",
       "      <td>23449</td>\n",
       "      <td>14445</td>\n",
       "      <td>24748</td>\n",
       "      <td>21858</td>\n",
       "      <td>31612</td>\n",
       "      <td>0</td>\n",
       "      <td>29784</td>\n",
       "      <td>28617</td>\n",
       "      <td>21147</td>\n",
       "      <td>...</td>\n",
       "      <td>13561</td>\n",
       "      <td>28610</td>\n",
       "      <td>20837</td>\n",
       "      <td>10618</td>\n",
       "      <td>30623</td>\n",
       "      <td>12240</td>\n",
       "      <td>21959</td>\n",
       "      <td>24761</td>\n",
       "      <td>23021</td>\n",
       "      <td>48456</td>\n",
       "    </tr>\n",
       "    <tr>\n",
       "      <th>2010</th>\n",
       "      <td>17130</td>\n",
       "      <td>23416</td>\n",
       "      <td>13166</td>\n",
       "      <td>25512</td>\n",
       "      <td>19572</td>\n",
       "      <td>31804</td>\n",
       "      <td>0</td>\n",
       "      <td>29373</td>\n",
       "      <td>31360</td>\n",
       "      <td>20808</td>\n",
       "      <td>...</td>\n",
       "      <td>13595</td>\n",
       "      <td>30728</td>\n",
       "      <td>20652</td>\n",
       "      <td>10601</td>\n",
       "      <td>31320</td>\n",
       "      <td>12032</td>\n",
       "      <td>23072</td>\n",
       "      <td>24818</td>\n",
       "      <td>22815</td>\n",
       "      <td>48116</td>\n",
       "    </tr>\n",
       "    <tr>\n",
       "      <th>2011</th>\n",
       "      <td>16686</td>\n",
       "      <td>24007</td>\n",
       "      <td>11325</td>\n",
       "      <td>27669</td>\n",
       "      <td>19868</td>\n",
       "      <td>33956</td>\n",
       "      <td>69</td>\n",
       "      <td>29830</td>\n",
       "      <td>29537</td>\n",
       "      <td>21041</td>\n",
       "      <td>...</td>\n",
       "      <td>13548</td>\n",
       "      <td>27978</td>\n",
       "      <td>21994</td>\n",
       "      <td>10896</td>\n",
       "      <td>30723</td>\n",
       "      <td>11068</td>\n",
       "      <td>24712</td>\n",
       "      <td>23714</td>\n",
       "      <td>21384</td>\n",
       "      <td>54243</td>\n",
       "    </tr>\n",
       "    <tr>\n",
       "      <th>2012</th>\n",
       "      <td>15990</td>\n",
       "      <td>23573</td>\n",
       "      <td>11669</td>\n",
       "      <td>26357</td>\n",
       "      <td>19622</td>\n",
       "      <td>31472</td>\n",
       "      <td>157</td>\n",
       "      <td>30189</td>\n",
       "      <td>28832</td>\n",
       "      <td>21069</td>\n",
       "      <td>...</td>\n",
       "      <td>12856</td>\n",
       "      <td>30067</td>\n",
       "      <td>21424</td>\n",
       "      <td>11168</td>\n",
       "      <td>30737</td>\n",
       "      <td>10948</td>\n",
       "      <td>26784</td>\n",
       "      <td>22647</td>\n",
       "      <td>24457</td>\n",
       "      <td>59226</td>\n",
       "    </tr>\n",
       "  </tbody>\n",
       "</table>\n",
       "<p>5 rows × 33 columns</p>\n",
       "</div>"
      ],
      "text/plain": [
       "borough  Barking and Dagenham  Barnet  Bexley  Brent  Bromley  Camden  \\\n",
       "year                                                                    \n",
       "2008                    17656   23944   15305  23504    24015   32010   \n",
       "2009                    17713   23449   14445  24748    21858   31612   \n",
       "2010                    17130   23416   13166  25512    19572   31804   \n",
       "2011                    16686   24007   11325  27669    19868   33956   \n",
       "2012                    15990   23573   11669  26357    19622   31472   \n",
       "\n",
       "borough  City of London  Croydon  Ealing  Enfield  ...  Merton  Newham  \\\n",
       "year                                               ...                   \n",
       "2008                  0    29516   28947    21980  ...   13875   29752   \n",
       "2009                  0    29784   28617    21147  ...   13561   28610   \n",
       "2010                  0    29373   31360    20808  ...   13595   30728   \n",
       "2011                 69    29830   29537    21041  ...   13548   27978   \n",
       "2012                157    30189   28832    21069  ...   12856   30067   \n",
       "\n",
       "borough  Redbridge  Richmond upon Thames  Southwark  Sutton  Tower Hamlets  \\\n",
       "year                                                                         \n",
       "2008         20873                 11106      33470   12943          23578   \n",
       "2009         20837                 10618      30623   12240          21959   \n",
       "2010         20652                 10601      31320   12032          23072   \n",
       "2011         21994                 10896      30723   11068          24712   \n",
       "2012         21424                 11168      30737   10948          26784   \n",
       "\n",
       "borough  Waltham Forest  Wandsworth  Westminster  \n",
       "year                                              \n",
       "2008              24080       23330        47846  \n",
       "2009              24761       23021        48456  \n",
       "2010              24818       22815        48116  \n",
       "2011              23714       21384        54243  \n",
       "2012              22647       24457        59226  \n",
       "\n",
       "[5 rows x 33 columns]"
      ]
     },
     "execution_count": 15,
     "metadata": {},
     "output_type": "execute_result"
    }
   ],
   "source": [
    "df_areaplt.head()"
   ]
  },
  {
   "cell_type": "code",
   "execution_count": 16,
   "id": "6ab47e1a",
   "metadata": {},
   "outputs": [],
   "source": [
    "df_areaplt.index.name = None"
   ]
  },
  {
   "cell_type": "code",
   "execution_count": 17,
   "id": "920fd95b",
   "metadata": {},
   "outputs": [],
   "source": [
    "df_areaplt.columns.name = None"
   ]
  },
  {
   "cell_type": "code",
   "execution_count": 18,
   "id": "742a2717",
   "metadata": {},
   "outputs": [],
   "source": [
    "df_areaplt = df_areaplt.transpose()"
   ]
  },
  {
   "cell_type": "code",
   "execution_count": 19,
   "id": "c7855121",
   "metadata": {},
   "outputs": [
    {
     "data": {
      "text/html": [
       "<div>\n",
       "<style scoped>\n",
       "    .dataframe tbody tr th:only-of-type {\n",
       "        vertical-align: middle;\n",
       "    }\n",
       "\n",
       "    .dataframe tbody tr th {\n",
       "        vertical-align: top;\n",
       "    }\n",
       "\n",
       "    .dataframe thead th {\n",
       "        text-align: right;\n",
       "    }\n",
       "</style>\n",
       "<table border=\"1\" class=\"dataframe\">\n",
       "  <thead>\n",
       "    <tr style=\"text-align: right;\">\n",
       "      <th></th>\n",
       "      <th>2008</th>\n",
       "      <th>2009</th>\n",
       "      <th>2010</th>\n",
       "      <th>2011</th>\n",
       "      <th>2012</th>\n",
       "      <th>2013</th>\n",
       "      <th>2014</th>\n",
       "      <th>2015</th>\n",
       "      <th>2016</th>\n",
       "    </tr>\n",
       "  </thead>\n",
       "  <tbody>\n",
       "    <tr>\n",
       "      <th>Barking and Dagenham</th>\n",
       "      <td>17656</td>\n",
       "      <td>17713</td>\n",
       "      <td>17130</td>\n",
       "      <td>16686</td>\n",
       "      <td>15990</td>\n",
       "      <td>15759</td>\n",
       "      <td>15426</td>\n",
       "      <td>16346</td>\n",
       "      <td>16741</td>\n",
       "    </tr>\n",
       "    <tr>\n",
       "      <th>Barnet</th>\n",
       "      <td>23944</td>\n",
       "      <td>23449</td>\n",
       "      <td>23416</td>\n",
       "      <td>24007</td>\n",
       "      <td>23573</td>\n",
       "      <td>22510</td>\n",
       "      <td>22572</td>\n",
       "      <td>24036</td>\n",
       "      <td>24684</td>\n",
       "    </tr>\n",
       "    <tr>\n",
       "      <th>Bexley</th>\n",
       "      <td>15305</td>\n",
       "      <td>14445</td>\n",
       "      <td>13166</td>\n",
       "      <td>11325</td>\n",
       "      <td>11669</td>\n",
       "      <td>11552</td>\n",
       "      <td>11844</td>\n",
       "      <td>11990</td>\n",
       "      <td>12840</td>\n",
       "    </tr>\n",
       "    <tr>\n",
       "      <th>Brent</th>\n",
       "      <td>23504</td>\n",
       "      <td>24748</td>\n",
       "      <td>25512</td>\n",
       "      <td>27669</td>\n",
       "      <td>26357</td>\n",
       "      <td>23759</td>\n",
       "      <td>24426</td>\n",
       "      <td>24883</td>\n",
       "      <td>26693</td>\n",
       "    </tr>\n",
       "    <tr>\n",
       "      <th>Bromley</th>\n",
       "      <td>24015</td>\n",
       "      <td>21858</td>\n",
       "      <td>19572</td>\n",
       "      <td>19868</td>\n",
       "      <td>19622</td>\n",
       "      <td>18945</td>\n",
       "      <td>19668</td>\n",
       "      <td>20637</td>\n",
       "      <td>20164</td>\n",
       "    </tr>\n",
       "  </tbody>\n",
       "</table>\n",
       "</div>"
      ],
      "text/plain": [
       "                       2008   2009   2010   2011   2012   2013   2014   2015  \\\n",
       "Barking and Dagenham  17656  17713  17130  16686  15990  15759  15426  16346   \n",
       "Barnet                23944  23449  23416  24007  23573  22510  22572  24036   \n",
       "Bexley                15305  14445  13166  11325  11669  11552  11844  11990   \n",
       "Brent                 23504  24748  25512  27669  26357  23759  24426  24883   \n",
       "Bromley               24015  21858  19572  19868  19622  18945  19668  20637   \n",
       "\n",
       "                       2016  \n",
       "Barking and Dagenham  16741  \n",
       "Barnet                24684  \n",
       "Bexley                12840  \n",
       "Brent                 26693  \n",
       "Bromley               20164  "
      ]
     },
     "execution_count": 19,
     "metadata": {},
     "output_type": "execute_result"
    }
   ],
   "source": [
    "df_areaplt.head()"
   ]
  },
  {
   "cell_type": "code",
   "execution_count": 20,
   "id": "67d3756d",
   "metadata": {},
   "outputs": [],
   "source": [
    "df_areaplt['Total'] = df_areaplt.sum(axis=1, skipna= True)"
   ]
  },
  {
   "cell_type": "code",
   "execution_count": 21,
   "id": "17aa1b58",
   "metadata": {},
   "outputs": [
    {
     "data": {
      "text/html": [
       "<div>\n",
       "<style scoped>\n",
       "    .dataframe tbody tr th:only-of-type {\n",
       "        vertical-align: middle;\n",
       "    }\n",
       "\n",
       "    .dataframe tbody tr th {\n",
       "        vertical-align: top;\n",
       "    }\n",
       "\n",
       "    .dataframe thead th {\n",
       "        text-align: right;\n",
       "    }\n",
       "</style>\n",
       "<table border=\"1\" class=\"dataframe\">\n",
       "  <thead>\n",
       "    <tr style=\"text-align: right;\">\n",
       "      <th></th>\n",
       "      <th>2008</th>\n",
       "      <th>2009</th>\n",
       "      <th>2010</th>\n",
       "      <th>2011</th>\n",
       "      <th>2012</th>\n",
       "      <th>2013</th>\n",
       "      <th>2014</th>\n",
       "      <th>2015</th>\n",
       "      <th>2016</th>\n",
       "      <th>Total</th>\n",
       "    </tr>\n",
       "  </thead>\n",
       "  <tbody>\n",
       "    <tr>\n",
       "      <th>Barking and Dagenham</th>\n",
       "      <td>17656</td>\n",
       "      <td>17713</td>\n",
       "      <td>17130</td>\n",
       "      <td>16686</td>\n",
       "      <td>15990</td>\n",
       "      <td>15759</td>\n",
       "      <td>15426</td>\n",
       "      <td>16346</td>\n",
       "      <td>16741</td>\n",
       "      <td>149447</td>\n",
       "    </tr>\n",
       "    <tr>\n",
       "      <th>Barnet</th>\n",
       "      <td>23944</td>\n",
       "      <td>23449</td>\n",
       "      <td>23416</td>\n",
       "      <td>24007</td>\n",
       "      <td>23573</td>\n",
       "      <td>22510</td>\n",
       "      <td>22572</td>\n",
       "      <td>24036</td>\n",
       "      <td>24684</td>\n",
       "      <td>212191</td>\n",
       "    </tr>\n",
       "    <tr>\n",
       "      <th>Bexley</th>\n",
       "      <td>15305</td>\n",
       "      <td>14445</td>\n",
       "      <td>13166</td>\n",
       "      <td>11325</td>\n",
       "      <td>11669</td>\n",
       "      <td>11552</td>\n",
       "      <td>11844</td>\n",
       "      <td>11990</td>\n",
       "      <td>12840</td>\n",
       "      <td>114136</td>\n",
       "    </tr>\n",
       "    <tr>\n",
       "      <th>Brent</th>\n",
       "      <td>23504</td>\n",
       "      <td>24748</td>\n",
       "      <td>25512</td>\n",
       "      <td>27669</td>\n",
       "      <td>26357</td>\n",
       "      <td>23759</td>\n",
       "      <td>24426</td>\n",
       "      <td>24883</td>\n",
       "      <td>26693</td>\n",
       "      <td>227551</td>\n",
       "    </tr>\n",
       "    <tr>\n",
       "      <th>Bromley</th>\n",
       "      <td>24015</td>\n",
       "      <td>21858</td>\n",
       "      <td>19572</td>\n",
       "      <td>19868</td>\n",
       "      <td>19622</td>\n",
       "      <td>18945</td>\n",
       "      <td>19668</td>\n",
       "      <td>20637</td>\n",
       "      <td>20164</td>\n",
       "      <td>184349</td>\n",
       "    </tr>\n",
       "  </tbody>\n",
       "</table>\n",
       "</div>"
      ],
      "text/plain": [
       "                       2008   2009   2010   2011   2012   2013   2014   2015  \\\n",
       "Barking and Dagenham  17656  17713  17130  16686  15990  15759  15426  16346   \n",
       "Barnet                23944  23449  23416  24007  23573  22510  22572  24036   \n",
       "Bexley                15305  14445  13166  11325  11669  11552  11844  11990   \n",
       "Brent                 23504  24748  25512  27669  26357  23759  24426  24883   \n",
       "Bromley               24015  21858  19572  19868  19622  18945  19668  20637   \n",
       "\n",
       "                       2016   Total  \n",
       "Barking and Dagenham  16741  149447  \n",
       "Barnet                24684  212191  \n",
       "Bexley                12840  114136  \n",
       "Brent                 26693  227551  \n",
       "Bromley               20164  184349  "
      ]
     },
     "execution_count": 21,
     "metadata": {},
     "output_type": "execute_result"
    }
   ],
   "source": [
    "df_areaplt.head()"
   ]
  },
  {
   "cell_type": "code",
   "execution_count": 22,
   "id": "985744c8",
   "metadata": {},
   "outputs": [
    {
     "data": {
      "text/html": [
       "<div>\n",
       "<style scoped>\n",
       "    .dataframe tbody tr th:only-of-type {\n",
       "        vertical-align: middle;\n",
       "    }\n",
       "\n",
       "    .dataframe tbody tr th {\n",
       "        vertical-align: top;\n",
       "    }\n",
       "\n",
       "    .dataframe thead th {\n",
       "        text-align: right;\n",
       "    }\n",
       "</style>\n",
       "<table border=\"1\" class=\"dataframe\">\n",
       "  <thead>\n",
       "    <tr style=\"text-align: right;\">\n",
       "      <th></th>\n",
       "      <th>2008</th>\n",
       "      <th>2009</th>\n",
       "      <th>2010</th>\n",
       "      <th>2011</th>\n",
       "      <th>2012</th>\n",
       "      <th>2013</th>\n",
       "      <th>2014</th>\n",
       "      <th>2015</th>\n",
       "      <th>2016</th>\n",
       "      <th>Total</th>\n",
       "    </tr>\n",
       "  </thead>\n",
       "  <tbody>\n",
       "    <tr>\n",
       "      <th>Westminster</th>\n",
       "      <td>47846</td>\n",
       "      <td>48456</td>\n",
       "      <td>48116</td>\n",
       "      <td>54243</td>\n",
       "      <td>59226</td>\n",
       "      <td>53852</td>\n",
       "      <td>47564</td>\n",
       "      <td>47395</td>\n",
       "      <td>48330</td>\n",
       "      <td>455028</td>\n",
       "    </tr>\n",
       "    <tr>\n",
       "      <th>Lambeth</th>\n",
       "      <td>31717</td>\n",
       "      <td>31225</td>\n",
       "      <td>31671</td>\n",
       "      <td>33224</td>\n",
       "      <td>33473</td>\n",
       "      <td>31868</td>\n",
       "      <td>31765</td>\n",
       "      <td>33164</td>\n",
       "      <td>34071</td>\n",
       "      <td>292178</td>\n",
       "    </tr>\n",
       "    <tr>\n",
       "      <th>Southwark</th>\n",
       "      <td>33470</td>\n",
       "      <td>30623</td>\n",
       "      <td>31320</td>\n",
       "      <td>30723</td>\n",
       "      <td>30737</td>\n",
       "      <td>31128</td>\n",
       "      <td>28912</td>\n",
       "      <td>30260</td>\n",
       "      <td>31636</td>\n",
       "      <td>278809</td>\n",
       "    </tr>\n",
       "    <tr>\n",
       "      <th>Camden</th>\n",
       "      <td>32010</td>\n",
       "      <td>31612</td>\n",
       "      <td>31804</td>\n",
       "      <td>33956</td>\n",
       "      <td>31472</td>\n",
       "      <td>28435</td>\n",
       "      <td>27198</td>\n",
       "      <td>29477</td>\n",
       "      <td>29183</td>\n",
       "      <td>275147</td>\n",
       "    </tr>\n",
       "    <tr>\n",
       "      <th>Newham</th>\n",
       "      <td>29752</td>\n",
       "      <td>28610</td>\n",
       "      <td>30728</td>\n",
       "      <td>27978</td>\n",
       "      <td>30067</td>\n",
       "      <td>27577</td>\n",
       "      <td>28005</td>\n",
       "      <td>29217</td>\n",
       "      <td>30090</td>\n",
       "      <td>262024</td>\n",
       "    </tr>\n",
       "    <tr>\n",
       "      <th>Croydon</th>\n",
       "      <td>29516</td>\n",
       "      <td>29784</td>\n",
       "      <td>29373</td>\n",
       "      <td>29830</td>\n",
       "      <td>30189</td>\n",
       "      <td>27444</td>\n",
       "      <td>27357</td>\n",
       "      <td>28089</td>\n",
       "      <td>28712</td>\n",
       "      <td>260294</td>\n",
       "    </tr>\n",
       "    <tr>\n",
       "      <th>Ealing</th>\n",
       "      <td>28947</td>\n",
       "      <td>28617</td>\n",
       "      <td>31360</td>\n",
       "      <td>29537</td>\n",
       "      <td>28832</td>\n",
       "      <td>25917</td>\n",
       "      <td>24978</td>\n",
       "      <td>26247</td>\n",
       "      <td>27127</td>\n",
       "      <td>251562</td>\n",
       "    </tr>\n",
       "    <tr>\n",
       "      <th>Islington</th>\n",
       "      <td>26273</td>\n",
       "      <td>25485</td>\n",
       "      <td>24693</td>\n",
       "      <td>24980</td>\n",
       "      <td>26268</td>\n",
       "      <td>23784</td>\n",
       "      <td>24679</td>\n",
       "      <td>27032</td>\n",
       "      <td>27092</td>\n",
       "      <td>230286</td>\n",
       "    </tr>\n",
       "    <tr>\n",
       "      <th>Tower Hamlets</th>\n",
       "      <td>23578</td>\n",
       "      <td>21959</td>\n",
       "      <td>23072</td>\n",
       "      <td>24712</td>\n",
       "      <td>26784</td>\n",
       "      <td>26258</td>\n",
       "      <td>25504</td>\n",
       "      <td>27493</td>\n",
       "      <td>29253</td>\n",
       "      <td>228613</td>\n",
       "    </tr>\n",
       "    <tr>\n",
       "      <th>Brent</th>\n",
       "      <td>23504</td>\n",
       "      <td>24748</td>\n",
       "      <td>25512</td>\n",
       "      <td>27669</td>\n",
       "      <td>26357</td>\n",
       "      <td>23759</td>\n",
       "      <td>24426</td>\n",
       "      <td>24883</td>\n",
       "      <td>26693</td>\n",
       "      <td>227551</td>\n",
       "    </tr>\n",
       "  </tbody>\n",
       "</table>\n",
       "</div>"
      ],
      "text/plain": [
       "                2008   2009   2010   2011   2012   2013   2014   2015   2016  \\\n",
       "Westminster    47846  48456  48116  54243  59226  53852  47564  47395  48330   \n",
       "Lambeth        31717  31225  31671  33224  33473  31868  31765  33164  34071   \n",
       "Southwark      33470  30623  31320  30723  30737  31128  28912  30260  31636   \n",
       "Camden         32010  31612  31804  33956  31472  28435  27198  29477  29183   \n",
       "Newham         29752  28610  30728  27978  30067  27577  28005  29217  30090   \n",
       "Croydon        29516  29784  29373  29830  30189  27444  27357  28089  28712   \n",
       "Ealing         28947  28617  31360  29537  28832  25917  24978  26247  27127   \n",
       "Islington      26273  25485  24693  24980  26268  23784  24679  27032  27092   \n",
       "Tower Hamlets  23578  21959  23072  24712  26784  26258  25504  27493  29253   \n",
       "Brent          23504  24748  25512  27669  26357  23759  24426  24883  26693   \n",
       "\n",
       "                Total  \n",
       "Westminster    455028  \n",
       "Lambeth        292178  \n",
       "Southwark      278809  \n",
       "Camden         275147  \n",
       "Newham         262024  \n",
       "Croydon        260294  \n",
       "Ealing         251562  \n",
       "Islington      230286  \n",
       "Tower Hamlets  228613  \n",
       "Brent          227551  "
      ]
     },
     "execution_count": 22,
     "metadata": {},
     "output_type": "execute_result"
    }
   ],
   "source": [
    "df_areaplt.sort_values(by='Total', ascending=False, axis=0, inplace=True)\n",
    "df_areaplt.head(10)"
   ]
  },
  {
   "cell_type": "code",
   "execution_count": 23,
   "id": "49490378",
   "metadata": {},
   "outputs": [
    {
     "data": {
      "text/html": [
       "<div>\n",
       "<style scoped>\n",
       "    .dataframe tbody tr th:only-of-type {\n",
       "        vertical-align: middle;\n",
       "    }\n",
       "\n",
       "    .dataframe tbody tr th {\n",
       "        vertical-align: top;\n",
       "    }\n",
       "\n",
       "    .dataframe thead th {\n",
       "        text-align: right;\n",
       "    }\n",
       "</style>\n",
       "<table border=\"1\" class=\"dataframe\">\n",
       "  <thead>\n",
       "    <tr style=\"text-align: right;\">\n",
       "      <th></th>\n",
       "      <th>2008</th>\n",
       "      <th>2009</th>\n",
       "      <th>2010</th>\n",
       "      <th>2011</th>\n",
       "      <th>2012</th>\n",
       "      <th>2013</th>\n",
       "      <th>2014</th>\n",
       "      <th>2015</th>\n",
       "      <th>2016</th>\n",
       "      <th>Total</th>\n",
       "    </tr>\n",
       "  </thead>\n",
       "  <tbody>\n",
       "    <tr>\n",
       "      <th>Bexley</th>\n",
       "      <td>15305</td>\n",
       "      <td>14445</td>\n",
       "      <td>13166</td>\n",
       "      <td>11325</td>\n",
       "      <td>11669</td>\n",
       "      <td>11552</td>\n",
       "      <td>11844</td>\n",
       "      <td>11990</td>\n",
       "      <td>12840</td>\n",
       "      <td>114136</td>\n",
       "    </tr>\n",
       "    <tr>\n",
       "      <th>Sutton</th>\n",
       "      <td>12943</td>\n",
       "      <td>12240</td>\n",
       "      <td>12032</td>\n",
       "      <td>11068</td>\n",
       "      <td>10948</td>\n",
       "      <td>10057</td>\n",
       "      <td>10443</td>\n",
       "      <td>10598</td>\n",
       "      <td>10658</td>\n",
       "      <td>100987</td>\n",
       "    </tr>\n",
       "    <tr>\n",
       "      <th>Richmond upon Thames</th>\n",
       "      <td>11106</td>\n",
       "      <td>10618</td>\n",
       "      <td>10601</td>\n",
       "      <td>10896</td>\n",
       "      <td>11168</td>\n",
       "      <td>10439</td>\n",
       "      <td>10456</td>\n",
       "      <td>10413</td>\n",
       "      <td>11074</td>\n",
       "      <td>96771</td>\n",
       "    </tr>\n",
       "    <tr>\n",
       "      <th>Kingston upon Thames</th>\n",
       "      <td>10661</td>\n",
       "      <td>10163</td>\n",
       "      <td>10171</td>\n",
       "      <td>10155</td>\n",
       "      <td>9956</td>\n",
       "      <td>9191</td>\n",
       "      <td>9288</td>\n",
       "      <td>9738</td>\n",
       "      <td>9983</td>\n",
       "      <td>89306</td>\n",
       "    </tr>\n",
       "    <tr>\n",
       "      <th>City of London</th>\n",
       "      <td>0</td>\n",
       "      <td>0</td>\n",
       "      <td>0</td>\n",
       "      <td>69</td>\n",
       "      <td>157</td>\n",
       "      <td>110</td>\n",
       "      <td>115</td>\n",
       "      <td>151</td>\n",
       "      <td>178</td>\n",
       "      <td>780</td>\n",
       "    </tr>\n",
       "  </tbody>\n",
       "</table>\n",
       "</div>"
      ],
      "text/plain": [
       "                       2008   2009   2010   2011   2012   2013   2014   2015  \\\n",
       "Bexley                15305  14445  13166  11325  11669  11552  11844  11990   \n",
       "Sutton                12943  12240  12032  11068  10948  10057  10443  10598   \n",
       "Richmond upon Thames  11106  10618  10601  10896  11168  10439  10456  10413   \n",
       "Kingston upon Thames  10661  10163  10171  10155   9956   9191   9288   9738   \n",
       "City of London            0      0      0     69    157    110    115    151   \n",
       "\n",
       "                       2016   Total  \n",
       "Bexley                12840  114136  \n",
       "Sutton                10658  100987  \n",
       "Richmond upon Thames  11074   96771  \n",
       "Kingston upon Thames   9983   89306  \n",
       "City of London          178     780  "
      ]
     },
     "execution_count": 23,
     "metadata": {},
     "output_type": "execute_result"
    }
   ],
   "source": [
    "df_areaplt.tail()"
   ]
  },
  {
   "cell_type": "code",
   "execution_count": 24,
   "id": "c3aa3d66",
   "metadata": {},
   "outputs": [],
   "source": [
    "df_topcrime = df_areaplt.head(5).transpose()"
   ]
  },
  {
   "cell_type": "code",
   "execution_count": 25,
   "id": "4e3480a6",
   "metadata": {},
   "outputs": [
    {
     "data": {
      "text/html": [
       "<div>\n",
       "<style scoped>\n",
       "    .dataframe tbody tr th:only-of-type {\n",
       "        vertical-align: middle;\n",
       "    }\n",
       "\n",
       "    .dataframe tbody tr th {\n",
       "        vertical-align: top;\n",
       "    }\n",
       "\n",
       "    .dataframe thead th {\n",
       "        text-align: right;\n",
       "    }\n",
       "</style>\n",
       "<table border=\"1\" class=\"dataframe\">\n",
       "  <thead>\n",
       "    <tr style=\"text-align: right;\">\n",
       "      <th></th>\n",
       "      <th>Westminster</th>\n",
       "      <th>Lambeth</th>\n",
       "      <th>Southwark</th>\n",
       "      <th>Camden</th>\n",
       "      <th>Newham</th>\n",
       "    </tr>\n",
       "  </thead>\n",
       "  <tbody>\n",
       "    <tr>\n",
       "      <th>2008</th>\n",
       "      <td>47846</td>\n",
       "      <td>31717</td>\n",
       "      <td>33470</td>\n",
       "      <td>32010</td>\n",
       "      <td>29752</td>\n",
       "    </tr>\n",
       "    <tr>\n",
       "      <th>2009</th>\n",
       "      <td>48456</td>\n",
       "      <td>31225</td>\n",
       "      <td>30623</td>\n",
       "      <td>31612</td>\n",
       "      <td>28610</td>\n",
       "    </tr>\n",
       "    <tr>\n",
       "      <th>2010</th>\n",
       "      <td>48116</td>\n",
       "      <td>31671</td>\n",
       "      <td>31320</td>\n",
       "      <td>31804</td>\n",
       "      <td>30728</td>\n",
       "    </tr>\n",
       "    <tr>\n",
       "      <th>2011</th>\n",
       "      <td>54243</td>\n",
       "      <td>33224</td>\n",
       "      <td>30723</td>\n",
       "      <td>33956</td>\n",
       "      <td>27978</td>\n",
       "    </tr>\n",
       "    <tr>\n",
       "      <th>2012</th>\n",
       "      <td>59226</td>\n",
       "      <td>33473</td>\n",
       "      <td>30737</td>\n",
       "      <td>31472</td>\n",
       "      <td>30067</td>\n",
       "    </tr>\n",
       "    <tr>\n",
       "      <th>2013</th>\n",
       "      <td>53852</td>\n",
       "      <td>31868</td>\n",
       "      <td>31128</td>\n",
       "      <td>28435</td>\n",
       "      <td>27577</td>\n",
       "    </tr>\n",
       "    <tr>\n",
       "      <th>2014</th>\n",
       "      <td>47564</td>\n",
       "      <td>31765</td>\n",
       "      <td>28912</td>\n",
       "      <td>27198</td>\n",
       "      <td>28005</td>\n",
       "    </tr>\n",
       "    <tr>\n",
       "      <th>2015</th>\n",
       "      <td>47395</td>\n",
       "      <td>33164</td>\n",
       "      <td>30260</td>\n",
       "      <td>29477</td>\n",
       "      <td>29217</td>\n",
       "    </tr>\n",
       "    <tr>\n",
       "      <th>2016</th>\n",
       "      <td>48330</td>\n",
       "      <td>34071</td>\n",
       "      <td>31636</td>\n",
       "      <td>29183</td>\n",
       "      <td>30090</td>\n",
       "    </tr>\n",
       "    <tr>\n",
       "      <th>Total</th>\n",
       "      <td>455028</td>\n",
       "      <td>292178</td>\n",
       "      <td>278809</td>\n",
       "      <td>275147</td>\n",
       "      <td>262024</td>\n",
       "    </tr>\n",
       "  </tbody>\n",
       "</table>\n",
       "</div>"
      ],
      "text/plain": [
       "       Westminster  Lambeth  Southwark  Camden  Newham\n",
       "2008         47846    31717      33470   32010   29752\n",
       "2009         48456    31225      30623   31612   28610\n",
       "2010         48116    31671      31320   31804   30728\n",
       "2011         54243    33224      30723   33956   27978\n",
       "2012         59226    33473      30737   31472   30067\n",
       "2013         53852    31868      31128   28435   27577\n",
       "2014         47564    31765      28912   27198   28005\n",
       "2015         47395    33164      30260   29477   29217\n",
       "2016         48330    34071      31636   29183   30090\n",
       "Total       455028   292178     278809  275147  262024"
      ]
     },
     "execution_count": 25,
     "metadata": {},
     "output_type": "execute_result"
    }
   ],
   "source": [
    "df_topcrime.head(10)"
   ]
  },
  {
   "cell_type": "code",
   "execution_count": 26,
   "id": "619dfa46",
   "metadata": {},
   "outputs": [],
   "source": [
    "df_topcrime.drop('Total', axis =0,inplace=True)\n"
   ]
  },
  {
   "cell_type": "code",
   "execution_count": 27,
   "id": "c177de37",
   "metadata": {},
   "outputs": [
    {
     "data": {
      "text/plain": [
       "Int64Index([2008, 2009, 2010, 2011, 2012, 2013, 2014, 2015, 2016], dtype='int64')"
      ]
     },
     "execution_count": 27,
     "metadata": {},
     "output_type": "execute_result"
    }
   ],
   "source": [
    "df_topcrime.index.map(int)"
   ]
  },
  {
   "cell_type": "code",
   "execution_count": 28,
   "id": "c0e08a7b",
   "metadata": {},
   "outputs": [
    {
     "name": "stdout",
     "output_type": "stream",
     "text": [
      "<class 'pandas.core.frame.DataFrame'>\n",
      "Index: 9 entries, 2008 to 2016\n",
      "Data columns (total 5 columns):\n",
      " #   Column       Non-Null Count  Dtype\n",
      "---  ------       --------------  -----\n",
      " 0   Westminster  9 non-null      int64\n",
      " 1   Lambeth      9 non-null      int64\n",
      " 2   Southwark    9 non-null      int64\n",
      " 3   Camden       9 non-null      int64\n",
      " 4   Newham       9 non-null      int64\n",
      "dtypes: int64(5)\n",
      "memory usage: 432.0+ bytes\n"
     ]
    }
   ],
   "source": [
    "df_topcrime.info()"
   ]
  },
  {
   "cell_type": "code",
   "execution_count": 29,
   "id": "907f7280",
   "metadata": {},
   "outputs": [
    {
     "data": {
      "text/html": [
       "<div>\n",
       "<style scoped>\n",
       "    .dataframe tbody tr th:only-of-type {\n",
       "        vertical-align: middle;\n",
       "    }\n",
       "\n",
       "    .dataframe tbody tr th {\n",
       "        vertical-align: top;\n",
       "    }\n",
       "\n",
       "    .dataframe thead th {\n",
       "        text-align: right;\n",
       "    }\n",
       "</style>\n",
       "<table border=\"1\" class=\"dataframe\">\n",
       "  <thead>\n",
       "    <tr style=\"text-align: right;\">\n",
       "      <th></th>\n",
       "      <th>Westminster</th>\n",
       "      <th>Lambeth</th>\n",
       "      <th>Southwark</th>\n",
       "      <th>Camden</th>\n",
       "      <th>Newham</th>\n",
       "    </tr>\n",
       "  </thead>\n",
       "  <tbody>\n",
       "    <tr>\n",
       "      <th>2008</th>\n",
       "      <td>47846</td>\n",
       "      <td>31717</td>\n",
       "      <td>33470</td>\n",
       "      <td>32010</td>\n",
       "      <td>29752</td>\n",
       "    </tr>\n",
       "    <tr>\n",
       "      <th>2009</th>\n",
       "      <td>48456</td>\n",
       "      <td>31225</td>\n",
       "      <td>30623</td>\n",
       "      <td>31612</td>\n",
       "      <td>28610</td>\n",
       "    </tr>\n",
       "    <tr>\n",
       "      <th>2010</th>\n",
       "      <td>48116</td>\n",
       "      <td>31671</td>\n",
       "      <td>31320</td>\n",
       "      <td>31804</td>\n",
       "      <td>30728</td>\n",
       "    </tr>\n",
       "    <tr>\n",
       "      <th>2011</th>\n",
       "      <td>54243</td>\n",
       "      <td>33224</td>\n",
       "      <td>30723</td>\n",
       "      <td>33956</td>\n",
       "      <td>27978</td>\n",
       "    </tr>\n",
       "    <tr>\n",
       "      <th>2012</th>\n",
       "      <td>59226</td>\n",
       "      <td>33473</td>\n",
       "      <td>30737</td>\n",
       "      <td>31472</td>\n",
       "      <td>30067</td>\n",
       "    </tr>\n",
       "  </tbody>\n",
       "</table>\n",
       "</div>"
      ],
      "text/plain": [
       "      Westminster  Lambeth  Southwark  Camden  Newham\n",
       "2008        47846    31717      33470   32010   29752\n",
       "2009        48456    31225      30623   31612   28610\n",
       "2010        48116    31671      31320   31804   30728\n",
       "2011        54243    33224      30723   33956   27978\n",
       "2012        59226    33473      30737   31472   30067"
      ]
     },
     "execution_count": 29,
     "metadata": {},
     "output_type": "execute_result"
    }
   ],
   "source": [
    "df_topcrime.head()"
   ]
  },
  {
   "cell_type": "code",
   "execution_count": 30,
   "id": "9f606883",
   "metadata": {},
   "outputs": [
    {
     "data": {
      "image/png": "[encoded data removed]",
      "text/plain": [
       "<Figure size 1440x720 with 1 Axes>"
      ]
     },
     "metadata": {
      "needs_background": "light"
     },
     "output_type": "display_data"
    }
   ],
   "source": [
    "df_topcrime.plot(kind='area', \n",
    "             stacked=False,\n",
    "             alpha = 0.35,\n",
    "             figsize=(20, 10), # pass a tuple (x, y) size\n",
    "             )\n",
    "\n",
    "plt.title('Top 5 Crime Case in London')\n",
    "plt.ylabel('Crime')\n",
    "plt.xlabel('Years')\n",
    "\n",
    "plt.show()"
   ]
  },
  {
   "cell_type": "markdown",
   "id": "1c60324a",
   "metadata": {},
   "source": [
    "## Histogram\n",
    "Histogram digunakan untuk melihat banyaknya daerah pada rentang kriminalitas tertentu di London pada tahun 2015"
   ]
  },
  {
   "cell_type": "code",
   "execution_count": 31,
   "id": "2edd0f1f",
   "metadata": {},
   "outputs": [],
   "source": [
    "df_hist = df_area.copy()"
   ]
  },
  {
   "cell_type": "code",
   "execution_count": 32,
   "id": "90562ee2",
   "metadata": {},
   "outputs": [
    {
     "data": {
      "text/html": [
       "<div>\n",
       "<style scoped>\n",
       "    .dataframe tbody tr th:only-of-type {\n",
       "        vertical-align: middle;\n",
       "    }\n",
       "\n",
       "    .dataframe tbody tr th {\n",
       "        vertical-align: top;\n",
       "    }\n",
       "\n",
       "    .dataframe thead th {\n",
       "        text-align: right;\n",
       "    }\n",
       "</style>\n",
       "<table border=\"1\" class=\"dataframe\">\n",
       "  <thead>\n",
       "    <tr style=\"text-align: right;\">\n",
       "      <th></th>\n",
       "      <th>borough</th>\n",
       "      <th>value</th>\n",
       "      <th>year</th>\n",
       "    </tr>\n",
       "  </thead>\n",
       "  <tbody>\n",
       "    <tr>\n",
       "      <th>0</th>\n",
       "      <td>Croydon</td>\n",
       "      <td>0</td>\n",
       "      <td>2016</td>\n",
       "    </tr>\n",
       "    <tr>\n",
       "      <th>1</th>\n",
       "      <td>Greenwich</td>\n",
       "      <td>0</td>\n",
       "      <td>2016</td>\n",
       "    </tr>\n",
       "    <tr>\n",
       "      <th>2</th>\n",
       "      <td>Bromley</td>\n",
       "      <td>0</td>\n",
       "      <td>2015</td>\n",
       "    </tr>\n",
       "    <tr>\n",
       "      <th>3</th>\n",
       "      <td>Redbridge</td>\n",
       "      <td>0</td>\n",
       "      <td>2016</td>\n",
       "    </tr>\n",
       "    <tr>\n",
       "      <th>4</th>\n",
       "      <td>Wandsworth</td>\n",
       "      <td>0</td>\n",
       "      <td>2008</td>\n",
       "    </tr>\n",
       "  </tbody>\n",
       "</table>\n",
       "</div>"
      ],
      "text/plain": [
       "      borough  value  year\n",
       "0     Croydon      0  2016\n",
       "1   Greenwich      0  2016\n",
       "2     Bromley      0  2015\n",
       "3   Redbridge      0  2016\n",
       "4  Wandsworth      0  2008"
      ]
     },
     "execution_count": 32,
     "metadata": {},
     "output_type": "execute_result"
    }
   ],
   "source": [
    "df_hist.head()"
   ]
  },
  {
   "cell_type": "code",
   "execution_count": 33,
   "id": "f8e030a8",
   "metadata": {},
   "outputs": [],
   "source": [
    "df_hist = df_hist[df_hist['year'] == 2015]"
   ]
  },
  {
   "cell_type": "code",
   "execution_count": 34,
   "id": "055cced3",
   "metadata": {},
   "outputs": [],
   "source": [
    "df_hist.sort_values(\"borough\",inplace=True)"
   ]
  },
  {
   "cell_type": "code",
   "execution_count": 35,
   "id": "616f11da",
   "metadata": {},
   "outputs": [],
   "source": [
    "df_hist = df_hist.groupby(['borough','year'], axis=0).sum().reset_index()"
   ]
  },
  {
   "cell_type": "code",
   "execution_count": 36,
   "id": "dbd1ce4d",
   "metadata": {},
   "outputs": [
    {
     "data": {
      "text/plain": [
       "(33, 3)"
      ]
     },
     "execution_count": 36,
     "metadata": {},
     "output_type": "execute_result"
    }
   ],
   "source": [
    "df_hist.shape"
   ]
  },
  {
   "cell_type": "code",
   "execution_count": 37,
   "id": "7be95b20",
   "metadata": {},
   "outputs": [
    {
     "data": {
      "text/html": [
       "<div>\n",
       "<style scoped>\n",
       "    .dataframe tbody tr th:only-of-type {\n",
       "        vertical-align: middle;\n",
       "    }\n",
       "\n",
       "    .dataframe tbody tr th {\n",
       "        vertical-align: top;\n",
       "    }\n",
       "\n",
       "    .dataframe thead th {\n",
       "        text-align: right;\n",
       "    }\n",
       "</style>\n",
       "<table border=\"1\" class=\"dataframe\">\n",
       "  <thead>\n",
       "    <tr style=\"text-align: right;\">\n",
       "      <th></th>\n",
       "      <th>borough</th>\n",
       "      <th>year</th>\n",
       "      <th>value</th>\n",
       "    </tr>\n",
       "  </thead>\n",
       "  <tbody>\n",
       "    <tr>\n",
       "      <th>0</th>\n",
       "      <td>Barking and Dagenham</td>\n",
       "      <td>2015</td>\n",
       "      <td>16346</td>\n",
       "    </tr>\n",
       "    <tr>\n",
       "      <th>1</th>\n",
       "      <td>Barnet</td>\n",
       "      <td>2015</td>\n",
       "      <td>24036</td>\n",
       "    </tr>\n",
       "    <tr>\n",
       "      <th>2</th>\n",
       "      <td>Bexley</td>\n",
       "      <td>2015</td>\n",
       "      <td>11990</td>\n",
       "    </tr>\n",
       "    <tr>\n",
       "      <th>3</th>\n",
       "      <td>Brent</td>\n",
       "      <td>2015</td>\n",
       "      <td>24883</td>\n",
       "    </tr>\n",
       "    <tr>\n",
       "      <th>4</th>\n",
       "      <td>Bromley</td>\n",
       "      <td>2015</td>\n",
       "      <td>20637</td>\n",
       "    </tr>\n",
       "  </tbody>\n",
       "</table>\n",
       "</div>"
      ],
      "text/plain": [
       "                borough  year  value\n",
       "0  Barking and Dagenham  2015  16346\n",
       "1                Barnet  2015  24036\n",
       "2                Bexley  2015  11990\n",
       "3                 Brent  2015  24883\n",
       "4               Bromley  2015  20637"
      ]
     },
     "execution_count": 37,
     "metadata": {},
     "output_type": "execute_result"
    }
   ],
   "source": [
    "df_hist.head()"
   ]
  },
  {
   "cell_type": "code",
   "execution_count": 38,
   "id": "019bf19b",
   "metadata": {},
   "outputs": [],
   "source": [
    "count, bin_edges = np.histogram(df_hist['value'])"
   ]
  },
  {
   "cell_type": "code",
   "execution_count": 39,
   "id": "4935c5f5",
   "metadata": {},
   "outputs": [
    {
     "data": {
      "image/png": "[encoded data removed]",
      "text/plain": [
       "<Figure size 720x360 with 1 Axes>"
      ]
     },
     "metadata": {
      "needs_background": "light"
     },
     "output_type": "display_data"
    }
   ],
   "source": [
    "df_hist['value'].plot(kind='hist', figsize=(10, 5), xticks=bin_edges)\n",
    "\n",
    "plt.title(\"Histogram of London's Crime in 2015\") # add a title to the histogram\n",
    "plt.ylabel('Number of Borough') # add y-label\n",
    "plt.xlabel('Number of Crime') # add x-label\n",
    "\n",
    "plt.show()"
   ]
  },
  {
   "cell_type": "markdown",
   "id": "c7489d6a",
   "metadata": {},
   "source": [
    "Histogram menunjukkan bahwa wilayah terbanyak berada pada rentang kasus kriminal sebanyak 19049-23773 kasus"
   ]
  },
  {
   "cell_type": "markdown",
   "id": "2eaf0a92",
   "metadata": {},
   "source": [
    "## Bar Chart\n",
    "Bar chart digunakan untuk melihat banyaknya kasus pencurian di wilayah Greenwich dari tahun 2008 - 2016"
   ]
  },
  {
   "cell_type": "code",
   "execution_count": 40,
   "id": "4b100ef7",
   "metadata": {},
   "outputs": [],
   "source": [
    "df_bar = df.copy()"
   ]
  },
  {
   "cell_type": "code",
   "execution_count": 41,
   "id": "85e66097",
   "metadata": {},
   "outputs": [
    {
     "data": {
      "text/html": [
       "<div>\n",
       "<style scoped>\n",
       "    .dataframe tbody tr th:only-of-type {\n",
       "        vertical-align: middle;\n",
       "    }\n",
       "\n",
       "    .dataframe tbody tr th {\n",
       "        vertical-align: top;\n",
       "    }\n",
       "\n",
       "    .dataframe thead th {\n",
       "        text-align: right;\n",
       "    }\n",
       "</style>\n",
       "<table border=\"1\" class=\"dataframe\">\n",
       "  <thead>\n",
       "    <tr style=\"text-align: right;\">\n",
       "      <th></th>\n",
       "      <th>lsoa_code</th>\n",
       "      <th>borough</th>\n",
       "      <th>major_category</th>\n",
       "      <th>minor_category</th>\n",
       "      <th>value</th>\n",
       "      <th>year</th>\n",
       "      <th>month</th>\n",
       "    </tr>\n",
       "  </thead>\n",
       "  <tbody>\n",
       "    <tr>\n",
       "      <th>0</th>\n",
       "      <td>E01001116</td>\n",
       "      <td>Croydon</td>\n",
       "      <td>Burglary</td>\n",
       "      <td>Burglary in Other Buildings</td>\n",
       "      <td>0</td>\n",
       "      <td>2016</td>\n",
       "      <td>11</td>\n",
       "    </tr>\n",
       "    <tr>\n",
       "      <th>1</th>\n",
       "      <td>E01001646</td>\n",
       "      <td>Greenwich</td>\n",
       "      <td>Violence Against the Person</td>\n",
       "      <td>Other violence</td>\n",
       "      <td>0</td>\n",
       "      <td>2016</td>\n",
       "      <td>11</td>\n",
       "    </tr>\n",
       "    <tr>\n",
       "      <th>2</th>\n",
       "      <td>E01000677</td>\n",
       "      <td>Bromley</td>\n",
       "      <td>Violence Against the Person</td>\n",
       "      <td>Other violence</td>\n",
       "      <td>0</td>\n",
       "      <td>2015</td>\n",
       "      <td>5</td>\n",
       "    </tr>\n",
       "    <tr>\n",
       "      <th>3</th>\n",
       "      <td>E01003774</td>\n",
       "      <td>Redbridge</td>\n",
       "      <td>Burglary</td>\n",
       "      <td>Burglary in Other Buildings</td>\n",
       "      <td>0</td>\n",
       "      <td>2016</td>\n",
       "      <td>3</td>\n",
       "    </tr>\n",
       "    <tr>\n",
       "      <th>4</th>\n",
       "      <td>E01004563</td>\n",
       "      <td>Wandsworth</td>\n",
       "      <td>Robbery</td>\n",
       "      <td>Personal Property</td>\n",
       "      <td>0</td>\n",
       "      <td>2008</td>\n",
       "      <td>6</td>\n",
       "    </tr>\n",
       "  </tbody>\n",
       "</table>\n",
       "</div>"
      ],
      "text/plain": [
       "   lsoa_code     borough               major_category  \\\n",
       "0  E01001116     Croydon                     Burglary   \n",
       "1  E01001646   Greenwich  Violence Against the Person   \n",
       "2  E01000677     Bromley  Violence Against the Person   \n",
       "3  E01003774   Redbridge                     Burglary   \n",
       "4  E01004563  Wandsworth                      Robbery   \n",
       "\n",
       "                minor_category  value  year  month  \n",
       "0  Burglary in Other Buildings      0  2016     11  \n",
       "1               Other violence      0  2016     11  \n",
       "2               Other violence      0  2015      5  \n",
       "3  Burglary in Other Buildings      0  2016      3  \n",
       "4            Personal Property      0  2008      6  "
      ]
     },
     "execution_count": 41,
     "metadata": {},
     "output_type": "execute_result"
    }
   ],
   "source": [
    "df_bar.head()"
   ]
  },
  {
   "cell_type": "code",
   "execution_count": 42,
   "id": "43738952",
   "metadata": {},
   "outputs": [],
   "source": [
    "df_bar = df_bar[['borough', 'major_category', 'value','year']]"
   ]
  },
  {
   "cell_type": "code",
   "execution_count": 43,
   "id": "e8f13809",
   "metadata": {
    "scrolled": true
   },
   "outputs": [],
   "source": [
    "df_bar = df_bar[(df_bar['borough'] == \"Greenwich\")&(df_bar['major_category'] == 'Robbery')]"
   ]
  },
  {
   "cell_type": "code",
   "execution_count": 44,
   "id": "a4783053",
   "metadata": {},
   "outputs": [
    {
     "data": {
      "text/plain": [
       "(30240, 4)"
      ]
     },
     "execution_count": 44,
     "metadata": {},
     "output_type": "execute_result"
    }
   ],
   "source": [
    "df_bar.shape"
   ]
  },
  {
   "cell_type": "code",
   "execution_count": 45,
   "id": "0bb36cdc",
   "metadata": {},
   "outputs": [
    {
     "data": {
      "text/html": [
       "<div>\n",
       "<style scoped>\n",
       "    .dataframe tbody tr th:only-of-type {\n",
       "        vertical-align: middle;\n",
       "    }\n",
       "\n",
       "    .dataframe tbody tr th {\n",
       "        vertical-align: top;\n",
       "    }\n",
       "\n",
       "    .dataframe thead th {\n",
       "        text-align: right;\n",
       "    }\n",
       "</style>\n",
       "<table border=\"1\" class=\"dataframe\">\n",
       "  <thead>\n",
       "    <tr style=\"text-align: right;\">\n",
       "      <th></th>\n",
       "      <th>borough</th>\n",
       "      <th>major_category</th>\n",
       "      <th>value</th>\n",
       "      <th>year</th>\n",
       "    </tr>\n",
       "  </thead>\n",
       "  <tbody>\n",
       "    <tr>\n",
       "      <th>333</th>\n",
       "      <td>Greenwich</td>\n",
       "      <td>Robbery</td>\n",
       "      <td>0</td>\n",
       "      <td>2015</td>\n",
       "    </tr>\n",
       "    <tr>\n",
       "      <th>335</th>\n",
       "      <td>Greenwich</td>\n",
       "      <td>Robbery</td>\n",
       "      <td>0</td>\n",
       "      <td>2009</td>\n",
       "    </tr>\n",
       "    <tr>\n",
       "      <th>728</th>\n",
       "      <td>Greenwich</td>\n",
       "      <td>Robbery</td>\n",
       "      <td>0</td>\n",
       "      <td>2013</td>\n",
       "    </tr>\n",
       "    <tr>\n",
       "      <th>941</th>\n",
       "      <td>Greenwich</td>\n",
       "      <td>Robbery</td>\n",
       "      <td>1</td>\n",
       "      <td>2016</td>\n",
       "    </tr>\n",
       "    <tr>\n",
       "      <th>1123</th>\n",
       "      <td>Greenwich</td>\n",
       "      <td>Robbery</td>\n",
       "      <td>0</td>\n",
       "      <td>2009</td>\n",
       "    </tr>\n",
       "  </tbody>\n",
       "</table>\n",
       "</div>"
      ],
      "text/plain": [
       "        borough major_category  value  year\n",
       "333   Greenwich        Robbery      0  2015\n",
       "335   Greenwich        Robbery      0  2009\n",
       "728   Greenwich        Robbery      0  2013\n",
       "941   Greenwich        Robbery      1  2016\n",
       "1123  Greenwich        Robbery      0  2009"
      ]
     },
     "execution_count": 45,
     "metadata": {},
     "output_type": "execute_result"
    }
   ],
   "source": [
    "df_bar.head()"
   ]
  },
  {
   "cell_type": "code",
   "execution_count": 46,
   "id": "977c0a5b",
   "metadata": {},
   "outputs": [],
   "source": [
    "df_bar = df_bar.groupby(['major_category','year'], axis=0).sum().reset_index()"
   ]
  },
  {
   "cell_type": "code",
   "execution_count": 47,
   "id": "255d78d5",
   "metadata": {},
   "outputs": [
    {
     "data": {
      "text/html": [
       "<div>\n",
       "<style scoped>\n",
       "    .dataframe tbody tr th:only-of-type {\n",
       "        vertical-align: middle;\n",
       "    }\n",
       "\n",
       "    .dataframe tbody tr th {\n",
       "        vertical-align: top;\n",
       "    }\n",
       "\n",
       "    .dataframe thead th {\n",
       "        text-align: right;\n",
       "    }\n",
       "</style>\n",
       "<table border=\"1\" class=\"dataframe\">\n",
       "  <thead>\n",
       "    <tr style=\"text-align: right;\">\n",
       "      <th></th>\n",
       "      <th>major_category</th>\n",
       "      <th>year</th>\n",
       "      <th>value</th>\n",
       "    </tr>\n",
       "  </thead>\n",
       "  <tbody>\n",
       "    <tr>\n",
       "      <th>0</th>\n",
       "      <td>Robbery</td>\n",
       "      <td>2008</td>\n",
       "      <td>898</td>\n",
       "    </tr>\n",
       "    <tr>\n",
       "      <th>1</th>\n",
       "      <td>Robbery</td>\n",
       "      <td>2009</td>\n",
       "      <td>680</td>\n",
       "    </tr>\n",
       "    <tr>\n",
       "      <th>2</th>\n",
       "      <td>Robbery</td>\n",
       "      <td>2010</td>\n",
       "      <td>711</td>\n",
       "    </tr>\n",
       "    <tr>\n",
       "      <th>3</th>\n",
       "      <td>Robbery</td>\n",
       "      <td>2011</td>\n",
       "      <td>741</td>\n",
       "    </tr>\n",
       "    <tr>\n",
       "      <th>4</th>\n",
       "      <td>Robbery</td>\n",
       "      <td>2012</td>\n",
       "      <td>580</td>\n",
       "    </tr>\n",
       "  </tbody>\n",
       "</table>\n",
       "</div>"
      ],
      "text/plain": [
       "  major_category  year  value\n",
       "0        Robbery  2008    898\n",
       "1        Robbery  2009    680\n",
       "2        Robbery  2010    711\n",
       "3        Robbery  2011    741\n",
       "4        Robbery  2012    580"
      ]
     },
     "execution_count": 47,
     "metadata": {},
     "output_type": "execute_result"
    }
   ],
   "source": [
    "df_bar.head()"
   ]
  },
  {
   "cell_type": "code",
   "execution_count": 48,
   "id": "8a993e3e",
   "metadata": {},
   "outputs": [
    {
     "data": {
      "text/plain": [
       "(9, 3)"
      ]
     },
     "execution_count": 48,
     "metadata": {},
     "output_type": "execute_result"
    }
   ],
   "source": [
    "df_bar.shape"
   ]
  },
  {
   "cell_type": "code",
   "execution_count": 49,
   "id": "13e67ff1",
   "metadata": {},
   "outputs": [],
   "source": [
    "df_bar.set_index('year',inplace=True)"
   ]
  },
  {
   "cell_type": "code",
   "execution_count": 50,
   "id": "d42861b5",
   "metadata": {},
   "outputs": [],
   "source": [
    "df_barplt = df_bar.loc[:,'value']"
   ]
  },
  {
   "cell_type": "code",
   "execution_count": 242,
   "id": "c463b05c",
   "metadata": {},
   "outputs": [
    {
     "data": {
      "image/png": "[encoded data removed]",
      "text/plain": [
       "<Figure size 720x432 with 1 Axes>"
      ]
     },
     "metadata": {
      "needs_background": "light"
     },
     "output_type": "display_data"
    }
   ],
   "source": [
    "df_barplt.plot(kind='bar', figsize=(10, 6))\n",
    "\n",
    "plt.xlabel('Year') # add to x-label to the plot\n",
    "plt.ylabel('Robbery Case') # add y-label to the plot\n",
    "plt.title('Robbery Case in Greenwich from 2008 to 2016') # add title to the plot\n",
    "\n",
    "plt.show()"
   ]
  },
  {
   "cell_type": "markdown",
   "id": "70132df2",
   "metadata": {},
   "source": [
    "Data menunjukkan bahwa kasus pencurian terbanyak terjadi pada tahun 2008 dan terendah 2015 dengan kasus yang tampak fluktuatif"
   ]
  },
  {
   "cell_type": "markdown",
   "id": "d97d6b1f",
   "metadata": {},
   "source": [
    "## Pie Chart\n",
    "Pie chart digunakan untuk melihat proporsi kategori kriminal di wilayah Bromley pada tahun 2010"
   ]
  },
  {
   "cell_type": "code",
   "execution_count": 52,
   "id": "4e826d8a",
   "metadata": {},
   "outputs": [],
   "source": [
    "df_pie = df.copy()"
   ]
  },
  {
   "cell_type": "code",
   "execution_count": 53,
   "id": "993764eb",
   "metadata": {},
   "outputs": [],
   "source": [
    "df_pie = df[['borough','major_category','value','year']]"
   ]
  },
  {
   "cell_type": "code",
   "execution_count": 54,
   "id": "6d3bf38d",
   "metadata": {},
   "outputs": [
    {
     "data": {
      "text/html": [
       "<div>\n",
       "<style scoped>\n",
       "    .dataframe tbody tr th:only-of-type {\n",
       "        vertical-align: middle;\n",
       "    }\n",
       "\n",
       "    .dataframe tbody tr th {\n",
       "        vertical-align: top;\n",
       "    }\n",
       "\n",
       "    .dataframe thead th {\n",
       "        text-align: right;\n",
       "    }\n",
       "</style>\n",
       "<table border=\"1\" class=\"dataframe\">\n",
       "  <thead>\n",
       "    <tr style=\"text-align: right;\">\n",
       "      <th></th>\n",
       "      <th>borough</th>\n",
       "      <th>major_category</th>\n",
       "      <th>value</th>\n",
       "      <th>year</th>\n",
       "    </tr>\n",
       "  </thead>\n",
       "  <tbody>\n",
       "    <tr>\n",
       "      <th>0</th>\n",
       "      <td>Croydon</td>\n",
       "      <td>Burglary</td>\n",
       "      <td>0</td>\n",
       "      <td>2016</td>\n",
       "    </tr>\n",
       "    <tr>\n",
       "      <th>1</th>\n",
       "      <td>Greenwich</td>\n",
       "      <td>Violence Against the Person</td>\n",
       "      <td>0</td>\n",
       "      <td>2016</td>\n",
       "    </tr>\n",
       "    <tr>\n",
       "      <th>2</th>\n",
       "      <td>Bromley</td>\n",
       "      <td>Violence Against the Person</td>\n",
       "      <td>0</td>\n",
       "      <td>2015</td>\n",
       "    </tr>\n",
       "    <tr>\n",
       "      <th>3</th>\n",
       "      <td>Redbridge</td>\n",
       "      <td>Burglary</td>\n",
       "      <td>0</td>\n",
       "      <td>2016</td>\n",
       "    </tr>\n",
       "    <tr>\n",
       "      <th>4</th>\n",
       "      <td>Wandsworth</td>\n",
       "      <td>Robbery</td>\n",
       "      <td>0</td>\n",
       "      <td>2008</td>\n",
       "    </tr>\n",
       "  </tbody>\n",
       "</table>\n",
       "</div>"
      ],
      "text/plain": [
       "      borough               major_category  value  year\n",
       "0     Croydon                     Burglary      0  2016\n",
       "1   Greenwich  Violence Against the Person      0  2016\n",
       "2     Bromley  Violence Against the Person      0  2015\n",
       "3   Redbridge                     Burglary      0  2016\n",
       "4  Wandsworth                      Robbery      0  2008"
      ]
     },
     "execution_count": 54,
     "metadata": {},
     "output_type": "execute_result"
    }
   ],
   "source": [
    "df_pie.head()"
   ]
  },
  {
   "cell_type": "code",
   "execution_count": 55,
   "id": "7badb807",
   "metadata": {},
   "outputs": [],
   "source": [
    "df_pie = df_pie[(df_pie['borough'] == 'Bromley')&(df_pie['year']== 2010)]"
   ]
  },
  {
   "cell_type": "code",
   "execution_count": 56,
   "id": "6a8dab59",
   "metadata": {},
   "outputs": [
    {
     "data": {
      "text/html": [
       "<div>\n",
       "<style scoped>\n",
       "    .dataframe tbody tr th:only-of-type {\n",
       "        vertical-align: middle;\n",
       "    }\n",
       "\n",
       "    .dataframe tbody tr th {\n",
       "        vertical-align: top;\n",
       "    }\n",
       "\n",
       "    .dataframe thead th {\n",
       "        text-align: right;\n",
       "    }\n",
       "</style>\n",
       "<table border=\"1\" class=\"dataframe\">\n",
       "  <thead>\n",
       "    <tr style=\"text-align: right;\">\n",
       "      <th></th>\n",
       "      <th>borough</th>\n",
       "      <th>major_category</th>\n",
       "      <th>value</th>\n",
       "      <th>year</th>\n",
       "    </tr>\n",
       "  </thead>\n",
       "  <tbody>\n",
       "    <tr>\n",
       "      <th>183</th>\n",
       "      <td>Bromley</td>\n",
       "      <td>Robbery</td>\n",
       "      <td>0</td>\n",
       "      <td>2010</td>\n",
       "    </tr>\n",
       "    <tr>\n",
       "      <th>328</th>\n",
       "      <td>Bromley</td>\n",
       "      <td>Violence Against the Person</td>\n",
       "      <td>2</td>\n",
       "      <td>2010</td>\n",
       "    </tr>\n",
       "    <tr>\n",
       "      <th>468</th>\n",
       "      <td>Bromley</td>\n",
       "      <td>Theft and Handling</td>\n",
       "      <td>1</td>\n",
       "      <td>2010</td>\n",
       "    </tr>\n",
       "    <tr>\n",
       "      <th>547</th>\n",
       "      <td>Bromley</td>\n",
       "      <td>Theft and Handling</td>\n",
       "      <td>0</td>\n",
       "      <td>2010</td>\n",
       "    </tr>\n",
       "    <tr>\n",
       "      <th>718</th>\n",
       "      <td>Bromley</td>\n",
       "      <td>Theft and Handling</td>\n",
       "      <td>1</td>\n",
       "      <td>2010</td>\n",
       "    </tr>\n",
       "  </tbody>\n",
       "</table>\n",
       "</div>"
      ],
      "text/plain": [
       "     borough               major_category  value  year\n",
       "183  Bromley                      Robbery      0  2010\n",
       "328  Bromley  Violence Against the Person      2  2010\n",
       "468  Bromley           Theft and Handling      1  2010\n",
       "547  Bromley           Theft and Handling      0  2010\n",
       "718  Bromley           Theft and Handling      1  2010"
      ]
     },
     "execution_count": 56,
     "metadata": {},
     "output_type": "execute_result"
    }
   ],
   "source": [
    "df_pie.head()"
   ]
  },
  {
   "cell_type": "code",
   "execution_count": 57,
   "id": "e50bf3c2",
   "metadata": {},
   "outputs": [],
   "source": [
    "df_pie = df_pie.groupby(['major_category','year'], axis=0).sum().reset_index()"
   ]
  },
  {
   "cell_type": "code",
   "execution_count": 58,
   "id": "c5d477e2",
   "metadata": {},
   "outputs": [],
   "source": [
    "df_pie.set_index('major_category',inplace=True)"
   ]
  },
  {
   "cell_type": "code",
   "execution_count": 59,
   "id": "cd65abbd",
   "metadata": {},
   "outputs": [],
   "source": [
    "df_pie = df_pie[df_pie['value']!=0]"
   ]
  },
  {
   "cell_type": "code",
   "execution_count": 60,
   "id": "9cfd25a0",
   "metadata": {},
   "outputs": [
    {
     "data": {
      "image/png": "[encoded data removed]",
      "text/plain": [
       "<Figure size 1080x432 with 1 Axes>"
      ]
     },
     "metadata": {},
     "output_type": "display_data"
    }
   ],
   "source": [
    "explode_list = [0, 0, 0.1, 0.1, 0.1, 0,0]\n",
    "df_pie['value'].plot(kind='pie',\n",
    "                            figsize=(15, 6),\n",
    "                            autopct='%1.1f%%', \n",
    "                            startangle=90,    \n",
    "                            shadow=True,       \n",
    "                            labels=None,         \n",
    "                            pctdistance=1.12,     \n",
    "                            explode=explode_list            \n",
    "                            )\n",
    "\n",
    "plt.title('Crime Category in Bromley 2010')\n",
    "plt.axis('equal')\n",
    "plt.legend(labels=df_pie.index, loc='upper left') \n",
    "\n",
    "plt.show()"
   ]
  },
  {
   "cell_type": "markdown",
   "id": "06a1e2a6",
   "metadata": {},
   "source": [
    "Data menunjukkan bahwa proporsi kategori kriminal terbesar di Bromley pada tahun 2010 adalah 37.4%"
   ]
  },
  {
   "cell_type": "markdown",
   "id": "424d1850",
   "metadata": {},
   "source": [
    "## Box Plot\n",
    "Box plot digunakan untuk membandingkan distribusi kriminalitas antara Newham dan Candem"
   ]
  },
  {
   "cell_type": "code",
   "execution_count": 61,
   "id": "e56a1861",
   "metadata": {},
   "outputs": [],
   "source": [
    "df_bxplt = df_topcrime.copy().transpose()"
   ]
  },
  {
   "cell_type": "code",
   "execution_count": 62,
   "id": "e88ebcd9",
   "metadata": {},
   "outputs": [
    {
     "data": {
      "text/html": [
       "<div>\n",
       "<style scoped>\n",
       "    .dataframe tbody tr th:only-of-type {\n",
       "        vertical-align: middle;\n",
       "    }\n",
       "\n",
       "    .dataframe tbody tr th {\n",
       "        vertical-align: top;\n",
       "    }\n",
       "\n",
       "    .dataframe thead th {\n",
       "        text-align: right;\n",
       "    }\n",
       "</style>\n",
       "<table border=\"1\" class=\"dataframe\">\n",
       "  <thead>\n",
       "    <tr style=\"text-align: right;\">\n",
       "      <th></th>\n",
       "      <th>2008</th>\n",
       "      <th>2009</th>\n",
       "      <th>2010</th>\n",
       "      <th>2011</th>\n",
       "      <th>2012</th>\n",
       "      <th>2013</th>\n",
       "      <th>2014</th>\n",
       "      <th>2015</th>\n",
       "      <th>2016</th>\n",
       "    </tr>\n",
       "  </thead>\n",
       "  <tbody>\n",
       "    <tr>\n",
       "      <th>Westminster</th>\n",
       "      <td>47846</td>\n",
       "      <td>48456</td>\n",
       "      <td>48116</td>\n",
       "      <td>54243</td>\n",
       "      <td>59226</td>\n",
       "      <td>53852</td>\n",
       "      <td>47564</td>\n",
       "      <td>47395</td>\n",
       "      <td>48330</td>\n",
       "    </tr>\n",
       "    <tr>\n",
       "      <th>Lambeth</th>\n",
       "      <td>31717</td>\n",
       "      <td>31225</td>\n",
       "      <td>31671</td>\n",
       "      <td>33224</td>\n",
       "      <td>33473</td>\n",
       "      <td>31868</td>\n",
       "      <td>31765</td>\n",
       "      <td>33164</td>\n",
       "      <td>34071</td>\n",
       "    </tr>\n",
       "    <tr>\n",
       "      <th>Southwark</th>\n",
       "      <td>33470</td>\n",
       "      <td>30623</td>\n",
       "      <td>31320</td>\n",
       "      <td>30723</td>\n",
       "      <td>30737</td>\n",
       "      <td>31128</td>\n",
       "      <td>28912</td>\n",
       "      <td>30260</td>\n",
       "      <td>31636</td>\n",
       "    </tr>\n",
       "    <tr>\n",
       "      <th>Camden</th>\n",
       "      <td>32010</td>\n",
       "      <td>31612</td>\n",
       "      <td>31804</td>\n",
       "      <td>33956</td>\n",
       "      <td>31472</td>\n",
       "      <td>28435</td>\n",
       "      <td>27198</td>\n",
       "      <td>29477</td>\n",
       "      <td>29183</td>\n",
       "    </tr>\n",
       "    <tr>\n",
       "      <th>Newham</th>\n",
       "      <td>29752</td>\n",
       "      <td>28610</td>\n",
       "      <td>30728</td>\n",
       "      <td>27978</td>\n",
       "      <td>30067</td>\n",
       "      <td>27577</td>\n",
       "      <td>28005</td>\n",
       "      <td>29217</td>\n",
       "      <td>30090</td>\n",
       "    </tr>\n",
       "  </tbody>\n",
       "</table>\n",
       "</div>"
      ],
      "text/plain": [
       "              2008   2009   2010   2011   2012   2013   2014   2015   2016\n",
       "Westminster  47846  48456  48116  54243  59226  53852  47564  47395  48330\n",
       "Lambeth      31717  31225  31671  33224  33473  31868  31765  33164  34071\n",
       "Southwark    33470  30623  31320  30723  30737  31128  28912  30260  31636\n",
       "Camden       32010  31612  31804  33956  31472  28435  27198  29477  29183\n",
       "Newham       29752  28610  30728  27978  30067  27577  28005  29217  30090"
      ]
     },
     "execution_count": 62,
     "metadata": {},
     "output_type": "execute_result"
    }
   ],
   "source": [
    "df_bxplt.head()"
   ]
  },
  {
   "cell_type": "code",
   "execution_count": 63,
   "id": "fa1ce67a",
   "metadata": {},
   "outputs": [],
   "source": [
    "df_bxplt = df_bxplt.loc[['Newham','Camden']].transpose()"
   ]
  },
  {
   "cell_type": "code",
   "execution_count": 64,
   "id": "685760bb",
   "metadata": {},
   "outputs": [
    {
     "data": {
      "text/html": [
       "<div>\n",
       "<style scoped>\n",
       "    .dataframe tbody tr th:only-of-type {\n",
       "        vertical-align: middle;\n",
       "    }\n",
       "\n",
       "    .dataframe tbody tr th {\n",
       "        vertical-align: top;\n",
       "    }\n",
       "\n",
       "    .dataframe thead th {\n",
       "        text-align: right;\n",
       "    }\n",
       "</style>\n",
       "<table border=\"1\" class=\"dataframe\">\n",
       "  <thead>\n",
       "    <tr style=\"text-align: right;\">\n",
       "      <th></th>\n",
       "      <th>Newham</th>\n",
       "      <th>Camden</th>\n",
       "    </tr>\n",
       "  </thead>\n",
       "  <tbody>\n",
       "    <tr>\n",
       "      <th>2008</th>\n",
       "      <td>29752</td>\n",
       "      <td>32010</td>\n",
       "    </tr>\n",
       "    <tr>\n",
       "      <th>2009</th>\n",
       "      <td>28610</td>\n",
       "      <td>31612</td>\n",
       "    </tr>\n",
       "    <tr>\n",
       "      <th>2010</th>\n",
       "      <td>30728</td>\n",
       "      <td>31804</td>\n",
       "    </tr>\n",
       "    <tr>\n",
       "      <th>2011</th>\n",
       "      <td>27978</td>\n",
       "      <td>33956</td>\n",
       "    </tr>\n",
       "    <tr>\n",
       "      <th>2012</th>\n",
       "      <td>30067</td>\n",
       "      <td>31472</td>\n",
       "    </tr>\n",
       "  </tbody>\n",
       "</table>\n",
       "</div>"
      ],
      "text/plain": [
       "      Newham  Camden\n",
       "2008   29752   32010\n",
       "2009   28610   31612\n",
       "2010   30728   31804\n",
       "2011   27978   33956\n",
       "2012   30067   31472"
      ]
     },
     "execution_count": 64,
     "metadata": {},
     "output_type": "execute_result"
    }
   ],
   "source": [
    "df_bxplt.head()"
   ]
  },
  {
   "cell_type": "code",
   "execution_count": 65,
   "id": "1eefbbd1",
   "metadata": {},
   "outputs": [
    {
     "data": {
      "text/html": [
       "<div>\n",
       "<style scoped>\n",
       "    .dataframe tbody tr th:only-of-type {\n",
       "        vertical-align: middle;\n",
       "    }\n",
       "\n",
       "    .dataframe tbody tr th {\n",
       "        vertical-align: top;\n",
       "    }\n",
       "\n",
       "    .dataframe thead th {\n",
       "        text-align: right;\n",
       "    }\n",
       "</style>\n",
       "<table border=\"1\" class=\"dataframe\">\n",
       "  <thead>\n",
       "    <tr style=\"text-align: right;\">\n",
       "      <th></th>\n",
       "      <th>Newham</th>\n",
       "      <th>Camden</th>\n",
       "    </tr>\n",
       "  </thead>\n",
       "  <tbody>\n",
       "    <tr>\n",
       "      <th>count</th>\n",
       "      <td>9.000000</td>\n",
       "      <td>9.000000</td>\n",
       "    </tr>\n",
       "    <tr>\n",
       "      <th>mean</th>\n",
       "      <td>29113.777778</td>\n",
       "      <td>30571.888889</td>\n",
       "    </tr>\n",
       "    <tr>\n",
       "      <th>std</th>\n",
       "      <td>1119.162385</td>\n",
       "      <td>2121.547633</td>\n",
       "    </tr>\n",
       "    <tr>\n",
       "      <th>min</th>\n",
       "      <td>27577.000000</td>\n",
       "      <td>27198.000000</td>\n",
       "    </tr>\n",
       "    <tr>\n",
       "      <th>25%</th>\n",
       "      <td>28005.000000</td>\n",
       "      <td>29183.000000</td>\n",
       "    </tr>\n",
       "    <tr>\n",
       "      <th>50%</th>\n",
       "      <td>29217.000000</td>\n",
       "      <td>31472.000000</td>\n",
       "    </tr>\n",
       "    <tr>\n",
       "      <th>75%</th>\n",
       "      <td>30067.000000</td>\n",
       "      <td>31804.000000</td>\n",
       "    </tr>\n",
       "    <tr>\n",
       "      <th>max</th>\n",
       "      <td>30728.000000</td>\n",
       "      <td>33956.000000</td>\n",
       "    </tr>\n",
       "  </tbody>\n",
       "</table>\n",
       "</div>"
      ],
      "text/plain": [
       "             Newham        Camden\n",
       "count      9.000000      9.000000\n",
       "mean   29113.777778  30571.888889\n",
       "std     1119.162385   2121.547633\n",
       "min    27577.000000  27198.000000\n",
       "25%    28005.000000  29183.000000\n",
       "50%    29217.000000  31472.000000\n",
       "75%    30067.000000  31804.000000\n",
       "max    30728.000000  33956.000000"
      ]
     },
     "execution_count": 65,
     "metadata": {},
     "output_type": "execute_result"
    }
   ],
   "source": [
    "df_bxplt.describe()"
   ]
  },
  {
   "cell_type": "code",
   "execution_count": 66,
   "id": "d1ece7cc",
   "metadata": {},
   "outputs": [
    {
     "data": {
      "image/png": "[encoded data removed]",
      "text/plain": [
       "<Figure size 576x432 with 1 Axes>"
      ]
     },
     "metadata": {
      "needs_background": "light"
     },
     "output_type": "display_data"
    }
   ],
   "source": [
    "df_bxplt.plot(kind='box', figsize=(8, 6))\n",
    "\n",
    "plt.title('Box plot of Newham and Camden Crime from 2008 - 2016')\n",
    "plt.ylabel('Number of Crime')\n",
    "\n",
    "plt.show()"
   ]
  },
  {
   "cell_type": "markdown",
   "id": "fd85dccc",
   "metadata": {},
   "source": [
    "pada box plot tampak bahwa rentang jumlah kriminalitas pada camden lebih besar"
   ]
  },
  {
   "cell_type": "markdown",
   "id": "d526d918",
   "metadata": {},
   "source": [
    "## Scatter Plot\n",
    "Scatter plot digunakan untuk melihat sebaran kriminal per bulan pada tahun 2016"
   ]
  },
  {
   "cell_type": "code",
   "execution_count": 67,
   "id": "114ea378",
   "metadata": {},
   "outputs": [
    {
     "data": {
      "text/plain": [
       "(13490604, 3)"
      ]
     },
     "execution_count": 67,
     "metadata": {},
     "output_type": "execute_result"
    }
   ],
   "source": [
    "df_area.shape"
   ]
  },
  {
   "cell_type": "code",
   "execution_count": 68,
   "id": "161bc776",
   "metadata": {},
   "outputs": [],
   "source": [
    "df_scatter = df_area.groupby(['year'], axis=0).sum().reset_index()"
   ]
  },
  {
   "cell_type": "code",
   "execution_count": 69,
   "id": "4d3ef757",
   "metadata": {},
   "outputs": [
    {
     "data": {
      "text/html": [
       "<div>\n",
       "<style scoped>\n",
       "    .dataframe tbody tr th:only-of-type {\n",
       "        vertical-align: middle;\n",
       "    }\n",
       "\n",
       "    .dataframe tbody tr th {\n",
       "        vertical-align: top;\n",
       "    }\n",
       "\n",
       "    .dataframe thead th {\n",
       "        text-align: right;\n",
       "    }\n",
       "</style>\n",
       "<table border=\"1\" class=\"dataframe\">\n",
       "  <thead>\n",
       "    <tr style=\"text-align: right;\">\n",
       "      <th></th>\n",
       "      <th>year</th>\n",
       "      <th>value</th>\n",
       "    </tr>\n",
       "  </thead>\n",
       "  <tbody>\n",
       "    <tr>\n",
       "      <th>0</th>\n",
       "      <td>2008</td>\n",
       "      <td>738641</td>\n",
       "    </tr>\n",
       "    <tr>\n",
       "      <th>1</th>\n",
       "      <td>2009</td>\n",
       "      <td>717214</td>\n",
       "    </tr>\n",
       "    <tr>\n",
       "      <th>2</th>\n",
       "      <td>2010</td>\n",
       "      <td>715324</td>\n",
       "    </tr>\n",
       "    <tr>\n",
       "      <th>3</th>\n",
       "      <td>2011</td>\n",
       "      <td>724915</td>\n",
       "    </tr>\n",
       "    <tr>\n",
       "      <th>4</th>\n",
       "      <td>2012</td>\n",
       "      <td>737329</td>\n",
       "    </tr>\n",
       "  </tbody>\n",
       "</table>\n",
       "</div>"
      ],
      "text/plain": [
       "   year   value\n",
       "0  2008  738641\n",
       "1  2009  717214\n",
       "2  2010  715324\n",
       "3  2011  724915\n",
       "4  2012  737329"
      ]
     },
     "execution_count": 69,
     "metadata": {},
     "output_type": "execute_result"
    }
   ],
   "source": [
    "df_scatter.head()"
   ]
  },
  {
   "cell_type": "code",
   "execution_count": 70,
   "id": "2aa98fb7",
   "metadata": {},
   "outputs": [
    {
     "data": {
      "text/html": [
       "<div>\n",
       "<style scoped>\n",
       "    .dataframe tbody tr th:only-of-type {\n",
       "        vertical-align: middle;\n",
       "    }\n",
       "\n",
       "    .dataframe tbody tr th {\n",
       "        vertical-align: top;\n",
       "    }\n",
       "\n",
       "    .dataframe thead th {\n",
       "        text-align: right;\n",
       "    }\n",
       "</style>\n",
       "<table border=\"1\" class=\"dataframe\">\n",
       "  <thead>\n",
       "    <tr style=\"text-align: right;\">\n",
       "      <th></th>\n",
       "      <th>year</th>\n",
       "      <th>value</th>\n",
       "    </tr>\n",
       "  </thead>\n",
       "  <tbody>\n",
       "    <tr>\n",
       "      <th>0</th>\n",
       "      <td>2008</td>\n",
       "      <td>738641</td>\n",
       "    </tr>\n",
       "    <tr>\n",
       "      <th>1</th>\n",
       "      <td>2009</td>\n",
       "      <td>717214</td>\n",
       "    </tr>\n",
       "    <tr>\n",
       "      <th>2</th>\n",
       "      <td>2010</td>\n",
       "      <td>715324</td>\n",
       "    </tr>\n",
       "    <tr>\n",
       "      <th>3</th>\n",
       "      <td>2011</td>\n",
       "      <td>724915</td>\n",
       "    </tr>\n",
       "    <tr>\n",
       "      <th>4</th>\n",
       "      <td>2012</td>\n",
       "      <td>737329</td>\n",
       "    </tr>\n",
       "    <tr>\n",
       "      <th>5</th>\n",
       "      <td>2013</td>\n",
       "      <td>686407</td>\n",
       "    </tr>\n",
       "    <tr>\n",
       "      <th>6</th>\n",
       "      <td>2014</td>\n",
       "      <td>680183</td>\n",
       "    </tr>\n",
       "    <tr>\n",
       "      <th>7</th>\n",
       "      <td>2015</td>\n",
       "      <td>711624</td>\n",
       "    </tr>\n",
       "    <tr>\n",
       "      <th>8</th>\n",
       "      <td>2016</td>\n",
       "      <td>736121</td>\n",
       "    </tr>\n",
       "  </tbody>\n",
       "</table>\n",
       "</div>"
      ],
      "text/plain": [
       "   year   value\n",
       "0  2008  738641\n",
       "1  2009  717214\n",
       "2  2010  715324\n",
       "3  2011  724915\n",
       "4  2012  737329\n",
       "5  2013  686407\n",
       "6  2014  680183\n",
       "7  2015  711624\n",
       "8  2016  736121"
      ]
     },
     "execution_count": 70,
     "metadata": {},
     "output_type": "execute_result"
    }
   ],
   "source": [
    "df_scatter"
   ]
  },
  {
   "cell_type": "code",
   "execution_count": 71,
   "id": "739edd76",
   "metadata": {},
   "outputs": [],
   "source": [
    "df_scatter = df[df['year'] == 2016]"
   ]
  },
  {
   "cell_type": "code",
   "execution_count": 72,
   "id": "76518e34",
   "metadata": {},
   "outputs": [],
   "source": [
    "df_scatter = df_scatter[['month','value','year']]"
   ]
  },
  {
   "cell_type": "code",
   "execution_count": 73,
   "id": "8e9b2e09",
   "metadata": {},
   "outputs": [
    {
     "data": {
      "text/html": [
       "<div>\n",
       "<style scoped>\n",
       "    .dataframe tbody tr th:only-of-type {\n",
       "        vertical-align: middle;\n",
       "    }\n",
       "\n",
       "    .dataframe tbody tr th {\n",
       "        vertical-align: top;\n",
       "    }\n",
       "\n",
       "    .dataframe thead th {\n",
       "        text-align: right;\n",
       "    }\n",
       "</style>\n",
       "<table border=\"1\" class=\"dataframe\">\n",
       "  <thead>\n",
       "    <tr style=\"text-align: right;\">\n",
       "      <th></th>\n",
       "      <th>month</th>\n",
       "      <th>value</th>\n",
       "      <th>year</th>\n",
       "    </tr>\n",
       "  </thead>\n",
       "  <tbody>\n",
       "    <tr>\n",
       "      <th>0</th>\n",
       "      <td>11</td>\n",
       "      <td>0</td>\n",
       "      <td>2016</td>\n",
       "    </tr>\n",
       "    <tr>\n",
       "      <th>1</th>\n",
       "      <td>11</td>\n",
       "      <td>0</td>\n",
       "      <td>2016</td>\n",
       "    </tr>\n",
       "    <tr>\n",
       "      <th>3</th>\n",
       "      <td>3</td>\n",
       "      <td>0</td>\n",
       "      <td>2016</td>\n",
       "    </tr>\n",
       "    <tr>\n",
       "      <th>9</th>\n",
       "      <td>8</td>\n",
       "      <td>1</td>\n",
       "      <td>2016</td>\n",
       "    </tr>\n",
       "    <tr>\n",
       "      <th>14</th>\n",
       "      <td>2</td>\n",
       "      <td>0</td>\n",
       "      <td>2016</td>\n",
       "    </tr>\n",
       "  </tbody>\n",
       "</table>\n",
       "</div>"
      ],
      "text/plain": [
       "    month  value  year\n",
       "0      11      0  2016\n",
       "1      11      0  2016\n",
       "3       3      0  2016\n",
       "9       8      1  2016\n",
       "14      2      0  2016"
      ]
     },
     "execution_count": 73,
     "metadata": {},
     "output_type": "execute_result"
    }
   ],
   "source": [
    "df_scatter.head()"
   ]
  },
  {
   "cell_type": "code",
   "execution_count": 74,
   "id": "03f2a927",
   "metadata": {},
   "outputs": [
    {
     "data": {
      "text/plain": [
       "(1498956, 3)"
      ]
     },
     "execution_count": 74,
     "metadata": {},
     "output_type": "execute_result"
    }
   ],
   "source": [
    "df_scatter.shape"
   ]
  },
  {
   "cell_type": "code",
   "execution_count": 75,
   "id": "0fdaec41",
   "metadata": {},
   "outputs": [],
   "source": [
    "df_scatter = df_scatter.groupby(['month','year'], axis=0).sum().reset_index()"
   ]
  },
  {
   "cell_type": "code",
   "execution_count": 76,
   "id": "5c4c8dcd",
   "metadata": {},
   "outputs": [
    {
     "data": {
      "text/html": [
       "<div>\n",
       "<style scoped>\n",
       "    .dataframe tbody tr th:only-of-type {\n",
       "        vertical-align: middle;\n",
       "    }\n",
       "\n",
       "    .dataframe tbody tr th {\n",
       "        vertical-align: top;\n",
       "    }\n",
       "\n",
       "    .dataframe thead th {\n",
       "        text-align: right;\n",
       "    }\n",
       "</style>\n",
       "<table border=\"1\" class=\"dataframe\">\n",
       "  <thead>\n",
       "    <tr style=\"text-align: right;\">\n",
       "      <th></th>\n",
       "      <th>month</th>\n",
       "      <th>year</th>\n",
       "      <th>value</th>\n",
       "    </tr>\n",
       "  </thead>\n",
       "  <tbody>\n",
       "    <tr>\n",
       "      <th>0</th>\n",
       "      <td>1</td>\n",
       "      <td>2016</td>\n",
       "      <td>58847</td>\n",
       "    </tr>\n",
       "    <tr>\n",
       "      <th>1</th>\n",
       "      <td>2</td>\n",
       "      <td>2016</td>\n",
       "      <td>56697</td>\n",
       "    </tr>\n",
       "    <tr>\n",
       "      <th>2</th>\n",
       "      <td>3</td>\n",
       "      <td>2016</td>\n",
       "      <td>59167</td>\n",
       "    </tr>\n",
       "    <tr>\n",
       "      <th>3</th>\n",
       "      <td>4</td>\n",
       "      <td>2016</td>\n",
       "      <td>58637</td>\n",
       "    </tr>\n",
       "    <tr>\n",
       "      <th>4</th>\n",
       "      <td>5</td>\n",
       "      <td>2016</td>\n",
       "      <td>63990</td>\n",
       "    </tr>\n",
       "  </tbody>\n",
       "</table>\n",
       "</div>"
      ],
      "text/plain": [
       "   month  year  value\n",
       "0      1  2016  58847\n",
       "1      2  2016  56697\n",
       "2      3  2016  59167\n",
       "3      4  2016  58637\n",
       "4      5  2016  63990"
      ]
     },
     "execution_count": 76,
     "metadata": {},
     "output_type": "execute_result"
    }
   ],
   "source": [
    "df_scatter.head()"
   ]
  },
  {
   "cell_type": "code",
   "execution_count": 77,
   "id": "43f3f83e",
   "metadata": {},
   "outputs": [
    {
     "data": {
      "image/png": "[encoded data removed]",
      "text/plain": [
       "<Figure size 720x432 with 1 Axes>"
      ]
     },
     "metadata": {
      "needs_background": "light"
     },
     "output_type": "display_data"
    }
   ],
   "source": [
    "df_scatter.plot(kind='scatter', x='month', y='value', figsize=(10, 6), color='darkblue')\n",
    "plt.title('Crime in London from January to December 2016')\n",
    "plt.xlabel('Month')\n",
    "plt.ylabel('Number of Crime')\n",
    "plt.show()"
   ]
  },
  {
   "cell_type": "markdown",
   "id": "db7412f0",
   "metadata": {},
   "source": [
    "Data menunjukkan bahwa sebaran kasus kriminal London pada tahun 2016 tidak menunjukkan trend tiap bulannya"
   ]
  },
  {
   "cell_type": "markdown",
   "id": "91e1899c",
   "metadata": {},
   "source": [
    "## Word Clouds"
   ]
  },
  {
   "cell_type": "code",
   "execution_count": 220,
   "id": "84de2729",
   "metadata": {},
   "outputs": [],
   "source": [
    "text = \"\""
   ]
  },
  {
   "cell_type": "code",
   "execution_count": 221,
   "id": "e9a9f30c",
   "metadata": {},
   "outputs": [],
   "source": [
    "df_word = df[(df['borough']=='Redbridge')&(df['year']==2009)]"
   ]
  },
  {
   "cell_type": "code",
   "execution_count": 222,
   "id": "5008cd05",
   "metadata": {},
   "outputs": [],
   "source": [
    "df_word = df_word[['minor_category','value']] "
   ]
  },
  {
   "cell_type": "code",
   "execution_count": 223,
   "id": "6a593b5a",
   "metadata": {},
   "outputs": [],
   "source": [
    "df_word = df_word.groupby(['minor_category'], axis=0).sum().reset_index()"
   ]
  },
  {
   "cell_type": "code",
   "execution_count": 224,
   "id": "831f0b5f",
   "metadata": {},
   "outputs": [
    {
     "data": {
      "text/html": [
       "<div>\n",
       "<style scoped>\n",
       "    .dataframe tbody tr th:only-of-type {\n",
       "        vertical-align: middle;\n",
       "    }\n",
       "\n",
       "    .dataframe tbody tr th {\n",
       "        vertical-align: top;\n",
       "    }\n",
       "\n",
       "    .dataframe thead th {\n",
       "        text-align: right;\n",
       "    }\n",
       "</style>\n",
       "<table border=\"1\" class=\"dataframe\">\n",
       "  <thead>\n",
       "    <tr style=\"text-align: right;\">\n",
       "      <th></th>\n",
       "      <th>minor_category</th>\n",
       "      <th>value</th>\n",
       "    </tr>\n",
       "  </thead>\n",
       "  <tbody>\n",
       "    <tr>\n",
       "      <th>0</th>\n",
       "      <td>Assault with Injury</td>\n",
       "      <td>1373</td>\n",
       "    </tr>\n",
       "    <tr>\n",
       "      <th>1</th>\n",
       "      <td>Burglary in Other Buildings</td>\n",
       "      <td>740</td>\n",
       "    </tr>\n",
       "    <tr>\n",
       "      <th>2</th>\n",
       "      <td>Burglary in a Dwelling</td>\n",
       "      <td>2581</td>\n",
       "    </tr>\n",
       "    <tr>\n",
       "      <th>3</th>\n",
       "      <td>Business Property</td>\n",
       "      <td>126</td>\n",
       "    </tr>\n",
       "    <tr>\n",
       "      <th>4</th>\n",
       "      <td>Common Assault</td>\n",
       "      <td>875</td>\n",
       "    </tr>\n",
       "  </tbody>\n",
       "</table>\n",
       "</div>"
      ],
      "text/plain": [
       "                minor_category  value\n",
       "0          Assault with Injury   1373\n",
       "1  Burglary in Other Buildings    740\n",
       "2       Burglary in a Dwelling   2581\n",
       "3            Business Property    126\n",
       "4               Common Assault    875"
      ]
     },
     "execution_count": 224,
     "metadata": {},
     "output_type": "execute_result"
    }
   ],
   "source": [
    "df_word.head()"
   ]
  },
  {
   "cell_type": "code",
   "execution_count": 225,
   "id": "92777db1",
   "metadata": {},
   "outputs": [
    {
     "data": {
      "text/plain": [
       "(32, 2)"
      ]
     },
     "execution_count": 225,
     "metadata": {},
     "output_type": "execute_result"
    }
   ],
   "source": [
    "df_word.shape"
   ]
  },
  {
   "cell_type": "code",
   "execution_count": 226,
   "id": "d5a9982f",
   "metadata": {},
   "outputs": [],
   "source": [
    "df_word.sort_values('value',inplace=True,ignore_index=True)"
   ]
  },
  {
   "cell_type": "code",
   "execution_count": 227,
   "id": "da9bbae0",
   "metadata": {},
   "outputs": [
    {
     "data": {
      "text/html": [
       "<div>\n",
       "<style scoped>\n",
       "    .dataframe tbody tr th:only-of-type {\n",
       "        vertical-align: middle;\n",
       "    }\n",
       "\n",
       "    .dataframe tbody tr th {\n",
       "        vertical-align: top;\n",
       "    }\n",
       "\n",
       "    .dataframe thead th {\n",
       "        text-align: right;\n",
       "    }\n",
       "</style>\n",
       "<table border=\"1\" class=\"dataframe\">\n",
       "  <thead>\n",
       "    <tr style=\"text-align: right;\">\n",
       "      <th></th>\n",
       "      <th>minor_category</th>\n",
       "      <th>value</th>\n",
       "    </tr>\n",
       "  </thead>\n",
       "  <tbody>\n",
       "    <tr>\n",
       "      <th>0</th>\n",
       "      <td>Rape</td>\n",
       "      <td>0</td>\n",
       "    </tr>\n",
       "    <tr>\n",
       "      <th>1</th>\n",
       "      <td>Other Sexual</td>\n",
       "      <td>0</td>\n",
       "    </tr>\n",
       "    <tr>\n",
       "      <th>2</th>\n",
       "      <td>Counted per Victim</td>\n",
       "      <td>0</td>\n",
       "    </tr>\n",
       "    <tr>\n",
       "      <th>3</th>\n",
       "      <td>Other Fraud &amp; Forgery</td>\n",
       "      <td>0</td>\n",
       "    </tr>\n",
       "    <tr>\n",
       "      <th>4</th>\n",
       "      <td>Murder</td>\n",
       "      <td>1</td>\n",
       "    </tr>\n",
       "  </tbody>\n",
       "</table>\n",
       "</div>"
      ],
      "text/plain": [
       "          minor_category  value\n",
       "0                   Rape      0\n",
       "1           Other Sexual      0\n",
       "2     Counted per Victim      0\n",
       "3  Other Fraud & Forgery      0\n",
       "4                 Murder      1"
      ]
     },
     "execution_count": 227,
     "metadata": {},
     "output_type": "execute_result"
    }
   ],
   "source": [
    "df_word.head()"
   ]
  },
  {
   "cell_type": "code",
   "execution_count": 235,
   "id": "86905b6c",
   "metadata": {},
   "outputs": [],
   "source": [
    "for i in range (len(df_word[\"minor_category\"])):\n",
    "    word = ((df_word['minor_category'][i])+' stop ')*(df_word['value'][i])\n",
    "    text += word"
   ]
  },
  {
   "cell_type": "code",
   "execution_count": 236,
   "id": "f1fd8991",
   "metadata": {},
   "outputs": [],
   "source": [
    "from wordcloud import WordCloud, STOPWORDS"
   ]
  },
  {
   "cell_type": "code",
   "execution_count": 238,
   "id": "77433c9d",
   "metadata": {},
   "outputs": [],
   "source": [
    "stopwords = set(STOPWORDS).update([' . '])"
   ]
  },
  {
   "cell_type": "code",
   "execution_count": 239,
   "id": "5798779b",
   "metadata": {},
   "outputs": [
    {
     "data": {
      "text/plain": [
       "20837"
      ]
     },
     "execution_count": 239,
     "metadata": {},
     "output_type": "execute_result"
    }
   ],
   "source": [
    "df_word['value'].sum()"
   ]
  },
  {
   "cell_type": "code",
   "execution_count": 240,
   "id": "22535ab6",
   "metadata": {},
   "outputs": [
    {
     "data": {
      "text/plain": [
       "<wordcloud.wordcloud.WordCloud at 0x1cf1558e370>"
      ]
     },
     "execution_count": 240,
     "metadata": {},
     "output_type": "execute_result"
    }
   ],
   "source": [
    "cloud = WordCloud(\n",
    "    background_color='white',\n",
    "    max_words=20837,\n",
    "    stopwords=stopwords\n",
    ")\n",
    "\n",
    "# generate the word cloud\n",
    "cloud.generate(text)"
   ]
  },
  {
   "cell_type": "code",
   "execution_count": 241,
   "id": "dbf993e0",
   "metadata": {},
   "outputs": [
    {
     "data": {
      "image/png": "[encoded data removed]",
      "text/plain": [
       "<Figure size 1008x1296 with 1 Axes>"
      ]
     },
     "metadata": {
      "needs_background": "light"
     },
     "output_type": "display_data"
    }
   ],
   "source": [
    "fig = plt.figure()\n",
    "fig.set_figwidth(14) \n",
    "fig.set_figheight(18) \n",
    "\n",
    "plt.imshow(cloud, interpolation='bilinear')\n",
    "plt.axis('off')\n",
    "plt.show()"
   ]
  },
  {
   "cell_type": "markdown",
   "id": "92f8d4b5",
   "metadata": {},
   "source": [
    "## Folium Maps"
   ]
  },
  {
   "cell_type": "markdown",
   "id": "da9c7b90",
   "metadata": {},
   "source": [
    "tidak terdapat data posisi dari wilayah"
   ]
  },
  {
   "cell_type": "code",
   "execution_count": null,
   "id": "ba719fc8",
   "metadata": {},
   "outputs": [],
   "source": []
  }
 ],
 "metadata": {
  "kernelspec": {
   "display_name": "Python 3",
   "language": "python",
   "name": "python3"
  },
  "language_info": {
   "codemirror_mode": {
    "name": "ipython",
    "version": 3
   },
   "file_extension": ".py",
   "mimetype": "text/x-python",
   "name": "python",
   "nbconvert_exporter": "python",
   "pygments_lexer": "ipython3",
   "version": "3.8.8"
  },
  "toc": {
   "base_numbering": 1,
   "nav_menu": {},
   "number_sections": true,
   "sideBar": true,
   "skip_h1_title": false,
   "title_cell": "Table of Contents",
   "title_sidebar": "Contents",
   "toc_cell": false,
   "toc_position": {},
   "toc_section_display": true,
   "toc_window_display": true
  }
 },
 "nbformat": 4,
 "nbformat_minor": 5
}
